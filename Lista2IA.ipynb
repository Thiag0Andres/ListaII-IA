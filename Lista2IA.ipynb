{
  "nbformat": 4,
  "nbformat_minor": 0,
  "metadata": {
    "colab": {
      "name": "Lista2IA.ipynb",
      "provenance": [],
      "collapsed_sections": [
        "ZpbRaZ_Bg7j4"
      ],
      "toc_visible": true
    },
    "kernelspec": {
      "name": "python3",
      "display_name": "Python 3"
    }
  },
  "cells": [
    {
      "cell_type": "markdown",
      "metadata": {
        "id": "XGwRE2Jq4DIW"
      },
      "source": [
        "#**Questão 1**"
      ]
    },
    {
      "cell_type": "markdown",
      "metadata": {
        "id": "GfXZlTUi4SHS"
      },
      "source": [
        "##**Imports necessários para rodar o código**"
      ]
    },
    {
      "cell_type": "code",
      "metadata": {
        "id": "mH4zSD_X4SUS"
      },
      "source": [
        "import pandas as pd\n",
        "from sklearn.preprocessing import LabelEncoder\n",
        "from sklearn.preprocessing import MinMaxScaler\n",
        "from sklearn.model_selection import train_test_split\n",
        "import keras\n",
        "from keras.models import Sequential\n",
        "from keras.layers import Dense\n",
        "from sklearn.metrics import confusion_matrix, accuracy_score, plot_confusion_matrix\n",
        "import numpy as np\n",
        "import seaborn as sn\n",
        "import matplotlib.pyplot as plt\n",
        "from sklearn.ensemble import RandomForestClassifier"
      ],
      "execution_count": null,
      "outputs": []
    },
    {
      "cell_type": "markdown",
      "metadata": {
        "id": "KyGoJSsl4my4"
      },
      "source": [
        "##**Pré-Processamento** :\n",
        "\n",
        "Para obter bons resultados, o passo mais importante é o pré-processamento, pois além do processo de preparação, organização e estruturação dos dados, é também um momento ideal para escolher quais dados incorporar de forma significativa em nosso conjunto de dados. Já que a qualidade dos dados influência significamente no resultado do modelo."
      ]
    },
    {
      "cell_type": "markdown",
      "metadata": {
        "id": "tAsB2s4U4rAL"
      },
      "source": [
        "###Inicializando a base: \n",
        "\n",
        "Primeiro a base é inicializada, depois foi feito um drop da primeira coluna que continha informações irrelvantes (os ids das instâncias), após isso foi feito um array numpy com os dados para ser utilizado posteriomente na plotagem do gráfico com a base sem a normalização."
      ]
    },
    {
      "cell_type": "code",
      "metadata": {
        "colab": {
          "base_uri": "https://localhost:8080/",
          "height": 424
        },
        "id": "Da-uFgBy4v72",
        "outputId": "0dbab8aa-6075-4b7a-dbbe-4a1228e501f8"
      },
      "source": [
        "data_set = pd.read_csv(\"https://raw.githubusercontent.com/Thiag0Andres/ListaII-IA/master/hcvdat0.csv\", sep = ',').drop(['Unnamed: 0'], axis=1)\n",
        "data_set"
      ],
      "execution_count": null,
      "outputs": [
        {
          "output_type": "execute_result",
          "data": {
            "text/html": [
              "<div>\n",
              "<style scoped>\n",
              "    .dataframe tbody tr th:only-of-type {\n",
              "        vertical-align: middle;\n",
              "    }\n",
              "\n",
              "    .dataframe tbody tr th {\n",
              "        vertical-align: top;\n",
              "    }\n",
              "\n",
              "    .dataframe thead th {\n",
              "        text-align: right;\n",
              "    }\n",
              "</style>\n",
              "<table border=\"1\" class=\"dataframe\">\n",
              "  <thead>\n",
              "    <tr style=\"text-align: right;\">\n",
              "      <th></th>\n",
              "      <th>Category</th>\n",
              "      <th>Age</th>\n",
              "      <th>Sex</th>\n",
              "      <th>ALB</th>\n",
              "      <th>ALP</th>\n",
              "      <th>ALT</th>\n",
              "      <th>AST</th>\n",
              "      <th>BIL</th>\n",
              "      <th>CHE</th>\n",
              "      <th>CHOL</th>\n",
              "      <th>CREA</th>\n",
              "      <th>GGT</th>\n",
              "      <th>PROT</th>\n",
              "    </tr>\n",
              "  </thead>\n",
              "  <tbody>\n",
              "    <tr>\n",
              "      <th>0</th>\n",
              "      <td>0=Blood Donor</td>\n",
              "      <td>32</td>\n",
              "      <td>m</td>\n",
              "      <td>38.5</td>\n",
              "      <td>52.5</td>\n",
              "      <td>7.7</td>\n",
              "      <td>22.1</td>\n",
              "      <td>7.5</td>\n",
              "      <td>6.93</td>\n",
              "      <td>3.23</td>\n",
              "      <td>106.0</td>\n",
              "      <td>12.1</td>\n",
              "      <td>69.0</td>\n",
              "    </tr>\n",
              "    <tr>\n",
              "      <th>1</th>\n",
              "      <td>0=Blood Donor</td>\n",
              "      <td>32</td>\n",
              "      <td>m</td>\n",
              "      <td>38.5</td>\n",
              "      <td>70.3</td>\n",
              "      <td>18.0</td>\n",
              "      <td>24.7</td>\n",
              "      <td>3.9</td>\n",
              "      <td>11.17</td>\n",
              "      <td>4.80</td>\n",
              "      <td>74.0</td>\n",
              "      <td>15.6</td>\n",
              "      <td>76.5</td>\n",
              "    </tr>\n",
              "    <tr>\n",
              "      <th>2</th>\n",
              "      <td>0=Blood Donor</td>\n",
              "      <td>32</td>\n",
              "      <td>m</td>\n",
              "      <td>46.9</td>\n",
              "      <td>74.7</td>\n",
              "      <td>36.2</td>\n",
              "      <td>52.6</td>\n",
              "      <td>6.1</td>\n",
              "      <td>8.84</td>\n",
              "      <td>5.20</td>\n",
              "      <td>86.0</td>\n",
              "      <td>33.2</td>\n",
              "      <td>79.3</td>\n",
              "    </tr>\n",
              "    <tr>\n",
              "      <th>3</th>\n",
              "      <td>0=Blood Donor</td>\n",
              "      <td>32</td>\n",
              "      <td>m</td>\n",
              "      <td>43.2</td>\n",
              "      <td>52.0</td>\n",
              "      <td>30.6</td>\n",
              "      <td>22.6</td>\n",
              "      <td>18.9</td>\n",
              "      <td>7.33</td>\n",
              "      <td>4.74</td>\n",
              "      <td>80.0</td>\n",
              "      <td>33.8</td>\n",
              "      <td>75.7</td>\n",
              "    </tr>\n",
              "    <tr>\n",
              "      <th>4</th>\n",
              "      <td>0=Blood Donor</td>\n",
              "      <td>32</td>\n",
              "      <td>m</td>\n",
              "      <td>39.2</td>\n",
              "      <td>74.1</td>\n",
              "      <td>32.6</td>\n",
              "      <td>24.8</td>\n",
              "      <td>9.6</td>\n",
              "      <td>9.15</td>\n",
              "      <td>4.32</td>\n",
              "      <td>76.0</td>\n",
              "      <td>29.9</td>\n",
              "      <td>68.7</td>\n",
              "    </tr>\n",
              "    <tr>\n",
              "      <th>...</th>\n",
              "      <td>...</td>\n",
              "      <td>...</td>\n",
              "      <td>...</td>\n",
              "      <td>...</td>\n",
              "      <td>...</td>\n",
              "      <td>...</td>\n",
              "      <td>...</td>\n",
              "      <td>...</td>\n",
              "      <td>...</td>\n",
              "      <td>...</td>\n",
              "      <td>...</td>\n",
              "      <td>...</td>\n",
              "      <td>...</td>\n",
              "    </tr>\n",
              "    <tr>\n",
              "      <th>610</th>\n",
              "      <td>3=Cirrhosis</td>\n",
              "      <td>62</td>\n",
              "      <td>f</td>\n",
              "      <td>32.0</td>\n",
              "      <td>416.6</td>\n",
              "      <td>5.9</td>\n",
              "      <td>110.3</td>\n",
              "      <td>50.0</td>\n",
              "      <td>5.57</td>\n",
              "      <td>6.30</td>\n",
              "      <td>55.7</td>\n",
              "      <td>650.9</td>\n",
              "      <td>68.5</td>\n",
              "    </tr>\n",
              "    <tr>\n",
              "      <th>611</th>\n",
              "      <td>3=Cirrhosis</td>\n",
              "      <td>64</td>\n",
              "      <td>f</td>\n",
              "      <td>24.0</td>\n",
              "      <td>102.8</td>\n",
              "      <td>2.9</td>\n",
              "      <td>44.4</td>\n",
              "      <td>20.0</td>\n",
              "      <td>1.54</td>\n",
              "      <td>3.02</td>\n",
              "      <td>63.0</td>\n",
              "      <td>35.9</td>\n",
              "      <td>71.3</td>\n",
              "    </tr>\n",
              "    <tr>\n",
              "      <th>612</th>\n",
              "      <td>3=Cirrhosis</td>\n",
              "      <td>64</td>\n",
              "      <td>f</td>\n",
              "      <td>29.0</td>\n",
              "      <td>87.3</td>\n",
              "      <td>3.5</td>\n",
              "      <td>99.0</td>\n",
              "      <td>48.0</td>\n",
              "      <td>1.66</td>\n",
              "      <td>3.63</td>\n",
              "      <td>66.7</td>\n",
              "      <td>64.2</td>\n",
              "      <td>82.0</td>\n",
              "    </tr>\n",
              "    <tr>\n",
              "      <th>613</th>\n",
              "      <td>3=Cirrhosis</td>\n",
              "      <td>46</td>\n",
              "      <td>f</td>\n",
              "      <td>33.0</td>\n",
              "      <td>NaN</td>\n",
              "      <td>39.0</td>\n",
              "      <td>62.0</td>\n",
              "      <td>20.0</td>\n",
              "      <td>3.56</td>\n",
              "      <td>4.20</td>\n",
              "      <td>52.0</td>\n",
              "      <td>50.0</td>\n",
              "      <td>71.0</td>\n",
              "    </tr>\n",
              "    <tr>\n",
              "      <th>614</th>\n",
              "      <td>3=Cirrhosis</td>\n",
              "      <td>59</td>\n",
              "      <td>f</td>\n",
              "      <td>36.0</td>\n",
              "      <td>NaN</td>\n",
              "      <td>100.0</td>\n",
              "      <td>80.0</td>\n",
              "      <td>12.0</td>\n",
              "      <td>9.07</td>\n",
              "      <td>5.30</td>\n",
              "      <td>67.0</td>\n",
              "      <td>34.0</td>\n",
              "      <td>68.0</td>\n",
              "    </tr>\n",
              "  </tbody>\n",
              "</table>\n",
              "<p>615 rows × 13 columns</p>\n",
              "</div>"
            ],
            "text/plain": [
              "          Category  Age Sex   ALB    ALP  ...    CHE  CHOL   CREA    GGT  PROT\n",
              "0    0=Blood Donor   32   m  38.5   52.5  ...   6.93  3.23  106.0   12.1  69.0\n",
              "1    0=Blood Donor   32   m  38.5   70.3  ...  11.17  4.80   74.0   15.6  76.5\n",
              "2    0=Blood Donor   32   m  46.9   74.7  ...   8.84  5.20   86.0   33.2  79.3\n",
              "3    0=Blood Donor   32   m  43.2   52.0  ...   7.33  4.74   80.0   33.8  75.7\n",
              "4    0=Blood Donor   32   m  39.2   74.1  ...   9.15  4.32   76.0   29.9  68.7\n",
              "..             ...  ...  ..   ...    ...  ...    ...   ...    ...    ...   ...\n",
              "610    3=Cirrhosis   62   f  32.0  416.6  ...   5.57  6.30   55.7  650.9  68.5\n",
              "611    3=Cirrhosis   64   f  24.0  102.8  ...   1.54  3.02   63.0   35.9  71.3\n",
              "612    3=Cirrhosis   64   f  29.0   87.3  ...   1.66  3.63   66.7   64.2  82.0\n",
              "613    3=Cirrhosis   46   f  33.0    NaN  ...   3.56  4.20   52.0   50.0  71.0\n",
              "614    3=Cirrhosis   59   f  36.0    NaN  ...   9.07  5.30   67.0   34.0  68.0\n",
              "\n",
              "[615 rows x 13 columns]"
            ]
          },
          "metadata": {
            "tags": []
          },
          "execution_count": 225
        }
      ]
    },
    {
      "cell_type": "markdown",
      "metadata": {
        "id": "wBy9Cq0KCnjb"
      },
      "source": [
        "###Valores Nulos: \n",
        "\n",
        "Verificando se existem valores nulos. Percebe-se que que existem alguns valores nulos, depois disso fazemos a remoção desses valores."
      ]
    },
    {
      "cell_type": "code",
      "metadata": {
        "colab": {
          "base_uri": "https://localhost:8080/"
        },
        "id": "TdRRn2sBCoER",
        "outputId": "ad0de005-b668-4fda-fb2c-f958dd39f73d"
      },
      "source": [
        "pd.isnull(data_set).sum()"
      ],
      "execution_count": null,
      "outputs": [
        {
          "output_type": "execute_result",
          "data": {
            "text/plain": [
              "Category     0\n",
              "Age          0\n",
              "Sex          0\n",
              "ALB          1\n",
              "ALP         18\n",
              "ALT          1\n",
              "AST          0\n",
              "BIL          0\n",
              "CHE          0\n",
              "CHOL        10\n",
              "CREA         0\n",
              "GGT          0\n",
              "PROT         1\n",
              "dtype: int64"
            ]
          },
          "metadata": {
            "tags": []
          },
          "execution_count": 226
        }
      ]
    },
    {
      "cell_type": "code",
      "metadata": {
        "colab": {
          "base_uri": "https://localhost:8080/"
        },
        "id": "afuvtpRRDp1L",
        "outputId": "f6d4d3c8-0273-4d82-cc88-b15cfd1b5f20"
      },
      "source": [
        "data_set = data_set.dropna(axis = 0)\n",
        "pd.isnull(data_set).sum()"
      ],
      "execution_count": null,
      "outputs": [
        {
          "output_type": "execute_result",
          "data": {
            "text/plain": [
              "Category    0\n",
              "Age         0\n",
              "Sex         0\n",
              "ALB         0\n",
              "ALP         0\n",
              "ALT         0\n",
              "AST         0\n",
              "BIL         0\n",
              "CHE         0\n",
              "CHOL        0\n",
              "CREA        0\n",
              "GGT         0\n",
              "PROT        0\n",
              "dtype: int64"
            ]
          },
          "metadata": {
            "tags": []
          },
          "execution_count": 227
        }
      ]
    },
    {
      "cell_type": "markdown",
      "metadata": {
        "id": "wgRxy9q1EKbl"
      },
      "source": [
        "###Modificação das Instâncias\n",
        "\n",
        "As instâncias correspondentes ao 0s=suspect Blood Donor foram atribuidos em uma nova variável para utilizarmos na validação. Além disso, foi adicionado 0 para Não doador e 1 para doador nas instâncias 1=Hepatitis, 2=Fibrosis e 3=Cirrhosis como: Não doador e 0=Blood Donor como: Doador. "
      ]
    },
    {
      "cell_type": "code",
      "metadata": {
        "colab": {
          "base_uri": "https://localhost:8080/",
          "height": 269
        },
        "id": "zHLMcIk8EK4h",
        "outputId": "eb6fc925-91ef-495b-c6ac-138cf4c687d3"
      },
      "source": [
        "data_set_suspect = data_set\n",
        "data_set_suspect = data_set[data_set['Category'] == '0s=suspect Blood Donor']\n",
        "data_set = data_set[data_set['Category'] != '0s=suspect Blood Donor']\n",
        "data_set_suspect"
      ],
      "execution_count": null,
      "outputs": [
        {
          "output_type": "execute_result",
          "data": {
            "text/html": [
              "<div>\n",
              "<style scoped>\n",
              "    .dataframe tbody tr th:only-of-type {\n",
              "        vertical-align: middle;\n",
              "    }\n",
              "\n",
              "    .dataframe tbody tr th {\n",
              "        vertical-align: top;\n",
              "    }\n",
              "\n",
              "    .dataframe thead th {\n",
              "        text-align: right;\n",
              "    }\n",
              "</style>\n",
              "<table border=\"1\" class=\"dataframe\">\n",
              "  <thead>\n",
              "    <tr style=\"text-align: right;\">\n",
              "      <th></th>\n",
              "      <th>Category</th>\n",
              "      <th>Age</th>\n",
              "      <th>Sex</th>\n",
              "      <th>ALB</th>\n",
              "      <th>ALP</th>\n",
              "      <th>ALT</th>\n",
              "      <th>AST</th>\n",
              "      <th>BIL</th>\n",
              "      <th>CHE</th>\n",
              "      <th>CHOL</th>\n",
              "      <th>CREA</th>\n",
              "      <th>GGT</th>\n",
              "      <th>PROT</th>\n",
              "    </tr>\n",
              "  </thead>\n",
              "  <tbody>\n",
              "    <tr>\n",
              "      <th>533</th>\n",
              "      <td>0s=suspect Blood Donor</td>\n",
              "      <td>47</td>\n",
              "      <td>m</td>\n",
              "      <td>22.5</td>\n",
              "      <td>124.0</td>\n",
              "      <td>79.5</td>\n",
              "      <td>46.7</td>\n",
              "      <td>2.3</td>\n",
              "      <td>6.83</td>\n",
              "      <td>4.30</td>\n",
              "      <td>170.0</td>\n",
              "      <td>345.6</td>\n",
              "      <td>58.6</td>\n",
              "    </tr>\n",
              "    <tr>\n",
              "      <th>534</th>\n",
              "      <td>0s=suspect Blood Donor</td>\n",
              "      <td>48</td>\n",
              "      <td>m</td>\n",
              "      <td>24.9</td>\n",
              "      <td>116.9</td>\n",
              "      <td>49.2</td>\n",
              "      <td>24.3</td>\n",
              "      <td>4.9</td>\n",
              "      <td>3.44</td>\n",
              "      <td>5.25</td>\n",
              "      <td>29.0</td>\n",
              "      <td>83.0</td>\n",
              "      <td>47.8</td>\n",
              "    </tr>\n",
              "    <tr>\n",
              "      <th>535</th>\n",
              "      <td>0s=suspect Blood Donor</td>\n",
              "      <td>49</td>\n",
              "      <td>m</td>\n",
              "      <td>21.6</td>\n",
              "      <td>42.2</td>\n",
              "      <td>9.5</td>\n",
              "      <td>10.6</td>\n",
              "      <td>2.4</td>\n",
              "      <td>3.75</td>\n",
              "      <td>3.01</td>\n",
              "      <td>64.0</td>\n",
              "      <td>38.9</td>\n",
              "      <td>44.8</td>\n",
              "    </tr>\n",
              "    <tr>\n",
              "      <th>536</th>\n",
              "      <td>0s=suspect Blood Donor</td>\n",
              "      <td>55</td>\n",
              "      <td>m</td>\n",
              "      <td>47.3</td>\n",
              "      <td>106.0</td>\n",
              "      <td>208.8</td>\n",
              "      <td>130.6</td>\n",
              "      <td>0.8</td>\n",
              "      <td>14.80</td>\n",
              "      <td>8.08</td>\n",
              "      <td>76.0</td>\n",
              "      <td>71.6</td>\n",
              "      <td>78.3</td>\n",
              "    </tr>\n",
              "    <tr>\n",
              "      <th>537</th>\n",
              "      <td>0s=suspect Blood Donor</td>\n",
              "      <td>71</td>\n",
              "      <td>m</td>\n",
              "      <td>14.9</td>\n",
              "      <td>69.8</td>\n",
              "      <td>19.7</td>\n",
              "      <td>95.2</td>\n",
              "      <td>9.8</td>\n",
              "      <td>13.30</td>\n",
              "      <td>2.61</td>\n",
              "      <td>9.0</td>\n",
              "      <td>7.6</td>\n",
              "      <td>47.0</td>\n",
              "    </tr>\n",
              "    <tr>\n",
              "      <th>538</th>\n",
              "      <td>0s=suspect Blood Donor</td>\n",
              "      <td>74</td>\n",
              "      <td>m</td>\n",
              "      <td>20.3</td>\n",
              "      <td>84.0</td>\n",
              "      <td>22.8</td>\n",
              "      <td>43.0</td>\n",
              "      <td>5.7</td>\n",
              "      <td>4.91</td>\n",
              "      <td>3.19</td>\n",
              "      <td>52.0</td>\n",
              "      <td>218.3</td>\n",
              "      <td>47.8</td>\n",
              "    </tr>\n",
              "    <tr>\n",
              "      <th>539</th>\n",
              "      <td>0s=suspect Blood Donor</td>\n",
              "      <td>59</td>\n",
              "      <td>f</td>\n",
              "      <td>19.3</td>\n",
              "      <td>208.2</td>\n",
              "      <td>325.3</td>\n",
              "      <td>146.6</td>\n",
              "      <td>6.9</td>\n",
              "      <td>5.33</td>\n",
              "      <td>4.72</td>\n",
              "      <td>32.0</td>\n",
              "      <td>295.6</td>\n",
              "      <td>53.1</td>\n",
              "    </tr>\n",
              "  </tbody>\n",
              "</table>\n",
              "</div>"
            ],
            "text/plain": [
              "                   Category  Age Sex   ALB  ...  CHOL   CREA    GGT  PROT\n",
              "533  0s=suspect Blood Donor   47   m  22.5  ...  4.30  170.0  345.6  58.6\n",
              "534  0s=suspect Blood Donor   48   m  24.9  ...  5.25   29.0   83.0  47.8\n",
              "535  0s=suspect Blood Donor   49   m  21.6  ...  3.01   64.0   38.9  44.8\n",
              "536  0s=suspect Blood Donor   55   m  47.3  ...  8.08   76.0   71.6  78.3\n",
              "537  0s=suspect Blood Donor   71   m  14.9  ...  2.61    9.0    7.6  47.0\n",
              "538  0s=suspect Blood Donor   74   m  20.3  ...  3.19   52.0  218.3  47.8\n",
              "539  0s=suspect Blood Donor   59   f  19.3  ...  4.72   32.0  295.6  53.1\n",
              "\n",
              "[7 rows x 13 columns]"
            ]
          },
          "metadata": {
            "tags": []
          },
          "execution_count": 228
        }
      ]
    },
    {
      "cell_type": "markdown",
      "metadata": {
        "id": "0U9NwkdaEMef"
      },
      "source": [
        "###Modificação dos Atributos\n",
        "\n",
        "Atributos correspondentes ao Category e Sex foram modificados para serem numéricos.\n"
      ]
    },
    {
      "cell_type": "code",
      "metadata": {
        "colab": {
          "base_uri": "https://localhost:8080/",
          "height": 424
        },
        "id": "f3OobC98H2ua",
        "outputId": "341bd279-2996-4140-96c2-58d026057091"
      },
      "source": [
        "numberCatSex = LabelEncoder()\n",
        "data_set['Category'] = numberCatSex.fit_transform(data_set['Category'] == '0=Blood Donor')\n",
        "data_set['Sex'] = numberCatSex.fit_transform(data_set['Sex'])\n",
        "data_set"
      ],
      "execution_count": null,
      "outputs": [
        {
          "output_type": "execute_result",
          "data": {
            "text/html": [
              "<div>\n",
              "<style scoped>\n",
              "    .dataframe tbody tr th:only-of-type {\n",
              "        vertical-align: middle;\n",
              "    }\n",
              "\n",
              "    .dataframe tbody tr th {\n",
              "        vertical-align: top;\n",
              "    }\n",
              "\n",
              "    .dataframe thead th {\n",
              "        text-align: right;\n",
              "    }\n",
              "</style>\n",
              "<table border=\"1\" class=\"dataframe\">\n",
              "  <thead>\n",
              "    <tr style=\"text-align: right;\">\n",
              "      <th></th>\n",
              "      <th>Category</th>\n",
              "      <th>Age</th>\n",
              "      <th>Sex</th>\n",
              "      <th>ALB</th>\n",
              "      <th>ALP</th>\n",
              "      <th>ALT</th>\n",
              "      <th>AST</th>\n",
              "      <th>BIL</th>\n",
              "      <th>CHE</th>\n",
              "      <th>CHOL</th>\n",
              "      <th>CREA</th>\n",
              "      <th>GGT</th>\n",
              "      <th>PROT</th>\n",
              "    </tr>\n",
              "  </thead>\n",
              "  <tbody>\n",
              "    <tr>\n",
              "      <th>0</th>\n",
              "      <td>1</td>\n",
              "      <td>32</td>\n",
              "      <td>1</td>\n",
              "      <td>38.5</td>\n",
              "      <td>52.5</td>\n",
              "      <td>7.7</td>\n",
              "      <td>22.1</td>\n",
              "      <td>7.5</td>\n",
              "      <td>6.93</td>\n",
              "      <td>3.23</td>\n",
              "      <td>106.0</td>\n",
              "      <td>12.1</td>\n",
              "      <td>69.0</td>\n",
              "    </tr>\n",
              "    <tr>\n",
              "      <th>1</th>\n",
              "      <td>1</td>\n",
              "      <td>32</td>\n",
              "      <td>1</td>\n",
              "      <td>38.5</td>\n",
              "      <td>70.3</td>\n",
              "      <td>18.0</td>\n",
              "      <td>24.7</td>\n",
              "      <td>3.9</td>\n",
              "      <td>11.17</td>\n",
              "      <td>4.80</td>\n",
              "      <td>74.0</td>\n",
              "      <td>15.6</td>\n",
              "      <td>76.5</td>\n",
              "    </tr>\n",
              "    <tr>\n",
              "      <th>2</th>\n",
              "      <td>1</td>\n",
              "      <td>32</td>\n",
              "      <td>1</td>\n",
              "      <td>46.9</td>\n",
              "      <td>74.7</td>\n",
              "      <td>36.2</td>\n",
              "      <td>52.6</td>\n",
              "      <td>6.1</td>\n",
              "      <td>8.84</td>\n",
              "      <td>5.20</td>\n",
              "      <td>86.0</td>\n",
              "      <td>33.2</td>\n",
              "      <td>79.3</td>\n",
              "    </tr>\n",
              "    <tr>\n",
              "      <th>3</th>\n",
              "      <td>1</td>\n",
              "      <td>32</td>\n",
              "      <td>1</td>\n",
              "      <td>43.2</td>\n",
              "      <td>52.0</td>\n",
              "      <td>30.6</td>\n",
              "      <td>22.6</td>\n",
              "      <td>18.9</td>\n",
              "      <td>7.33</td>\n",
              "      <td>4.74</td>\n",
              "      <td>80.0</td>\n",
              "      <td>33.8</td>\n",
              "      <td>75.7</td>\n",
              "    </tr>\n",
              "    <tr>\n",
              "      <th>4</th>\n",
              "      <td>1</td>\n",
              "      <td>32</td>\n",
              "      <td>1</td>\n",
              "      <td>39.2</td>\n",
              "      <td>74.1</td>\n",
              "      <td>32.6</td>\n",
              "      <td>24.8</td>\n",
              "      <td>9.6</td>\n",
              "      <td>9.15</td>\n",
              "      <td>4.32</td>\n",
              "      <td>76.0</td>\n",
              "      <td>29.9</td>\n",
              "      <td>68.7</td>\n",
              "    </tr>\n",
              "    <tr>\n",
              "      <th>...</th>\n",
              "      <td>...</td>\n",
              "      <td>...</td>\n",
              "      <td>...</td>\n",
              "      <td>...</td>\n",
              "      <td>...</td>\n",
              "      <td>...</td>\n",
              "      <td>...</td>\n",
              "      <td>...</td>\n",
              "      <td>...</td>\n",
              "      <td>...</td>\n",
              "      <td>...</td>\n",
              "      <td>...</td>\n",
              "      <td>...</td>\n",
              "    </tr>\n",
              "    <tr>\n",
              "      <th>608</th>\n",
              "      <td>0</td>\n",
              "      <td>58</td>\n",
              "      <td>0</td>\n",
              "      <td>34.0</td>\n",
              "      <td>46.4</td>\n",
              "      <td>15.0</td>\n",
              "      <td>150.0</td>\n",
              "      <td>8.0</td>\n",
              "      <td>6.26</td>\n",
              "      <td>3.98</td>\n",
              "      <td>56.0</td>\n",
              "      <td>49.7</td>\n",
              "      <td>80.6</td>\n",
              "    </tr>\n",
              "    <tr>\n",
              "      <th>609</th>\n",
              "      <td>0</td>\n",
              "      <td>59</td>\n",
              "      <td>0</td>\n",
              "      <td>39.0</td>\n",
              "      <td>51.3</td>\n",
              "      <td>19.6</td>\n",
              "      <td>285.8</td>\n",
              "      <td>40.0</td>\n",
              "      <td>5.77</td>\n",
              "      <td>4.51</td>\n",
              "      <td>136.1</td>\n",
              "      <td>101.1</td>\n",
              "      <td>70.5</td>\n",
              "    </tr>\n",
              "    <tr>\n",
              "      <th>610</th>\n",
              "      <td>0</td>\n",
              "      <td>62</td>\n",
              "      <td>0</td>\n",
              "      <td>32.0</td>\n",
              "      <td>416.6</td>\n",
              "      <td>5.9</td>\n",
              "      <td>110.3</td>\n",
              "      <td>50.0</td>\n",
              "      <td>5.57</td>\n",
              "      <td>6.30</td>\n",
              "      <td>55.7</td>\n",
              "      <td>650.9</td>\n",
              "      <td>68.5</td>\n",
              "    </tr>\n",
              "    <tr>\n",
              "      <th>611</th>\n",
              "      <td>0</td>\n",
              "      <td>64</td>\n",
              "      <td>0</td>\n",
              "      <td>24.0</td>\n",
              "      <td>102.8</td>\n",
              "      <td>2.9</td>\n",
              "      <td>44.4</td>\n",
              "      <td>20.0</td>\n",
              "      <td>1.54</td>\n",
              "      <td>3.02</td>\n",
              "      <td>63.0</td>\n",
              "      <td>35.9</td>\n",
              "      <td>71.3</td>\n",
              "    </tr>\n",
              "    <tr>\n",
              "      <th>612</th>\n",
              "      <td>0</td>\n",
              "      <td>64</td>\n",
              "      <td>0</td>\n",
              "      <td>29.0</td>\n",
              "      <td>87.3</td>\n",
              "      <td>3.5</td>\n",
              "      <td>99.0</td>\n",
              "      <td>48.0</td>\n",
              "      <td>1.66</td>\n",
              "      <td>3.63</td>\n",
              "      <td>66.7</td>\n",
              "      <td>64.2</td>\n",
              "      <td>82.0</td>\n",
              "    </tr>\n",
              "  </tbody>\n",
              "</table>\n",
              "<p>582 rows × 13 columns</p>\n",
              "</div>"
            ],
            "text/plain": [
              "     Category  Age  Sex   ALB    ALP  ...    CHE  CHOL   CREA    GGT  PROT\n",
              "0           1   32    1  38.5   52.5  ...   6.93  3.23  106.0   12.1  69.0\n",
              "1           1   32    1  38.5   70.3  ...  11.17  4.80   74.0   15.6  76.5\n",
              "2           1   32    1  46.9   74.7  ...   8.84  5.20   86.0   33.2  79.3\n",
              "3           1   32    1  43.2   52.0  ...   7.33  4.74   80.0   33.8  75.7\n",
              "4           1   32    1  39.2   74.1  ...   9.15  4.32   76.0   29.9  68.7\n",
              "..        ...  ...  ...   ...    ...  ...    ...   ...    ...    ...   ...\n",
              "608         0   58    0  34.0   46.4  ...   6.26  3.98   56.0   49.7  80.6\n",
              "609         0   59    0  39.0   51.3  ...   5.77  4.51  136.1  101.1  70.5\n",
              "610         0   62    0  32.0  416.6  ...   5.57  6.30   55.7  650.9  68.5\n",
              "611         0   64    0  24.0  102.8  ...   1.54  3.02   63.0   35.9  71.3\n",
              "612         0   64    0  29.0   87.3  ...   1.66  3.63   66.7   64.2  82.0\n",
              "\n",
              "[582 rows x 13 columns]"
            ]
          },
          "metadata": {
            "tags": []
          },
          "execution_count": 229
        }
      ]
    },
    {
      "cell_type": "markdown",
      "metadata": {
        "id": "e9V2_W-QJivG"
      },
      "source": [
        "###Balanciamento da Base\n",
        "\n",
        "Após fazer as transformações para 0 e 1 dos atributos e das instâncias foi verificado que a base teve um grande desbalanceamento para a classe do doador, com isso foi necessário a redução das instâncias até que a base esteja balanceada para o treinamento. Foram retiradas as 470 primeiras instâncias da classe doador."
      ]
    },
    {
      "cell_type": "code",
      "metadata": {
        "colab": {
          "base_uri": "https://localhost:8080/",
          "height": 143
        },
        "id": "311aLhQ0LKok",
        "outputId": "99930742-c931-4155-f8dd-5fcca9e37a09"
      },
      "source": [
        "data_set.groupby('Category').count()"
      ],
      "execution_count": null,
      "outputs": [
        {
          "output_type": "execute_result",
          "data": {
            "text/html": [
              "<div>\n",
              "<style scoped>\n",
              "    .dataframe tbody tr th:only-of-type {\n",
              "        vertical-align: middle;\n",
              "    }\n",
              "\n",
              "    .dataframe tbody tr th {\n",
              "        vertical-align: top;\n",
              "    }\n",
              "\n",
              "    .dataframe thead th {\n",
              "        text-align: right;\n",
              "    }\n",
              "</style>\n",
              "<table border=\"1\" class=\"dataframe\">\n",
              "  <thead>\n",
              "    <tr style=\"text-align: right;\">\n",
              "      <th></th>\n",
              "      <th>Age</th>\n",
              "      <th>Sex</th>\n",
              "      <th>ALB</th>\n",
              "      <th>ALP</th>\n",
              "      <th>ALT</th>\n",
              "      <th>AST</th>\n",
              "      <th>BIL</th>\n",
              "      <th>CHE</th>\n",
              "      <th>CHOL</th>\n",
              "      <th>CREA</th>\n",
              "      <th>GGT</th>\n",
              "      <th>PROT</th>\n",
              "    </tr>\n",
              "    <tr>\n",
              "      <th>Category</th>\n",
              "      <th></th>\n",
              "      <th></th>\n",
              "      <th></th>\n",
              "      <th></th>\n",
              "      <th></th>\n",
              "      <th></th>\n",
              "      <th></th>\n",
              "      <th></th>\n",
              "      <th></th>\n",
              "      <th></th>\n",
              "      <th></th>\n",
              "      <th></th>\n",
              "    </tr>\n",
              "  </thead>\n",
              "  <tbody>\n",
              "    <tr>\n",
              "      <th>0</th>\n",
              "      <td>56</td>\n",
              "      <td>56</td>\n",
              "      <td>56</td>\n",
              "      <td>56</td>\n",
              "      <td>56</td>\n",
              "      <td>56</td>\n",
              "      <td>56</td>\n",
              "      <td>56</td>\n",
              "      <td>56</td>\n",
              "      <td>56</td>\n",
              "      <td>56</td>\n",
              "      <td>56</td>\n",
              "    </tr>\n",
              "    <tr>\n",
              "      <th>1</th>\n",
              "      <td>526</td>\n",
              "      <td>526</td>\n",
              "      <td>526</td>\n",
              "      <td>526</td>\n",
              "      <td>526</td>\n",
              "      <td>526</td>\n",
              "      <td>526</td>\n",
              "      <td>526</td>\n",
              "      <td>526</td>\n",
              "      <td>526</td>\n",
              "      <td>526</td>\n",
              "      <td>526</td>\n",
              "    </tr>\n",
              "  </tbody>\n",
              "</table>\n",
              "</div>"
            ],
            "text/plain": [
              "          Age  Sex  ALB  ALP  ALT  AST  BIL  CHE  CHOL  CREA  GGT  PROT\n",
              "Category                                                               \n",
              "0          56   56   56   56   56   56   56   56    56    56   56    56\n",
              "1         526  526  526  526  526  526  526  526   526   526  526   526"
            ]
          },
          "metadata": {
            "tags": []
          },
          "execution_count": 230
        }
      ]
    },
    {
      "cell_type": "code",
      "metadata": {
        "colab": {
          "base_uri": "https://localhost:8080/",
          "height": 424
        },
        "id": "axFVtA8tJi7U",
        "outputId": "23522233-224c-427a-d8d1-a171d9917d06"
      },
      "source": [
        "data_set.drop(data_set.head(470).index, inplace = True) \n",
        "data_set"
      ],
      "execution_count": null,
      "outputs": [
        {
          "output_type": "execute_result",
          "data": {
            "text/html": [
              "<div>\n",
              "<style scoped>\n",
              "    .dataframe tbody tr th:only-of-type {\n",
              "        vertical-align: middle;\n",
              "    }\n",
              "\n",
              "    .dataframe tbody tr th {\n",
              "        vertical-align: top;\n",
              "    }\n",
              "\n",
              "    .dataframe thead th {\n",
              "        text-align: right;\n",
              "    }\n",
              "</style>\n",
              "<table border=\"1\" class=\"dataframe\">\n",
              "  <thead>\n",
              "    <tr style=\"text-align: right;\">\n",
              "      <th></th>\n",
              "      <th>Category</th>\n",
              "      <th>Age</th>\n",
              "      <th>Sex</th>\n",
              "      <th>ALB</th>\n",
              "      <th>ALP</th>\n",
              "      <th>ALT</th>\n",
              "      <th>AST</th>\n",
              "      <th>BIL</th>\n",
              "      <th>CHE</th>\n",
              "      <th>CHOL</th>\n",
              "      <th>CREA</th>\n",
              "      <th>GGT</th>\n",
              "      <th>PROT</th>\n",
              "    </tr>\n",
              "  </thead>\n",
              "  <tbody>\n",
              "    <tr>\n",
              "      <th>476</th>\n",
              "      <td>1</td>\n",
              "      <td>53</td>\n",
              "      <td>0</td>\n",
              "      <td>43.7</td>\n",
              "      <td>84.3</td>\n",
              "      <td>18.8</td>\n",
              "      <td>18.6</td>\n",
              "      <td>8.5</td>\n",
              "      <td>10.22</td>\n",
              "      <td>6.65</td>\n",
              "      <td>56.0</td>\n",
              "      <td>16.5</td>\n",
              "      <td>76.9</td>\n",
              "    </tr>\n",
              "    <tr>\n",
              "      <th>477</th>\n",
              "      <td>1</td>\n",
              "      <td>53</td>\n",
              "      <td>0</td>\n",
              "      <td>43.5</td>\n",
              "      <td>61.7</td>\n",
              "      <td>16.9</td>\n",
              "      <td>20.3</td>\n",
              "      <td>7.0</td>\n",
              "      <td>7.19</td>\n",
              "      <td>6.97</td>\n",
              "      <td>74.0</td>\n",
              "      <td>12.3</td>\n",
              "      <td>69.2</td>\n",
              "    </tr>\n",
              "    <tr>\n",
              "      <th>478</th>\n",
              "      <td>1</td>\n",
              "      <td>53</td>\n",
              "      <td>0</td>\n",
              "      <td>41.1</td>\n",
              "      <td>91.7</td>\n",
              "      <td>13.8</td>\n",
              "      <td>19.6</td>\n",
              "      <td>3.4</td>\n",
              "      <td>7.87</td>\n",
              "      <td>5.48</td>\n",
              "      <td>72.0</td>\n",
              "      <td>77.3</td>\n",
              "      <td>77.3</td>\n",
              "    </tr>\n",
              "    <tr>\n",
              "      <th>479</th>\n",
              "      <td>1</td>\n",
              "      <td>53</td>\n",
              "      <td>0</td>\n",
              "      <td>38.0</td>\n",
              "      <td>84.7</td>\n",
              "      <td>23.5</td>\n",
              "      <td>19.8</td>\n",
              "      <td>10.8</td>\n",
              "      <td>7.30</td>\n",
              "      <td>4.82</td>\n",
              "      <td>62.0</td>\n",
              "      <td>11.4</td>\n",
              "      <td>68.5</td>\n",
              "    </tr>\n",
              "    <tr>\n",
              "      <th>480</th>\n",
              "      <td>1</td>\n",
              "      <td>53</td>\n",
              "      <td>0</td>\n",
              "      <td>47.4</td>\n",
              "      <td>66.9</td>\n",
              "      <td>24.3</td>\n",
              "      <td>32.6</td>\n",
              "      <td>14.9</td>\n",
              "      <td>10.51</td>\n",
              "      <td>6.03</td>\n",
              "      <td>81.0</td>\n",
              "      <td>25.2</td>\n",
              "      <td>75.0</td>\n",
              "    </tr>\n",
              "    <tr>\n",
              "      <th>...</th>\n",
              "      <td>...</td>\n",
              "      <td>...</td>\n",
              "      <td>...</td>\n",
              "      <td>...</td>\n",
              "      <td>...</td>\n",
              "      <td>...</td>\n",
              "      <td>...</td>\n",
              "      <td>...</td>\n",
              "      <td>...</td>\n",
              "      <td>...</td>\n",
              "      <td>...</td>\n",
              "      <td>...</td>\n",
              "      <td>...</td>\n",
              "    </tr>\n",
              "    <tr>\n",
              "      <th>608</th>\n",
              "      <td>0</td>\n",
              "      <td>58</td>\n",
              "      <td>0</td>\n",
              "      <td>34.0</td>\n",
              "      <td>46.4</td>\n",
              "      <td>15.0</td>\n",
              "      <td>150.0</td>\n",
              "      <td>8.0</td>\n",
              "      <td>6.26</td>\n",
              "      <td>3.98</td>\n",
              "      <td>56.0</td>\n",
              "      <td>49.7</td>\n",
              "      <td>80.6</td>\n",
              "    </tr>\n",
              "    <tr>\n",
              "      <th>609</th>\n",
              "      <td>0</td>\n",
              "      <td>59</td>\n",
              "      <td>0</td>\n",
              "      <td>39.0</td>\n",
              "      <td>51.3</td>\n",
              "      <td>19.6</td>\n",
              "      <td>285.8</td>\n",
              "      <td>40.0</td>\n",
              "      <td>5.77</td>\n",
              "      <td>4.51</td>\n",
              "      <td>136.1</td>\n",
              "      <td>101.1</td>\n",
              "      <td>70.5</td>\n",
              "    </tr>\n",
              "    <tr>\n",
              "      <th>610</th>\n",
              "      <td>0</td>\n",
              "      <td>62</td>\n",
              "      <td>0</td>\n",
              "      <td>32.0</td>\n",
              "      <td>416.6</td>\n",
              "      <td>5.9</td>\n",
              "      <td>110.3</td>\n",
              "      <td>50.0</td>\n",
              "      <td>5.57</td>\n",
              "      <td>6.30</td>\n",
              "      <td>55.7</td>\n",
              "      <td>650.9</td>\n",
              "      <td>68.5</td>\n",
              "    </tr>\n",
              "    <tr>\n",
              "      <th>611</th>\n",
              "      <td>0</td>\n",
              "      <td>64</td>\n",
              "      <td>0</td>\n",
              "      <td>24.0</td>\n",
              "      <td>102.8</td>\n",
              "      <td>2.9</td>\n",
              "      <td>44.4</td>\n",
              "      <td>20.0</td>\n",
              "      <td>1.54</td>\n",
              "      <td>3.02</td>\n",
              "      <td>63.0</td>\n",
              "      <td>35.9</td>\n",
              "      <td>71.3</td>\n",
              "    </tr>\n",
              "    <tr>\n",
              "      <th>612</th>\n",
              "      <td>0</td>\n",
              "      <td>64</td>\n",
              "      <td>0</td>\n",
              "      <td>29.0</td>\n",
              "      <td>87.3</td>\n",
              "      <td>3.5</td>\n",
              "      <td>99.0</td>\n",
              "      <td>48.0</td>\n",
              "      <td>1.66</td>\n",
              "      <td>3.63</td>\n",
              "      <td>66.7</td>\n",
              "      <td>64.2</td>\n",
              "      <td>82.0</td>\n",
              "    </tr>\n",
              "  </tbody>\n",
              "</table>\n",
              "<p>112 rows × 13 columns</p>\n",
              "</div>"
            ],
            "text/plain": [
              "     Category  Age  Sex   ALB    ALP  ...    CHE  CHOL   CREA    GGT  PROT\n",
              "476         1   53    0  43.7   84.3  ...  10.22  6.65   56.0   16.5  76.9\n",
              "477         1   53    0  43.5   61.7  ...   7.19  6.97   74.0   12.3  69.2\n",
              "478         1   53    0  41.1   91.7  ...   7.87  5.48   72.0   77.3  77.3\n",
              "479         1   53    0  38.0   84.7  ...   7.30  4.82   62.0   11.4  68.5\n",
              "480         1   53    0  47.4   66.9  ...  10.51  6.03   81.0   25.2  75.0\n",
              "..        ...  ...  ...   ...    ...  ...    ...   ...    ...    ...   ...\n",
              "608         0   58    0  34.0   46.4  ...   6.26  3.98   56.0   49.7  80.6\n",
              "609         0   59    0  39.0   51.3  ...   5.77  4.51  136.1  101.1  70.5\n",
              "610         0   62    0  32.0  416.6  ...   5.57  6.30   55.7  650.9  68.5\n",
              "611         0   64    0  24.0  102.8  ...   1.54  3.02   63.0   35.9  71.3\n",
              "612         0   64    0  29.0   87.3  ...   1.66  3.63   66.7   64.2  82.0\n",
              "\n",
              "[112 rows x 13 columns]"
            ]
          },
          "metadata": {
            "tags": []
          },
          "execution_count": 231
        }
      ]
    },
    {
      "cell_type": "code",
      "metadata": {
        "colab": {
          "base_uri": "https://localhost:8080/",
          "height": 143
        },
        "id": "DtP7F3yELCg1",
        "outputId": "0169fc90-c4f0-41f4-86a9-1d5f3ff84849"
      },
      "source": [
        "data_set.groupby('Category').count()"
      ],
      "execution_count": null,
      "outputs": [
        {
          "output_type": "execute_result",
          "data": {
            "text/html": [
              "<div>\n",
              "<style scoped>\n",
              "    .dataframe tbody tr th:only-of-type {\n",
              "        vertical-align: middle;\n",
              "    }\n",
              "\n",
              "    .dataframe tbody tr th {\n",
              "        vertical-align: top;\n",
              "    }\n",
              "\n",
              "    .dataframe thead th {\n",
              "        text-align: right;\n",
              "    }\n",
              "</style>\n",
              "<table border=\"1\" class=\"dataframe\">\n",
              "  <thead>\n",
              "    <tr style=\"text-align: right;\">\n",
              "      <th></th>\n",
              "      <th>Age</th>\n",
              "      <th>Sex</th>\n",
              "      <th>ALB</th>\n",
              "      <th>ALP</th>\n",
              "      <th>ALT</th>\n",
              "      <th>AST</th>\n",
              "      <th>BIL</th>\n",
              "      <th>CHE</th>\n",
              "      <th>CHOL</th>\n",
              "      <th>CREA</th>\n",
              "      <th>GGT</th>\n",
              "      <th>PROT</th>\n",
              "    </tr>\n",
              "    <tr>\n",
              "      <th>Category</th>\n",
              "      <th></th>\n",
              "      <th></th>\n",
              "      <th></th>\n",
              "      <th></th>\n",
              "      <th></th>\n",
              "      <th></th>\n",
              "      <th></th>\n",
              "      <th></th>\n",
              "      <th></th>\n",
              "      <th></th>\n",
              "      <th></th>\n",
              "      <th></th>\n",
              "    </tr>\n",
              "  </thead>\n",
              "  <tbody>\n",
              "    <tr>\n",
              "      <th>0</th>\n",
              "      <td>56</td>\n",
              "      <td>56</td>\n",
              "      <td>56</td>\n",
              "      <td>56</td>\n",
              "      <td>56</td>\n",
              "      <td>56</td>\n",
              "      <td>56</td>\n",
              "      <td>56</td>\n",
              "      <td>56</td>\n",
              "      <td>56</td>\n",
              "      <td>56</td>\n",
              "      <td>56</td>\n",
              "    </tr>\n",
              "    <tr>\n",
              "      <th>1</th>\n",
              "      <td>56</td>\n",
              "      <td>56</td>\n",
              "      <td>56</td>\n",
              "      <td>56</td>\n",
              "      <td>56</td>\n",
              "      <td>56</td>\n",
              "      <td>56</td>\n",
              "      <td>56</td>\n",
              "      <td>56</td>\n",
              "      <td>56</td>\n",
              "      <td>56</td>\n",
              "      <td>56</td>\n",
              "    </tr>\n",
              "  </tbody>\n",
              "</table>\n",
              "</div>"
            ],
            "text/plain": [
              "          Age  Sex  ALB  ALP  ALT  AST  BIL  CHE  CHOL  CREA  GGT  PROT\n",
              "Category                                                               \n",
              "0          56   56   56   56   56   56   56   56    56    56   56    56\n",
              "1          56   56   56   56   56   56   56   56    56    56   56    56"
            ]
          },
          "metadata": {
            "tags": []
          },
          "execution_count": 232
        }
      ]
    },
    {
      "cell_type": "markdown",
      "metadata": {
        "id": "7Z-ETa3iK0kW"
      },
      "source": [
        "###Correlação:\n",
        "\n",
        "Se faz necessário a verificação de uma correlação entre os atributos, foi encontrado dois atributos com uma alta correlação:\n",
        "* Flavanoids;\n",
        "* Total_phenols."
      ]
    },
    {
      "cell_type": "code",
      "metadata": {
        "colab": {
          "base_uri": "https://localhost:8080/",
          "height": 318
        },
        "id": "C2CmeyBfK0ub",
        "outputId": "d49227ae-a725-4d76-d610-ce689ca989d4"
      },
      "source": [
        "correlation = data_set.corr()\n",
        "correlation.style.background_gradient(cmap=\"rainbow\").set_precision(3)"
      ],
      "execution_count": null,
      "outputs": [
        {
          "output_type": "execute_result",
          "data": {
            "text/html": [
              "<style  type=\"text/css\" >\n",
              "#T_6df80e66_3e86_11eb_a3f4_0242ac1c0002row0_col0,#T_6df80e66_3e86_11eb_a3f4_0242ac1c0002row1_col1,#T_6df80e66_3e86_11eb_a3f4_0242ac1c0002row2_col2,#T_6df80e66_3e86_11eb_a3f4_0242ac1c0002row3_col3,#T_6df80e66_3e86_11eb_a3f4_0242ac1c0002row4_col4,#T_6df80e66_3e86_11eb_a3f4_0242ac1c0002row5_col5,#T_6df80e66_3e86_11eb_a3f4_0242ac1c0002row6_col6,#T_6df80e66_3e86_11eb_a3f4_0242ac1c0002row7_col7,#T_6df80e66_3e86_11eb_a3f4_0242ac1c0002row8_col8,#T_6df80e66_3e86_11eb_a3f4_0242ac1c0002row9_col9,#T_6df80e66_3e86_11eb_a3f4_0242ac1c0002row10_col10,#T_6df80e66_3e86_11eb_a3f4_0242ac1c0002row11_col11,#T_6df80e66_3e86_11eb_a3f4_0242ac1c0002row12_col12{\n",
              "            background-color:  #ff0000;\n",
              "            color:  #f1f1f1;\n",
              "        }#T_6df80e66_3e86_11eb_a3f4_0242ac1c0002row0_col1,#T_6df80e66_3e86_11eb_a3f4_0242ac1c0002row11_col4{\n",
              "            background-color:  #cbe486;\n",
              "            color:  #000000;\n",
              "        }#T_6df80e66_3e86_11eb_a3f4_0242ac1c0002row0_col2,#T_6df80e66_3e86_11eb_a3f4_0242ac1c0002row0_col6,#T_6df80e66_3e86_11eb_a3f4_0242ac1c0002row0_col11,#T_6df80e66_3e86_11eb_a3f4_0242ac1c0002row2_col0,#T_6df80e66_3e86_11eb_a3f4_0242ac1c0002row2_col1,#T_6df80e66_3e86_11eb_a3f4_0242ac1c0002row3_col4,#T_6df80e66_3e86_11eb_a3f4_0242ac1c0002row4_col12,#T_6df80e66_3e86_11eb_a3f4_0242ac1c0002row5_col10,#T_6df80e66_3e86_11eb_a3f4_0242ac1c0002row6_col9,#T_6df80e66_3e86_11eb_a3f4_0242ac1c0002row7_col3,#T_6df80e66_3e86_11eb_a3f4_0242ac1c0002row7_col5,#T_6df80e66_3e86_11eb_a3f4_0242ac1c0002row7_col8,#T_6df80e66_3e86_11eb_a3f4_0242ac1c0002row8_col7{\n",
              "            background-color:  #8000ff;\n",
              "            color:  #f1f1f1;\n",
              "        }#T_6df80e66_3e86_11eb_a3f4_0242ac1c0002row0_col3{\n",
              "            background-color:  #38e7d7;\n",
              "            color:  #000000;\n",
              "        }#T_6df80e66_3e86_11eb_a3f4_0242ac1c0002row0_col4,#T_6df80e66_3e86_11eb_a3f4_0242ac1c0002row10_col0{\n",
              "            background-color:  #22d6e0;\n",
              "            color:  #000000;\n",
              "        }#T_6df80e66_3e86_11eb_a3f4_0242ac1c0002row0_col5{\n",
              "            background-color:  #62fbc4;\n",
              "            color:  #000000;\n",
              "        }#T_6df80e66_3e86_11eb_a3f4_0242ac1c0002row0_col7,#T_6df80e66_3e86_11eb_a3f4_0242ac1c0002row6_col0,#T_6df80e66_3e86_11eb_a3f4_0242ac1c0002row7_col9{\n",
              "            background-color:  #4e4dfc;\n",
              "            color:  #f1f1f1;\n",
              "        }#T_6df80e66_3e86_11eb_a3f4_0242ac1c0002row0_col8{\n",
              "            background-color:  #99fca6;\n",
              "            color:  #000000;\n",
              "        }#T_6df80e66_3e86_11eb_a3f4_0242ac1c0002row0_col9{\n",
              "            background-color:  #d0e082;\n",
              "            color:  #000000;\n",
              "        }#T_6df80e66_3e86_11eb_a3f4_0242ac1c0002row0_col10,#T_6df80e66_3e86_11eb_a3f4_0242ac1c0002row2_col9{\n",
              "            background-color:  #7a09ff;\n",
              "            color:  #f1f1f1;\n",
              "        }#T_6df80e66_3e86_11eb_a3f4_0242ac1c0002row0_col12{\n",
              "            background-color:  #7c06ff;\n",
              "            color:  #f1f1f1;\n",
              "        }#T_6df80e66_3e86_11eb_a3f4_0242ac1c0002row1_col0{\n",
              "            background-color:  #e8cb72;\n",
              "            color:  #000000;\n",
              "        }#T_6df80e66_3e86_11eb_a3f4_0242ac1c0002row1_col2{\n",
              "            background-color:  #3079f7;\n",
              "            color:  #000000;\n",
              "        }#T_6df80e66_3e86_11eb_a3f4_0242ac1c0002row1_col3,#T_6df80e66_3e86_11eb_a3f4_0242ac1c0002row8_col10{\n",
              "            background-color:  #504afc;\n",
              "            color:  #f1f1f1;\n",
              "        }#T_6df80e66_3e86_11eb_a3f4_0242ac1c0002row1_col4{\n",
              "            background-color:  #64fbc3;\n",
              "            color:  #000000;\n",
              "        }#T_6df80e66_3e86_11eb_a3f4_0242ac1c0002row1_col5,#T_6df80e66_3e86_11eb_a3f4_0242ac1c0002row5_col4{\n",
              "            background-color:  #3473f8;\n",
              "            color:  #000000;\n",
              "        }#T_6df80e66_3e86_11eb_a3f4_0242ac1c0002row1_col6,#T_6df80e66_3e86_11eb_a3f4_0242ac1c0002row3_col6{\n",
              "            background-color:  #04b0ed;\n",
              "            color:  #000000;\n",
              "        }#T_6df80e66_3e86_11eb_a3f4_0242ac1c0002row1_col7,#T_6df80e66_3e86_11eb_a3f4_0242ac1c0002row4_col2,#T_6df80e66_3e86_11eb_a3f4_0242ac1c0002row7_col4{\n",
              "            background-color:  #1dd1e2;\n",
              "            color:  #000000;\n",
              "        }#T_6df80e66_3e86_11eb_a3f4_0242ac1c0002row1_col8,#T_6df80e66_3e86_11eb_a3f4_0242ac1c0002row3_col11,#T_6df80e66_3e86_11eb_a3f4_0242ac1c0002row5_col1{\n",
              "            background-color:  #02b7eb;\n",
              "            color:  #000000;\n",
              "        }#T_6df80e66_3e86_11eb_a3f4_0242ac1c0002row1_col9{\n",
              "            background-color:  #4df3ce;\n",
              "            color:  #000000;\n",
              "        }#T_6df80e66_3e86_11eb_a3f4_0242ac1c0002row1_col10,#T_6df80e66_3e86_11eb_a3f4_0242ac1c0002row2_col4,#T_6df80e66_3e86_11eb_a3f4_0242ac1c0002row10_col5{\n",
              "            background-color:  #6032fe;\n",
              "            color:  #f1f1f1;\n",
              "        }#T_6df80e66_3e86_11eb_a3f4_0242ac1c0002row1_col11{\n",
              "            background-color:  #0dc2e8;\n",
              "            color:  #000000;\n",
              "        }#T_6df80e66_3e86_11eb_a3f4_0242ac1c0002row1_col12{\n",
              "            background-color:  #7610ff;\n",
              "            color:  #f1f1f1;\n",
              "        }#T_6df80e66_3e86_11eb_a3f4_0242ac1c0002row2_col3,#T_6df80e66_3e86_11eb_a3f4_0242ac1c0002row4_col8,#T_6df80e66_3e86_11eb_a3f4_0242ac1c0002row10_col1{\n",
              "            background-color:  #09a9ee;\n",
              "            color:  #000000;\n",
              "        }#T_6df80e66_3e86_11eb_a3f4_0242ac1c0002row2_col5{\n",
              "            background-color:  #4856fb;\n",
              "            color:  #f1f1f1;\n",
              "        }#T_6df80e66_3e86_11eb_a3f4_0242ac1c0002row2_col6,#T_6df80e66_3e86_11eb_a3f4_0242ac1c0002row4_col11{\n",
              "            background-color:  #dbd87b;\n",
              "            color:  #000000;\n",
              "        }#T_6df80e66_3e86_11eb_a3f4_0242ac1c0002row2_col7{\n",
              "            background-color:  #9efaa2;\n",
              "            color:  #000000;\n",
              "        }#T_6df80e66_3e86_11eb_a3f4_0242ac1c0002row2_col8{\n",
              "            background-color:  #0ea5ef;\n",
              "            color:  #000000;\n",
              "        }#T_6df80e66_3e86_11eb_a3f4_0242ac1c0002row2_col10,#T_6df80e66_3e86_11eb_a3f4_0242ac1c0002row11_col1{\n",
              "            background-color:  #18cde4;\n",
              "            color:  #000000;\n",
              "        }#T_6df80e66_3e86_11eb_a3f4_0242ac1c0002row2_col11{\n",
              "            background-color:  #90feab;\n",
              "            color:  #000000;\n",
              "        }#T_6df80e66_3e86_11eb_a3f4_0242ac1c0002row2_col12,#T_6df80e66_3e86_11eb_a3f4_0242ac1c0002row6_col10,#T_6df80e66_3e86_11eb_a3f4_0242ac1c0002row8_col6{\n",
              "            background-color:  #425ffa;\n",
              "            color:  #f1f1f1;\n",
              "        }#T_6df80e66_3e86_11eb_a3f4_0242ac1c0002row3_col0{\n",
              "            background-color:  #7effb5;\n",
              "            color:  #000000;\n",
              "        }#T_6df80e66_3e86_11eb_a3f4_0242ac1c0002row3_col1{\n",
              "            background-color:  #3176f8;\n",
              "            color:  #000000;\n",
              "        }#T_6df80e66_3e86_11eb_a3f4_0242ac1c0002row3_col2,#T_6df80e66_3e86_11eb_a3f4_0242ac1c0002row10_col4{\n",
              "            background-color:  #48f1d0;\n",
              "            color:  #000000;\n",
              "        }#T_6df80e66_3e86_11eb_a3f4_0242ac1c0002row3_col5{\n",
              "            background-color:  #8bfeae;\n",
              "            color:  #000000;\n",
              "        }#T_6df80e66_3e86_11eb_a3f4_0242ac1c0002row3_col7{\n",
              "            background-color:  #4a53fb;\n",
              "            color:  #f1f1f1;\n",
              "        }#T_6df80e66_3e86_11eb_a3f4_0242ac1c0002row3_col8{\n",
              "            background-color:  #ffa558;\n",
              "            color:  #000000;\n",
              "        }#T_6df80e66_3e86_11eb_a3f4_0242ac1c0002row3_col9{\n",
              "            background-color:  #9cfba4;\n",
              "            color:  #000000;\n",
              "        }#T_6df80e66_3e86_11eb_a3f4_0242ac1c0002row3_col10,#T_6df80e66_3e86_11eb_a3f4_0242ac1c0002row8_col4,#T_6df80e66_3e86_11eb_a3f4_0242ac1c0002row12_col4{\n",
              "            background-color:  #5444fd;\n",
              "            color:  #f1f1f1;\n",
              "        }#T_6df80e66_3e86_11eb_a3f4_0242ac1c0002row3_col12,#T_6df80e66_3e86_11eb_a3f4_0242ac1c0002row11_col2{\n",
              "            background-color:  #bced8f;\n",
              "            color:  #000000;\n",
              "        }#T_6df80e66_3e86_11eb_a3f4_0242ac1c0002row4_col0{\n",
              "            background-color:  #7dffb6;\n",
              "            color:  #000000;\n",
              "        }#T_6df80e66_3e86_11eb_a3f4_0242ac1c0002row4_col1{\n",
              "            background-color:  #86ffb0;\n",
              "            color:  #000000;\n",
              "        }#T_6df80e66_3e86_11eb_a3f4_0242ac1c0002row4_col3,#T_6df80e66_3e86_11eb_a3f4_0242ac1c0002row9_col10{\n",
              "            background-color:  #622ffe;\n",
              "            color:  #f1f1f1;\n",
              "        }#T_6df80e66_3e86_11eb_a3f4_0242ac1c0002row4_col5,#T_6df80e66_3e86_11eb_a3f4_0242ac1c0002row8_col11{\n",
              "            background-color:  #3670f8;\n",
              "            color:  #000000;\n",
              "        }#T_6df80e66_3e86_11eb_a3f4_0242ac1c0002row4_col6,#T_6df80e66_3e86_11eb_a3f4_0242ac1c0002row9_col5,#T_6df80e66_3e86_11eb_a3f4_0242ac1c0002row10_col11{\n",
              "            background-color:  #40ecd4;\n",
              "            color:  #000000;\n",
              "        }#T_6df80e66_3e86_11eb_a3f4_0242ac1c0002row4_col7,#T_6df80e66_3e86_11eb_a3f4_0242ac1c0002row9_col1{\n",
              "            background-color:  #54f6cb;\n",
              "            color:  #000000;\n",
              "        }#T_6df80e66_3e86_11eb_a3f4_0242ac1c0002row4_col9{\n",
              "            background-color:  #3dead5;\n",
              "            color:  #000000;\n",
              "        }#T_6df80e66_3e86_11eb_a3f4_0242ac1c0002row4_col10{\n",
              "            background-color:  #32e3da;\n",
              "            color:  #000000;\n",
              "        }#T_6df80e66_3e86_11eb_a3f4_0242ac1c0002row5_col0{\n",
              "            background-color:  #acf59a;\n",
              "            color:  #000000;\n",
              "        }#T_6df80e66_3e86_11eb_a3f4_0242ac1c0002row5_col2,#T_6df80e66_3e86_11eb_a3f4_0242ac1c0002row12_col5{\n",
              "            background-color:  #2fe0db;\n",
              "            color:  #000000;\n",
              "        }#T_6df80e66_3e86_11eb_a3f4_0242ac1c0002row5_col3{\n",
              "            background-color:  #9bfba5;\n",
              "            color:  #000000;\n",
              "        }#T_6df80e66_3e86_11eb_a3f4_0242ac1c0002row5_col6{\n",
              "            background-color:  #72febb;\n",
              "            color:  #000000;\n",
              "        }#T_6df80e66_3e86_11eb_a3f4_0242ac1c0002row5_col7,#T_6df80e66_3e86_11eb_a3f4_0242ac1c0002row7_col10{\n",
              "            background-color:  #2e7bf7;\n",
              "            color:  #000000;\n",
              "        }#T_6df80e66_3e86_11eb_a3f4_0242ac1c0002row5_col8{\n",
              "            background-color:  #8cfead;\n",
              "            color:  #000000;\n",
              "        }#T_6df80e66_3e86_11eb_a3f4_0242ac1c0002row5_col9,#T_6df80e66_3e86_11eb_a3f4_0242ac1c0002row12_col6{\n",
              "            background-color:  #5efac6;\n",
              "            color:  #000000;\n",
              "        }#T_6df80e66_3e86_11eb_a3f4_0242ac1c0002row5_col11,#T_6df80e66_3e86_11eb_a3f4_0242ac1c0002row7_col1{\n",
              "            background-color:  #0ac0e8;\n",
              "            color:  #000000;\n",
              "        }#T_6df80e66_3e86_11eb_a3f4_0242ac1c0002row5_col12{\n",
              "            background-color:  #10c6e6;\n",
              "            color:  #000000;\n",
              "        }#T_6df80e66_3e86_11eb_a3f4_0242ac1c0002row6_col1,#T_6df80e66_3e86_11eb_a3f4_0242ac1c0002row9_col2,#T_6df80e66_3e86_11eb_a3f4_0242ac1c0002row11_col5{\n",
              "            background-color:  #1e91f3;\n",
              "            color:  #000000;\n",
              "        }#T_6df80e66_3e86_11eb_a3f4_0242ac1c0002row6_col2{\n",
              "            background-color:  #ebca70;\n",
              "            color:  #000000;\n",
              "        }#T_6df80e66_3e86_11eb_a3f4_0242ac1c0002row6_col3{\n",
              "            background-color:  #396bf9;\n",
              "            color:  #000000;\n",
              "        }#T_6df80e66_3e86_11eb_a3f4_0242ac1c0002row6_col4,#T_6df80e66_3e86_11eb_a3f4_0242ac1c0002row11_col12{\n",
              "            background-color:  #06aeed;\n",
              "            color:  #000000;\n",
              "        }#T_6df80e66_3e86_11eb_a3f4_0242ac1c0002row6_col5{\n",
              "            background-color:  #37e6d8;\n",
              "            color:  #000000;\n",
              "        }#T_6df80e66_3e86_11eb_a3f4_0242ac1c0002row6_col7,#T_6df80e66_3e86_11eb_a3f4_0242ac1c0002row10_col2,#T_6df80e66_3e86_11eb_a3f4_0242ac1c0002row12_col8{\n",
              "            background-color:  #88ffaf;\n",
              "            color:  #000000;\n",
              "        }#T_6df80e66_3e86_11eb_a3f4_0242ac1c0002row6_col8{\n",
              "            background-color:  #4c50fc;\n",
              "            color:  #f1f1f1;\n",
              "        }#T_6df80e66_3e86_11eb_a3f4_0242ac1c0002row6_col11{\n",
              "            background-color:  #bbee91;\n",
              "            color:  #000000;\n",
              "        }#T_6df80e66_3e86_11eb_a3f4_0242ac1c0002row6_col12{\n",
              "            background-color:  #01b3ec;\n",
              "            color:  #000000;\n",
              "        }#T_6df80e66_3e86_11eb_a3f4_0242ac1c0002row7_col0,#T_6df80e66_3e86_11eb_a3f4_0242ac1c0002row9_col11{\n",
              "            background-color:  #1898f2;\n",
              "            color:  #000000;\n",
              "        }#T_6df80e66_3e86_11eb_a3f4_0242ac1c0002row7_col2{\n",
              "            background-color:  #b9ef92;\n",
              "            color:  #000000;\n",
              "        }#T_6df80e66_3e86_11eb_a3f4_0242ac1c0002row7_col6{\n",
              "            background-color:  #8efeac;\n",
              "            color:  #000000;\n",
              "        }#T_6df80e66_3e86_11eb_a3f4_0242ac1c0002row7_col11,#T_6df80e66_3e86_11eb_a3f4_0242ac1c0002row12_col9{\n",
              "            background-color:  #60fac5;\n",
              "            color:  #000000;\n",
              "        }#T_6df80e66_3e86_11eb_a3f4_0242ac1c0002row7_col12{\n",
              "            background-color:  #6c1fff;\n",
              "            color:  #f1f1f1;\n",
              "        }#T_6df80e66_3e86_11eb_a3f4_0242ac1c0002row8_col0{\n",
              "            background-color:  #b2f396;\n",
              "            color:  #000000;\n",
              "        }#T_6df80e66_3e86_11eb_a3f4_0242ac1c0002row8_col1{\n",
              "            background-color:  #10a2f0;\n",
              "            color:  #000000;\n",
              "        }#T_6df80e66_3e86_11eb_a3f4_0242ac1c0002row8_col2{\n",
              "            background-color:  #20d5e1;\n",
              "            color:  #000000;\n",
              "        }#T_6df80e66_3e86_11eb_a3f4_0242ac1c0002row8_col3{\n",
              "            background-color:  #feb562;\n",
              "            color:  #000000;\n",
              "        }#T_6df80e66_3e86_11eb_a3f4_0242ac1c0002row8_col5{\n",
              "            background-color:  #5df9c7;\n",
              "            color:  #000000;\n",
              "        }#T_6df80e66_3e86_11eb_a3f4_0242ac1c0002row8_col9,#T_6df80e66_3e86_11eb_a3f4_0242ac1c0002row12_col3{\n",
              "            background-color:  #d9da7d;\n",
              "            color:  #000000;\n",
              "        }#T_6df80e66_3e86_11eb_a3f4_0242ac1c0002row8_col12,#T_6df80e66_3e86_11eb_a3f4_0242ac1c0002row12_col11{\n",
              "            background-color:  #3febd5;\n",
              "            color:  #000000;\n",
              "        }#T_6df80e66_3e86_11eb_a3f4_0242ac1c0002row9_col0{\n",
              "            background-color:  #eec66d;\n",
              "            color:  #000000;\n",
              "        }#T_6df80e66_3e86_11eb_a3f4_0242ac1c0002row9_col3{\n",
              "            background-color:  #94fda8;\n",
              "            color:  #000000;\n",
              "        }#T_6df80e66_3e86_11eb_a3f4_0242ac1c0002row9_col4{\n",
              "            background-color:  #1acfe3;\n",
              "            color:  #000000;\n",
              "        }#T_6df80e66_3e86_11eb_a3f4_0242ac1c0002row9_col6{\n",
              "            background-color:  #5247fc;\n",
              "            color:  #f1f1f1;\n",
              "        }#T_6df80e66_3e86_11eb_a3f4_0242ac1c0002row9_col7{\n",
              "            background-color:  #2c7ef7;\n",
              "            color:  #000000;\n",
              "        }#T_6df80e66_3e86_11eb_a3f4_0242ac1c0002row9_col8{\n",
              "            background-color:  #e4cf74;\n",
              "            color:  #000000;\n",
              "        }#T_6df80e66_3e86_11eb_a3f4_0242ac1c0002row9_col12{\n",
              "            background-color:  #24d8df;\n",
              "            color:  #000000;\n",
              "        }#T_6df80e66_3e86_11eb_a3f4_0242ac1c0002row10_col3{\n",
              "            background-color:  #1996f3;\n",
              "            color:  #000000;\n",
              "        }#T_6df80e66_3e86_11eb_a3f4_0242ac1c0002row10_col6,#T_6df80e66_3e86_11eb_a3f4_0242ac1c0002row12_col0{\n",
              "            background-color:  #28dbde;\n",
              "            color:  #000000;\n",
              "        }#T_6df80e66_3e86_11eb_a3f4_0242ac1c0002row10_col7{\n",
              "            background-color:  #30e1da;\n",
              "            color:  #000000;\n",
              "        }#T_6df80e66_3e86_11eb_a3f4_0242ac1c0002row10_col8{\n",
              "            background-color:  #17cbe4;\n",
              "            color:  #000000;\n",
              "        }#T_6df80e66_3e86_11eb_a3f4_0242ac1c0002row10_col9,#T_6df80e66_3e86_11eb_a3f4_0242ac1c0002row11_col8,#T_6df80e66_3e86_11eb_a3f4_0242ac1c0002row11_col9{\n",
              "            background-color:  #169bf2;\n",
              "            color:  #000000;\n",
              "        }#T_6df80e66_3e86_11eb_a3f4_0242ac1c0002row10_col12{\n",
              "            background-color:  #7019ff;\n",
              "            color:  #f1f1f1;\n",
              "        }#T_6df80e66_3e86_11eb_a3f4_0242ac1c0002row11_col0{\n",
              "            background-color:  #2489f5;\n",
              "            color:  #000000;\n",
              "        }#T_6df80e66_3e86_11eb_a3f4_0242ac1c0002row11_col3{\n",
              "            background-color:  #0ca7ef;\n",
              "            color:  #000000;\n",
              "        }#T_6df80e66_3e86_11eb_a3f4_0242ac1c0002row11_col6{\n",
              "            background-color:  #cee184;\n",
              "            color:  #000000;\n",
              "        }#T_6df80e66_3e86_11eb_a3f4_0242ac1c0002row11_col7{\n",
              "            background-color:  #76ffb9;\n",
              "            color:  #000000;\n",
              "        }#T_6df80e66_3e86_11eb_a3f4_0242ac1c0002row11_col10,#T_6df80e66_3e86_11eb_a3f4_0242ac1c0002row12_col7{\n",
              "            background-color:  #07bbea;\n",
              "            color:  #000000;\n",
              "        }#T_6df80e66_3e86_11eb_a3f4_0242ac1c0002row12_col1{\n",
              "            background-color:  #149df1;\n",
              "            color:  #000000;\n",
              "        }#T_6df80e66_3e86_11eb_a3f4_0242ac1c0002row12_col2{\n",
              "            background-color:  #50f4cc;\n",
              "            color:  #000000;\n",
              "        }#T_6df80e66_3e86_11eb_a3f4_0242ac1c0002row12_col10{\n",
              "            background-color:  #6629fe;\n",
              "            color:  #f1f1f1;\n",
              "        }</style><table id=\"T_6df80e66_3e86_11eb_a3f4_0242ac1c0002\" ><thead>    <tr>        <th class=\"blank level0\" ></th>        <th class=\"col_heading level0 col0\" >Category</th>        <th class=\"col_heading level0 col1\" >Age</th>        <th class=\"col_heading level0 col2\" >Sex</th>        <th class=\"col_heading level0 col3\" >ALB</th>        <th class=\"col_heading level0 col4\" >ALP</th>        <th class=\"col_heading level0 col5\" >ALT</th>        <th class=\"col_heading level0 col6\" >AST</th>        <th class=\"col_heading level0 col7\" >BIL</th>        <th class=\"col_heading level0 col8\" >CHE</th>        <th class=\"col_heading level0 col9\" >CHOL</th>        <th class=\"col_heading level0 col10\" >CREA</th>        <th class=\"col_heading level0 col11\" >GGT</th>        <th class=\"col_heading level0 col12\" >PROT</th>    </tr></thead><tbody>\n",
              "                <tr>\n",
              "                        <th id=\"T_6df80e66_3e86_11eb_a3f4_0242ac1c0002level0_row0\" class=\"row_heading level0 row0\" >Category</th>\n",
              "                        <td id=\"T_6df80e66_3e86_11eb_a3f4_0242ac1c0002row0_col0\" class=\"data row0 col0\" >1.000</td>\n",
              "                        <td id=\"T_6df80e66_3e86_11eb_a3f4_0242ac1c0002row0_col1\" class=\"data row0 col1\" >0.483</td>\n",
              "                        <td id=\"T_6df80e66_3e86_11eb_a3f4_0242ac1c0002row0_col2\" class=\"data row0 col2\" >-0.745</td>\n",
              "                        <td id=\"T_6df80e66_3e86_11eb_a3f4_0242ac1c0002row0_col3\" class=\"data row0 col3\" >0.121</td>\n",
              "                        <td id=\"T_6df80e66_3e86_11eb_a3f4_0242ac1c0002row0_col4\" class=\"data row0 col4\" >0.118</td>\n",
              "                        <td id=\"T_6df80e66_3e86_11eb_a3f4_0242ac1c0002row0_col5\" class=\"data row0 col5\" >0.283</td>\n",
              "                        <td id=\"T_6df80e66_3e86_11eb_a3f4_0242ac1c0002row0_col6\" class=\"data row0 col6\" >-0.571</td>\n",
              "                        <td id=\"T_6df80e66_3e86_11eb_a3f4_0242ac1c0002row0_col7\" class=\"data row0 col7\" >-0.389</td>\n",
              "                        <td id=\"T_6df80e66_3e86_11eb_a3f4_0242ac1c0002row0_col8\" class=\"data row0 col8\" >0.302</td>\n",
              "                        <td id=\"T_6df80e66_3e86_11eb_a3f4_0242ac1c0002row0_col9\" class=\"data row0 col9\" >0.509</td>\n",
              "                        <td id=\"T_6df80e66_3e86_11eb_a3f4_0242ac1c0002row0_col10\" class=\"data row0 col10\" >-0.187</td>\n",
              "                        <td id=\"T_6df80e66_3e86_11eb_a3f4_0242ac1c0002row0_col11\" class=\"data row0 col11\" >-0.426</td>\n",
              "                        <td id=\"T_6df80e66_3e86_11eb_a3f4_0242ac1c0002row0_col12\" class=\"data row0 col12\" >-0.167</td>\n",
              "            </tr>\n",
              "            <tr>\n",
              "                        <th id=\"T_6df80e66_3e86_11eb_a3f4_0242ac1c0002level0_row1\" class=\"row_heading level0 row1\" >Age</th>\n",
              "                        <td id=\"T_6df80e66_3e86_11eb_a3f4_0242ac1c0002row1_col0\" class=\"data row1 col0\" >0.483</td>\n",
              "                        <td id=\"T_6df80e66_3e86_11eb_a3f4_0242ac1c0002row1_col1\" class=\"data row1 col1\" >1.000</td>\n",
              "                        <td id=\"T_6df80e66_3e86_11eb_a3f4_0242ac1c0002row1_col2\" class=\"data row1 col2\" >-0.470</td>\n",
              "                        <td id=\"T_6df80e66_3e86_11eb_a3f4_0242ac1c0002row1_col3\" class=\"data row1 col3\" >-0.246</td>\n",
              "                        <td id=\"T_6df80e66_3e86_11eb_a3f4_0242ac1c0002row1_col4\" class=\"data row1 col4\" >0.284</td>\n",
              "                        <td id=\"T_6df80e66_3e86_11eb_a3f4_0242ac1c0002row1_col5\" class=\"data row1 col5\" >-0.094</td>\n",
              "                        <td id=\"T_6df80e66_3e86_11eb_a3f4_0242ac1c0002row1_col6\" class=\"data row1 col6\" >-0.186</td>\n",
              "                        <td id=\"T_6df80e66_3e86_11eb_a3f4_0242ac1c0002row1_col7\" class=\"data row1 col7\" >-0.071</td>\n",
              "                        <td id=\"T_6df80e66_3e86_11eb_a3f4_0242ac1c0002row1_col8\" class=\"data row1 col8\" >-0.147</td>\n",
              "                        <td id=\"T_6df80e66_3e86_11eb_a3f4_0242ac1c0002row1_col9\" class=\"data row1 col9\" >0.144</td>\n",
              "                        <td id=\"T_6df80e66_3e86_11eb_a3f4_0242ac1c0002row1_col10\" class=\"data row1 col10\" >-0.127</td>\n",
              "                        <td id=\"T_6df80e66_3e86_11eb_a3f4_0242ac1c0002row1_col11\" class=\"data row1 col11\" >-0.032</td>\n",
              "                        <td id=\"T_6df80e66_3e86_11eb_a3f4_0242ac1c0002row1_col12\" class=\"data row1 col12\" >-0.156</td>\n",
              "            </tr>\n",
              "            <tr>\n",
              "                        <th id=\"T_6df80e66_3e86_11eb_a3f4_0242ac1c0002level0_row2\" class=\"row_heading level0 row2\" >Sex</th>\n",
              "                        <td id=\"T_6df80e66_3e86_11eb_a3f4_0242ac1c0002row2_col0\" class=\"data row2 col0\" >-0.745</td>\n",
              "                        <td id=\"T_6df80e66_3e86_11eb_a3f4_0242ac1c0002row2_col1\" class=\"data row2 col1\" >-0.470</td>\n",
              "                        <td id=\"T_6df80e66_3e86_11eb_a3f4_0242ac1c0002row2_col2\" class=\"data row2 col2\" >1.000</td>\n",
              "                        <td id=\"T_6df80e66_3e86_11eb_a3f4_0242ac1c0002row2_col3\" class=\"data row2 col3\" >-0.059</td>\n",
              "                        <td id=\"T_6df80e66_3e86_11eb_a3f4_0242ac1c0002row2_col4\" class=\"data row2 col4\" >-0.210</td>\n",
              "                        <td id=\"T_6df80e66_3e86_11eb_a3f4_0242ac1c0002row2_col5\" class=\"data row2 col5\" >-0.147</td>\n",
              "                        <td id=\"T_6df80e66_3e86_11eb_a3f4_0242ac1c0002row2_col6\" class=\"data row2 col6\" >0.491</td>\n",
              "                        <td id=\"T_6df80e66_3e86_11eb_a3f4_0242ac1c0002row2_col7\" class=\"data row2 col7\" >0.323</td>\n",
              "                        <td id=\"T_6df80e66_3e86_11eb_a3f4_0242ac1c0002row2_col8\" class=\"data row2 col8\" >-0.193</td>\n",
              "                        <td id=\"T_6df80e66_3e86_11eb_a3f4_0242ac1c0002row2_col9\" class=\"data row2 col9\" >-0.408</td>\n",
              "                        <td id=\"T_6df80e66_3e86_11eb_a3f4_0242ac1c0002row2_col10\" class=\"data row2 col10\" >0.155</td>\n",
              "                        <td id=\"T_6df80e66_3e86_11eb_a3f4_0242ac1c0002row2_col11\" class=\"data row2 col11\" >0.332</td>\n",
              "                        <td id=\"T_6df80e66_3e86_11eb_a3f4_0242ac1c0002row2_col12\" class=\"data row2 col12\" >-0.033</td>\n",
              "            </tr>\n",
              "            <tr>\n",
              "                        <th id=\"T_6df80e66_3e86_11eb_a3f4_0242ac1c0002level0_row3\" class=\"row_heading level0 row3\" >ALB</th>\n",
              "                        <td id=\"T_6df80e66_3e86_11eb_a3f4_0242ac1c0002row3_col0\" class=\"data row3 col0\" >0.121</td>\n",
              "                        <td id=\"T_6df80e66_3e86_11eb_a3f4_0242ac1c0002row3_col1\" class=\"data row3 col1\" >-0.246</td>\n",
              "                        <td id=\"T_6df80e66_3e86_11eb_a3f4_0242ac1c0002row3_col2\" class=\"data row3 col2\" >-0.059</td>\n",
              "                        <td id=\"T_6df80e66_3e86_11eb_a3f4_0242ac1c0002row3_col3\" class=\"data row3 col3\" >1.000</td>\n",
              "                        <td id=\"T_6df80e66_3e86_11eb_a3f4_0242ac1c0002row3_col4\" class=\"data row3 col4\" >-0.293</td>\n",
              "                        <td id=\"T_6df80e66_3e86_11eb_a3f4_0242ac1c0002row3_col5\" class=\"data row3 col5\" >0.383</td>\n",
              "                        <td id=\"T_6df80e66_3e86_11eb_a3f4_0242ac1c0002row3_col6\" class=\"data row3 col6\" >-0.185</td>\n",
              "                        <td id=\"T_6df80e66_3e86_11eb_a3f4_0242ac1c0002row3_col7\" class=\"data row3 col7\" >-0.378</td>\n",
              "                        <td id=\"T_6df80e66_3e86_11eb_a3f4_0242ac1c0002row3_col8\" class=\"data row3 col8\" >0.655</td>\n",
              "                        <td id=\"T_6df80e66_3e86_11eb_a3f4_0242ac1c0002row3_col9\" class=\"data row3 col9\" >0.369</td>\n",
              "                        <td id=\"T_6df80e66_3e86_11eb_a3f4_0242ac1c0002row3_col10\" class=\"data row3 col10\" >-0.100</td>\n",
              "                        <td id=\"T_6df80e66_3e86_11eb_a3f4_0242ac1c0002row3_col11\" class=\"data row3 col11\" >-0.062</td>\n",
              "                        <td id=\"T_6df80e66_3e86_11eb_a3f4_0242ac1c0002row3_col12\" class=\"data row3 col12\" >0.551</td>\n",
              "            </tr>\n",
              "            <tr>\n",
              "                        <th id=\"T_6df80e66_3e86_11eb_a3f4_0242ac1c0002level0_row4\" class=\"row_heading level0 row4\" >ALP</th>\n",
              "                        <td id=\"T_6df80e66_3e86_11eb_a3f4_0242ac1c0002row4_col0\" class=\"data row4 col0\" >0.118</td>\n",
              "                        <td id=\"T_6df80e66_3e86_11eb_a3f4_0242ac1c0002row4_col1\" class=\"data row4 col1\" >0.284</td>\n",
              "                        <td id=\"T_6df80e66_3e86_11eb_a3f4_0242ac1c0002row4_col2\" class=\"data row4 col2\" >-0.210</td>\n",
              "                        <td id=\"T_6df80e66_3e86_11eb_a3f4_0242ac1c0002row4_col3\" class=\"data row4 col3\" >-0.293</td>\n",
              "                        <td id=\"T_6df80e66_3e86_11eb_a3f4_0242ac1c0002row4_col4\" class=\"data row4 col4\" >1.000</td>\n",
              "                        <td id=\"T_6df80e66_3e86_11eb_a3f4_0242ac1c0002row4_col5\" class=\"data row4 col5\" >-0.101</td>\n",
              "                        <td id=\"T_6df80e66_3e86_11eb_a3f4_0242ac1c0002row4_col6\" class=\"data row4 col6\" >0.019</td>\n",
              "                        <td id=\"T_6df80e66_3e86_11eb_a3f4_0242ac1c0002row4_col7\" class=\"data row4 col7\" >0.101</td>\n",
              "                        <td id=\"T_6df80e66_3e86_11eb_a3f4_0242ac1c0002row4_col8\" class=\"data row4 col8\" >-0.182</td>\n",
              "                        <td id=\"T_6df80e66_3e86_11eb_a3f4_0242ac1c0002row4_col9\" class=\"data row4 col9\" >0.098</td>\n",
              "                        <td id=\"T_6df80e66_3e86_11eb_a3f4_0242ac1c0002row4_col10\" class=\"data row4 col10\" >0.215</td>\n",
              "                        <td id=\"T_6df80e66_3e86_11eb_a3f4_0242ac1c0002row4_col11\" class=\"data row4 col11\" >0.542</td>\n",
              "                        <td id=\"T_6df80e66_3e86_11eb_a3f4_0242ac1c0002row4_col12\" class=\"data row4 col12\" >-0.180</td>\n",
              "            </tr>\n",
              "            <tr>\n",
              "                        <th id=\"T_6df80e66_3e86_11eb_a3f4_0242ac1c0002level0_row5\" class=\"row_heading level0 row5\" >ALT</th>\n",
              "                        <td id=\"T_6df80e66_3e86_11eb_a3f4_0242ac1c0002row5_col0\" class=\"data row5 col0\" >0.283</td>\n",
              "                        <td id=\"T_6df80e66_3e86_11eb_a3f4_0242ac1c0002row5_col1\" class=\"data row5 col1\" >-0.094</td>\n",
              "                        <td id=\"T_6df80e66_3e86_11eb_a3f4_0242ac1c0002row5_col2\" class=\"data row5 col2\" >-0.147</td>\n",
              "                        <td id=\"T_6df80e66_3e86_11eb_a3f4_0242ac1c0002row5_col3\" class=\"data row5 col3\" >0.383</td>\n",
              "                        <td id=\"T_6df80e66_3e86_11eb_a3f4_0242ac1c0002row5_col4\" class=\"data row5 col4\" >-0.101</td>\n",
              "                        <td id=\"T_6df80e66_3e86_11eb_a3f4_0242ac1c0002row5_col5\" class=\"data row5 col5\" >1.000</td>\n",
              "                        <td id=\"T_6df80e66_3e86_11eb_a3f4_0242ac1c0002row5_col6\" class=\"data row5 col6\" >0.172</td>\n",
              "                        <td id=\"T_6df80e66_3e86_11eb_a3f4_0242ac1c0002row5_col7\" class=\"data row5 col7\" >-0.289</td>\n",
              "                        <td id=\"T_6df80e66_3e86_11eb_a3f4_0242ac1c0002row5_col8\" class=\"data row5 col8\" >0.268</td>\n",
              "                        <td id=\"T_6df80e66_3e86_11eb_a3f4_0242ac1c0002row5_col9\" class=\"data row5 col9\" >0.194</td>\n",
              "                        <td id=\"T_6df80e66_3e86_11eb_a3f4_0242ac1c0002row5_col10\" class=\"data row5 col10\" >-0.205</td>\n",
              "                        <td id=\"T_6df80e66_3e86_11eb_a3f4_0242ac1c0002row5_col11\" class=\"data row5 col11\" >-0.040</td>\n",
              "                        <td id=\"T_6df80e66_3e86_11eb_a3f4_0242ac1c0002row5_col12\" class=\"data row5 col12\" >0.153</td>\n",
              "            </tr>\n",
              "            <tr>\n",
              "                        <th id=\"T_6df80e66_3e86_11eb_a3f4_0242ac1c0002level0_row6\" class=\"row_heading level0 row6\" >AST</th>\n",
              "                        <td id=\"T_6df80e66_3e86_11eb_a3f4_0242ac1c0002row6_col0\" class=\"data row6 col0\" >-0.571</td>\n",
              "                        <td id=\"T_6df80e66_3e86_11eb_a3f4_0242ac1c0002row6_col1\" class=\"data row6 col1\" >-0.186</td>\n",
              "                        <td id=\"T_6df80e66_3e86_11eb_a3f4_0242ac1c0002row6_col2\" class=\"data row6 col2\" >0.491</td>\n",
              "                        <td id=\"T_6df80e66_3e86_11eb_a3f4_0242ac1c0002row6_col3\" class=\"data row6 col3\" >-0.185</td>\n",
              "                        <td id=\"T_6df80e66_3e86_11eb_a3f4_0242ac1c0002row6_col4\" class=\"data row6 col4\" >0.019</td>\n",
              "                        <td id=\"T_6df80e66_3e86_11eb_a3f4_0242ac1c0002row6_col5\" class=\"data row6 col5\" >0.172</td>\n",
              "                        <td id=\"T_6df80e66_3e86_11eb_a3f4_0242ac1c0002row6_col6\" class=\"data row6 col6\" >1.000</td>\n",
              "                        <td id=\"T_6df80e66_3e86_11eb_a3f4_0242ac1c0002row6_col7\" class=\"data row6 col7\" >0.258</td>\n",
              "                        <td id=\"T_6df80e66_3e86_11eb_a3f4_0242ac1c0002row6_col8\" class=\"data row6 col8\" >-0.381</td>\n",
              "                        <td id=\"T_6df80e66_3e86_11eb_a3f4_0242ac1c0002row6_col9\" class=\"data row6 col9\" >-0.428</td>\n",
              "                        <td id=\"T_6df80e66_3e86_11eb_a3f4_0242ac1c0002row6_col10\" class=\"data row6 col10\" >-0.055</td>\n",
              "                        <td id=\"T_6df80e66_3e86_11eb_a3f4_0242ac1c0002row6_col11\" class=\"data row6 col11\" >0.454</td>\n",
              "                        <td id=\"T_6df80e66_3e86_11eb_a3f4_0242ac1c0002row6_col12\" class=\"data row6 col12\" >0.115</td>\n",
              "            </tr>\n",
              "            <tr>\n",
              "                        <th id=\"T_6df80e66_3e86_11eb_a3f4_0242ac1c0002level0_row7\" class=\"row_heading level0 row7\" >BIL</th>\n",
              "                        <td id=\"T_6df80e66_3e86_11eb_a3f4_0242ac1c0002row7_col0\" class=\"data row7 col0\" >-0.389</td>\n",
              "                        <td id=\"T_6df80e66_3e86_11eb_a3f4_0242ac1c0002row7_col1\" class=\"data row7 col1\" >-0.071</td>\n",
              "                        <td id=\"T_6df80e66_3e86_11eb_a3f4_0242ac1c0002row7_col2\" class=\"data row7 col2\" >0.323</td>\n",
              "                        <td id=\"T_6df80e66_3e86_11eb_a3f4_0242ac1c0002row7_col3\" class=\"data row7 col3\" >-0.378</td>\n",
              "                        <td id=\"T_6df80e66_3e86_11eb_a3f4_0242ac1c0002row7_col4\" class=\"data row7 col4\" >0.101</td>\n",
              "                        <td id=\"T_6df80e66_3e86_11eb_a3f4_0242ac1c0002row7_col5\" class=\"data row7 col5\" >-0.289</td>\n",
              "                        <td id=\"T_6df80e66_3e86_11eb_a3f4_0242ac1c0002row7_col6\" class=\"data row7 col6\" >0.258</td>\n",
              "                        <td id=\"T_6df80e66_3e86_11eb_a3f4_0242ac1c0002row7_col7\" class=\"data row7 col7\" >1.000</td>\n",
              "                        <td id=\"T_6df80e66_3e86_11eb_a3f4_0242ac1c0002row7_col8\" class=\"data row7 col8\" >-0.542</td>\n",
              "                        <td id=\"T_6df80e66_3e86_11eb_a3f4_0242ac1c0002row7_col9\" class=\"data row7 col9\" >-0.285</td>\n",
              "                        <td id=\"T_6df80e66_3e86_11eb_a3f4_0242ac1c0002row7_col10\" class=\"data row7 col10\" >-0.010</td>\n",
              "                        <td id=\"T_6df80e66_3e86_11eb_a3f4_0242ac1c0002row7_col11\" class=\"data row7 col11\" >0.202</td>\n",
              "                        <td id=\"T_6df80e66_3e86_11eb_a3f4_0242ac1c0002row7_col12\" class=\"data row7 col12\" >-0.133</td>\n",
              "            </tr>\n",
              "            <tr>\n",
              "                        <th id=\"T_6df80e66_3e86_11eb_a3f4_0242ac1c0002level0_row8\" class=\"row_heading level0 row8\" >CHE</th>\n",
              "                        <td id=\"T_6df80e66_3e86_11eb_a3f4_0242ac1c0002row8_col0\" class=\"data row8 col0\" >0.302</td>\n",
              "                        <td id=\"T_6df80e66_3e86_11eb_a3f4_0242ac1c0002row8_col1\" class=\"data row8 col1\" >-0.147</td>\n",
              "                        <td id=\"T_6df80e66_3e86_11eb_a3f4_0242ac1c0002row8_col2\" class=\"data row8 col2\" >-0.193</td>\n",
              "                        <td id=\"T_6df80e66_3e86_11eb_a3f4_0242ac1c0002row8_col3\" class=\"data row8 col3\" >0.655</td>\n",
              "                        <td id=\"T_6df80e66_3e86_11eb_a3f4_0242ac1c0002row8_col4\" class=\"data row8 col4\" >-0.182</td>\n",
              "                        <td id=\"T_6df80e66_3e86_11eb_a3f4_0242ac1c0002row8_col5\" class=\"data row8 col5\" >0.268</td>\n",
              "                        <td id=\"T_6df80e66_3e86_11eb_a3f4_0242ac1c0002row8_col6\" class=\"data row8 col6\" >-0.381</td>\n",
              "                        <td id=\"T_6df80e66_3e86_11eb_a3f4_0242ac1c0002row8_col7\" class=\"data row8 col7\" >-0.542</td>\n",
              "                        <td id=\"T_6df80e66_3e86_11eb_a3f4_0242ac1c0002row8_col8\" class=\"data row8 col8\" >1.000</td>\n",
              "                        <td id=\"T_6df80e66_3e86_11eb_a3f4_0242ac1c0002row8_col9\" class=\"data row8 col9\" >0.534</td>\n",
              "                        <td id=\"T_6df80e66_3e86_11eb_a3f4_0242ac1c0002row8_col10\" class=\"data row8 col10\" >-0.087</td>\n",
              "                        <td id=\"T_6df80e66_3e86_11eb_a3f4_0242ac1c0002row8_col11\" class=\"data row8 col11\" >-0.219</td>\n",
              "                        <td id=\"T_6df80e66_3e86_11eb_a3f4_0242ac1c0002row8_col12\" class=\"data row8 col12\" >0.258</td>\n",
              "            </tr>\n",
              "            <tr>\n",
              "                        <th id=\"T_6df80e66_3e86_11eb_a3f4_0242ac1c0002level0_row9\" class=\"row_heading level0 row9\" >CHOL</th>\n",
              "                        <td id=\"T_6df80e66_3e86_11eb_a3f4_0242ac1c0002row9_col0\" class=\"data row9 col0\" >0.509</td>\n",
              "                        <td id=\"T_6df80e66_3e86_11eb_a3f4_0242ac1c0002row9_col1\" class=\"data row9 col1\" >0.144</td>\n",
              "                        <td id=\"T_6df80e66_3e86_11eb_a3f4_0242ac1c0002row9_col2\" class=\"data row9 col2\" >-0.408</td>\n",
              "                        <td id=\"T_6df80e66_3e86_11eb_a3f4_0242ac1c0002row9_col3\" class=\"data row9 col3\" >0.369</td>\n",
              "                        <td id=\"T_6df80e66_3e86_11eb_a3f4_0242ac1c0002row9_col4\" class=\"data row9 col4\" >0.098</td>\n",
              "                        <td id=\"T_6df80e66_3e86_11eb_a3f4_0242ac1c0002row9_col5\" class=\"data row9 col5\" >0.194</td>\n",
              "                        <td id=\"T_6df80e66_3e86_11eb_a3f4_0242ac1c0002row9_col6\" class=\"data row9 col6\" >-0.428</td>\n",
              "                        <td id=\"T_6df80e66_3e86_11eb_a3f4_0242ac1c0002row9_col7\" class=\"data row9 col7\" >-0.285</td>\n",
              "                        <td id=\"T_6df80e66_3e86_11eb_a3f4_0242ac1c0002row9_col8\" class=\"data row9 col8\" >0.534</td>\n",
              "                        <td id=\"T_6df80e66_3e86_11eb_a3f4_0242ac1c0002row9_col9\" class=\"data row9 col9\" >1.000</td>\n",
              "                        <td id=\"T_6df80e66_3e86_11eb_a3f4_0242ac1c0002row9_col10\" class=\"data row9 col10\" >-0.130</td>\n",
              "                        <td id=\"T_6df80e66_3e86_11eb_a3f4_0242ac1c0002row9_col11\" class=\"data row9 col11\" >-0.130</td>\n",
              "                        <td id=\"T_6df80e66_3e86_11eb_a3f4_0242ac1c0002row9_col12\" class=\"data row9 col12\" >0.202</td>\n",
              "            </tr>\n",
              "            <tr>\n",
              "                        <th id=\"T_6df80e66_3e86_11eb_a3f4_0242ac1c0002level0_row10\" class=\"row_heading level0 row10\" >CREA</th>\n",
              "                        <td id=\"T_6df80e66_3e86_11eb_a3f4_0242ac1c0002row10_col0\" class=\"data row10 col0\" >-0.187</td>\n",
              "                        <td id=\"T_6df80e66_3e86_11eb_a3f4_0242ac1c0002row10_col1\" class=\"data row10 col1\" >-0.127</td>\n",
              "                        <td id=\"T_6df80e66_3e86_11eb_a3f4_0242ac1c0002row10_col2\" class=\"data row10 col2\" >0.155</td>\n",
              "                        <td id=\"T_6df80e66_3e86_11eb_a3f4_0242ac1c0002row10_col3\" class=\"data row10 col3\" >-0.100</td>\n",
              "                        <td id=\"T_6df80e66_3e86_11eb_a3f4_0242ac1c0002row10_col4\" class=\"data row10 col4\" >0.215</td>\n",
              "                        <td id=\"T_6df80e66_3e86_11eb_a3f4_0242ac1c0002row10_col5\" class=\"data row10 col5\" >-0.205</td>\n",
              "                        <td id=\"T_6df80e66_3e86_11eb_a3f4_0242ac1c0002row10_col6\" class=\"data row10 col6\" >-0.055</td>\n",
              "                        <td id=\"T_6df80e66_3e86_11eb_a3f4_0242ac1c0002row10_col7\" class=\"data row10 col7\" >-0.010</td>\n",
              "                        <td id=\"T_6df80e66_3e86_11eb_a3f4_0242ac1c0002row10_col8\" class=\"data row10 col8\" >-0.087</td>\n",
              "                        <td id=\"T_6df80e66_3e86_11eb_a3f4_0242ac1c0002row10_col9\" class=\"data row10 col9\" >-0.130</td>\n",
              "                        <td id=\"T_6df80e66_3e86_11eb_a3f4_0242ac1c0002row10_col10\" class=\"data row10 col10\" >1.000</td>\n",
              "                        <td id=\"T_6df80e66_3e86_11eb_a3f4_0242ac1c0002row10_col11\" class=\"data row10 col11\" >0.112</td>\n",
              "                        <td id=\"T_6df80e66_3e86_11eb_a3f4_0242ac1c0002row10_col12\" class=\"data row10 col12\" >-0.141</td>\n",
              "            </tr>\n",
              "            <tr>\n",
              "                        <th id=\"T_6df80e66_3e86_11eb_a3f4_0242ac1c0002level0_row11\" class=\"row_heading level0 row11\" >GGT</th>\n",
              "                        <td id=\"T_6df80e66_3e86_11eb_a3f4_0242ac1c0002row11_col0\" class=\"data row11 col0\" >-0.426</td>\n",
              "                        <td id=\"T_6df80e66_3e86_11eb_a3f4_0242ac1c0002row11_col1\" class=\"data row11 col1\" >-0.032</td>\n",
              "                        <td id=\"T_6df80e66_3e86_11eb_a3f4_0242ac1c0002row11_col2\" class=\"data row11 col2\" >0.332</td>\n",
              "                        <td id=\"T_6df80e66_3e86_11eb_a3f4_0242ac1c0002row11_col3\" class=\"data row11 col3\" >-0.062</td>\n",
              "                        <td id=\"T_6df80e66_3e86_11eb_a3f4_0242ac1c0002row11_col4\" class=\"data row11 col4\" >0.542</td>\n",
              "                        <td id=\"T_6df80e66_3e86_11eb_a3f4_0242ac1c0002row11_col5\" class=\"data row11 col5\" >-0.040</td>\n",
              "                        <td id=\"T_6df80e66_3e86_11eb_a3f4_0242ac1c0002row11_col6\" class=\"data row11 col6\" >0.454</td>\n",
              "                        <td id=\"T_6df80e66_3e86_11eb_a3f4_0242ac1c0002row11_col7\" class=\"data row11 col7\" >0.202</td>\n",
              "                        <td id=\"T_6df80e66_3e86_11eb_a3f4_0242ac1c0002row11_col8\" class=\"data row11 col8\" >-0.219</td>\n",
              "                        <td id=\"T_6df80e66_3e86_11eb_a3f4_0242ac1c0002row11_col9\" class=\"data row11 col9\" >-0.130</td>\n",
              "                        <td id=\"T_6df80e66_3e86_11eb_a3f4_0242ac1c0002row11_col10\" class=\"data row11 col10\" >0.112</td>\n",
              "                        <td id=\"T_6df80e66_3e86_11eb_a3f4_0242ac1c0002row11_col11\" class=\"data row11 col11\" >1.000</td>\n",
              "                        <td id=\"T_6df80e66_3e86_11eb_a3f4_0242ac1c0002row11_col12\" class=\"data row11 col12\" >0.105</td>\n",
              "            </tr>\n",
              "            <tr>\n",
              "                        <th id=\"T_6df80e66_3e86_11eb_a3f4_0242ac1c0002level0_row12\" class=\"row_heading level0 row12\" >PROT</th>\n",
              "                        <td id=\"T_6df80e66_3e86_11eb_a3f4_0242ac1c0002row12_col0\" class=\"data row12 col0\" >-0.167</td>\n",
              "                        <td id=\"T_6df80e66_3e86_11eb_a3f4_0242ac1c0002row12_col1\" class=\"data row12 col1\" >-0.156</td>\n",
              "                        <td id=\"T_6df80e66_3e86_11eb_a3f4_0242ac1c0002row12_col2\" class=\"data row12 col2\" >-0.033</td>\n",
              "                        <td id=\"T_6df80e66_3e86_11eb_a3f4_0242ac1c0002row12_col3\" class=\"data row12 col3\" >0.551</td>\n",
              "                        <td id=\"T_6df80e66_3e86_11eb_a3f4_0242ac1c0002row12_col4\" class=\"data row12 col4\" >-0.180</td>\n",
              "                        <td id=\"T_6df80e66_3e86_11eb_a3f4_0242ac1c0002row12_col5\" class=\"data row12 col5\" >0.153</td>\n",
              "                        <td id=\"T_6df80e66_3e86_11eb_a3f4_0242ac1c0002row12_col6\" class=\"data row12 col6\" >0.115</td>\n",
              "                        <td id=\"T_6df80e66_3e86_11eb_a3f4_0242ac1c0002row12_col7\" class=\"data row12 col7\" >-0.133</td>\n",
              "                        <td id=\"T_6df80e66_3e86_11eb_a3f4_0242ac1c0002row12_col8\" class=\"data row12 col8\" >0.258</td>\n",
              "                        <td id=\"T_6df80e66_3e86_11eb_a3f4_0242ac1c0002row12_col9\" class=\"data row12 col9\" >0.202</td>\n",
              "                        <td id=\"T_6df80e66_3e86_11eb_a3f4_0242ac1c0002row12_col10\" class=\"data row12 col10\" >-0.141</td>\n",
              "                        <td id=\"T_6df80e66_3e86_11eb_a3f4_0242ac1c0002row12_col11\" class=\"data row12 col11\" >0.105</td>\n",
              "                        <td id=\"T_6df80e66_3e86_11eb_a3f4_0242ac1c0002row12_col12\" class=\"data row12 col12\" >1.000</td>\n",
              "            </tr>\n",
              "    </tbody></table>"
            ],
            "text/plain": [
              "<pandas.io.formats.style.Styler at 0x7f36a4a8a0f0>"
            ]
          },
          "metadata": {
            "tags": []
          },
          "execution_count": 233
        }
      ]
    },
    {
      "cell_type": "markdown",
      "metadata": {
        "id": "zxAEP3msK1Vh"
      },
      "source": [
        "###Outiliers:\n",
        "\n",
        "Outliers são dados que basicamente mantêm distância de todos os outros pontos. São pontos fora do normal, cujos valores estão fora da faixa normal e podem causar resultados desequilibrados. O conjunto de dados pode conter um ou mais outliers. A influência dos outliers é quase um efeito borboleta, pequenos erros se espalharão, se não forem tratados corretamente, causarão problemas e anormalidades. Na análise estatística, a influência de outliers é fácil de observar. Foi verificado que existem várias ocorrências de outliers."
      ]
    },
    {
      "cell_type": "code",
      "metadata": {
        "colab": {
          "base_uri": "https://localhost:8080/",
          "height": 677
        },
        "id": "LNanHH_EK1ea",
        "outputId": "5dc2c61a-e4f3-4a04-8b53-1f83f48e381c"
      },
      "source": [
        "data_set.boxplot(figsize=(26,20))"
      ],
      "execution_count": null,
      "outputs": [
        {
          "output_type": "execute_result",
          "data": {
            "text/plain": [
              "<matplotlib.axes._subplots.AxesSubplot at 0x7f36a4aa99b0>"
            ]
          },
          "metadata": {
            "tags": []
          },
          "execution_count": 234
        },
        {
          "output_type": "display_data",
          "data": {
            "image/png": "[encoded data removed]",
            "text/plain": [
              "<Figure size 1872x1440 with 1 Axes>"
            ]
          },
          "metadata": {
            "tags": []
          }
        }
      ]
    },
    {
      "cell_type": "markdown",
      "metadata": {
        "id": "IJ4fhC1OK1t5"
      },
      "source": [
        "###Normalização da Base\n",
        "\n",
        "Para a normalização da base foi escolhido o StandardScaler."
      ]
    },
    {
      "cell_type": "code",
      "metadata": {
        "colab": {
          "base_uri": "https://localhost:8080/",
          "height": 444
        },
        "id": "XFnZYrZ0K10_",
        "outputId": "e0165e0c-cf11-4bfa-c9da-8989c5be7883"
      },
      "source": [
        "columns_mean = data_set.mean()\n",
        "columns_std = data_set.std()\n",
        "data_set_normalized = (data_set - columns_mean) / columns_std\n",
        "data_set_normalized"
      ],
      "execution_count": null,
      "outputs": [
        {
          "output_type": "execute_result",
          "data": {
            "text/html": [
              "<div>\n",
              "<style scoped>\n",
              "    .dataframe tbody tr th:only-of-type {\n",
              "        vertical-align: middle;\n",
              "    }\n",
              "\n",
              "    .dataframe tbody tr th {\n",
              "        vertical-align: top;\n",
              "    }\n",
              "\n",
              "    .dataframe thead th {\n",
              "        text-align: right;\n",
              "    }\n",
              "</style>\n",
              "<table border=\"1\" class=\"dataframe\">\n",
              "  <thead>\n",
              "    <tr style=\"text-align: right;\">\n",
              "      <th></th>\n",
              "      <th>Category</th>\n",
              "      <th>Age</th>\n",
              "      <th>Sex</th>\n",
              "      <th>ALB</th>\n",
              "      <th>ALP</th>\n",
              "      <th>ALT</th>\n",
              "      <th>AST</th>\n",
              "      <th>BIL</th>\n",
              "      <th>CHE</th>\n",
              "      <th>CHOL</th>\n",
              "      <th>CREA</th>\n",
              "      <th>GGT</th>\n",
              "      <th>PROT</th>\n",
              "    </tr>\n",
              "  </thead>\n",
              "  <tbody>\n",
              "    <tr>\n",
              "      <th>476</th>\n",
              "      <td>0.995526</td>\n",
              "      <td>-0.024927</td>\n",
              "      <td>-0.742021</td>\n",
              "      <td>0.700943</td>\n",
              "      <td>0.370545</td>\n",
              "      <td>0.019606</td>\n",
              "      <td>-0.671367</td>\n",
              "      <td>-0.337712</td>\n",
              "      <td>0.980632</td>\n",
              "      <td>1.064056</td>\n",
              "      <td>-0.275652</td>\n",
              "      <td>-0.505290</td>\n",
              "      <td>0.898905</td>\n",
              "    </tr>\n",
              "    <tr>\n",
              "      <th>477</th>\n",
              "      <td>0.995526</td>\n",
              "      <td>-0.024927</td>\n",
              "      <td>-0.742021</td>\n",
              "      <td>0.669447</td>\n",
              "      <td>-0.143386</td>\n",
              "      <td>-0.130474</td>\n",
              "      <td>-0.644564</td>\n",
              "      <td>-0.379065</td>\n",
              "      <td>-0.084799</td>\n",
              "      <td>1.302464</td>\n",
              "      <td>-0.115045</td>\n",
              "      <td>-0.547233</td>\n",
              "      <td>-0.302980</td>\n",
              "    </tr>\n",
              "    <tr>\n",
              "      <th>478</th>\n",
              "      <td>0.995526</td>\n",
              "      <td>-0.024927</td>\n",
              "      <td>-0.742021</td>\n",
              "      <td>0.291486</td>\n",
              "      <td>0.538823</td>\n",
              "      <td>-0.375343</td>\n",
              "      <td>-0.655601</td>\n",
              "      <td>-0.478311</td>\n",
              "      <td>0.154308</td>\n",
              "      <td>0.192376</td>\n",
              "      <td>-0.132891</td>\n",
              "      <td>0.101889</td>\n",
              "      <td>0.961340</td>\n",
              "    </tr>\n",
              "    <tr>\n",
              "      <th>479</th>\n",
              "      <td>0.995526</td>\n",
              "      <td>-0.024927</td>\n",
              "      <td>-0.742021</td>\n",
              "      <td>-0.196714</td>\n",
              "      <td>0.379641</td>\n",
              "      <td>0.390859</td>\n",
              "      <td>-0.652447</td>\n",
              "      <td>-0.274305</td>\n",
              "      <td>-0.046120</td>\n",
              "      <td>-0.299340</td>\n",
              "      <td>-0.222116</td>\n",
              "      <td>-0.556221</td>\n",
              "      <td>-0.412242</td>\n",
              "    </tr>\n",
              "    <tr>\n",
              "      <th>480</th>\n",
              "      <td>0.995526</td>\n",
              "      <td>-0.024927</td>\n",
              "      <td>-0.742021</td>\n",
              "      <td>1.283634</td>\n",
              "      <td>-0.025136</td>\n",
              "      <td>0.454050</td>\n",
              "      <td>-0.450633</td>\n",
              "      <td>-0.161275</td>\n",
              "      <td>1.082604</td>\n",
              "      <td>0.602140</td>\n",
              "      <td>-0.052587</td>\n",
              "      <td>-0.418407</td>\n",
              "      <td>0.602336</td>\n",
              "    </tr>\n",
              "    <tr>\n",
              "      <th>...</th>\n",
              "      <td>...</td>\n",
              "      <td>...</td>\n",
              "      <td>...</td>\n",
              "      <td>...</td>\n",
              "      <td>...</td>\n",
              "      <td>...</td>\n",
              "      <td>...</td>\n",
              "      <td>...</td>\n",
              "      <td>...</td>\n",
              "      <td>...</td>\n",
              "      <td>...</td>\n",
              "      <td>...</td>\n",
              "      <td>...</td>\n",
              "    </tr>\n",
              "    <tr>\n",
              "      <th>608</th>\n",
              "      <td>-0.995526</td>\n",
              "      <td>0.473615</td>\n",
              "      <td>-0.742021</td>\n",
              "      <td>-0.826649</td>\n",
              "      <td>-0.491312</td>\n",
              "      <td>-0.280555</td>\n",
              "      <td>1.400382</td>\n",
              "      <td>-0.351497</td>\n",
              "      <td>-0.411812</td>\n",
              "      <td>-0.925162</td>\n",
              "      <td>-0.275652</td>\n",
              "      <td>-0.173738</td>\n",
              "      <td>1.476434</td>\n",
              "    </tr>\n",
              "    <tr>\n",
              "      <th>609</th>\n",
              "      <td>-0.995526</td>\n",
              "      <td>0.573324</td>\n",
              "      <td>-0.742021</td>\n",
              "      <td>-0.039230</td>\n",
              "      <td>-0.379885</td>\n",
              "      <td>0.082798</td>\n",
              "      <td>3.541504</td>\n",
              "      <td>0.530691</td>\n",
              "      <td>-0.584109</td>\n",
              "      <td>-0.530298</td>\n",
              "      <td>0.439046</td>\n",
              "      <td>0.339567</td>\n",
              "      <td>-0.100064</td>\n",
              "    </tr>\n",
              "    <tr>\n",
              "      <th>610</th>\n",
              "      <td>-0.995526</td>\n",
              "      <td>0.872449</td>\n",
              "      <td>-0.742021</td>\n",
              "      <td>-1.141617</td>\n",
              "      <td>7.927146</td>\n",
              "      <td>-0.999362</td>\n",
              "      <td>0.774442</td>\n",
              "      <td>0.806375</td>\n",
              "      <td>-0.654435</td>\n",
              "      <td>0.803297</td>\n",
              "      <td>-0.278329</td>\n",
              "      <td>5.830138</td>\n",
              "      <td>-0.412242</td>\n",
              "    </tr>\n",
              "    <tr>\n",
              "      <th>611</th>\n",
              "      <td>-0.995526</td>\n",
              "      <td>1.071866</td>\n",
              "      <td>-0.742021</td>\n",
              "      <td>-2.401487</td>\n",
              "      <td>0.791241</td>\n",
              "      <td>-1.236332</td>\n",
              "      <td>-0.264586</td>\n",
              "      <td>-0.020676</td>\n",
              "      <td>-2.071492</td>\n",
              "      <td>-1.640386</td>\n",
              "      <td>-0.213194</td>\n",
              "      <td>-0.311552</td>\n",
              "      <td>0.024807</td>\n",
              "    </tr>\n",
              "    <tr>\n",
              "      <th>612</th>\n",
              "      <td>-0.995526</td>\n",
              "      <td>1.071866</td>\n",
              "      <td>-0.742021</td>\n",
              "      <td>-1.614068</td>\n",
              "      <td>0.438766</td>\n",
              "      <td>-1.188938</td>\n",
              "      <td>0.596278</td>\n",
              "      <td>0.751238</td>\n",
              "      <td>-2.029297</td>\n",
              "      <td>-1.185921</td>\n",
              "      <td>-0.180180</td>\n",
              "      <td>-0.028934</td>\n",
              "      <td>1.694958</td>\n",
              "    </tr>\n",
              "  </tbody>\n",
              "</table>\n",
              "<p>112 rows × 13 columns</p>\n",
              "</div>"
            ],
            "text/plain": [
              "     Category       Age       Sex  ...      CREA       GGT      PROT\n",
              "476  0.995526 -0.024927 -0.742021  ... -0.275652 -0.505290  0.898905\n",
              "477  0.995526 -0.024927 -0.742021  ... -0.115045 -0.547233 -0.302980\n",
              "478  0.995526 -0.024927 -0.742021  ... -0.132891  0.101889  0.961340\n",
              "479  0.995526 -0.024927 -0.742021  ... -0.222116 -0.556221 -0.412242\n",
              "480  0.995526 -0.024927 -0.742021  ... -0.052587 -0.418407  0.602336\n",
              "..        ...       ...       ...  ...       ...       ...       ...\n",
              "608 -0.995526  0.473615 -0.742021  ... -0.275652 -0.173738  1.476434\n",
              "609 -0.995526  0.573324 -0.742021  ...  0.439046  0.339567 -0.100064\n",
              "610 -0.995526  0.872449 -0.742021  ... -0.278329  5.830138 -0.412242\n",
              "611 -0.995526  1.071866 -0.742021  ... -0.213194 -0.311552  0.024807\n",
              "612 -0.995526  1.071866 -0.742021  ... -0.180180 -0.028934  1.694958\n",
              "\n",
              "[112 rows x 13 columns]"
            ]
          },
          "metadata": {
            "tags": []
          },
          "execution_count": 235
        }
      ]
    },
    {
      "cell_type": "code",
      "metadata": {
        "colab": {
          "base_uri": "https://localhost:8080/",
          "height": 444
        },
        "id": "NbTT60eSN1yK",
        "outputId": "cf71ba52-4942-415a-d229-6ee7bc1005ae"
      },
      "source": [
        "data_set_normalized['Category'] = numberCatSex.fit_transform(data_set_normalized['Category'])\n",
        "data_set_normalized"
      ],
      "execution_count": null,
      "outputs": [
        {
          "output_type": "execute_result",
          "data": {
            "text/html": [
              "<div>\n",
              "<style scoped>\n",
              "    .dataframe tbody tr th:only-of-type {\n",
              "        vertical-align: middle;\n",
              "    }\n",
              "\n",
              "    .dataframe tbody tr th {\n",
              "        vertical-align: top;\n",
              "    }\n",
              "\n",
              "    .dataframe thead th {\n",
              "        text-align: right;\n",
              "    }\n",
              "</style>\n",
              "<table border=\"1\" class=\"dataframe\">\n",
              "  <thead>\n",
              "    <tr style=\"text-align: right;\">\n",
              "      <th></th>\n",
              "      <th>Category</th>\n",
              "      <th>Age</th>\n",
              "      <th>Sex</th>\n",
              "      <th>ALB</th>\n",
              "      <th>ALP</th>\n",
              "      <th>ALT</th>\n",
              "      <th>AST</th>\n",
              "      <th>BIL</th>\n",
              "      <th>CHE</th>\n",
              "      <th>CHOL</th>\n",
              "      <th>CREA</th>\n",
              "      <th>GGT</th>\n",
              "      <th>PROT</th>\n",
              "    </tr>\n",
              "  </thead>\n",
              "  <tbody>\n",
              "    <tr>\n",
              "      <th>476</th>\n",
              "      <td>1</td>\n",
              "      <td>-0.024927</td>\n",
              "      <td>-0.742021</td>\n",
              "      <td>0.700943</td>\n",
              "      <td>0.370545</td>\n",
              "      <td>0.019606</td>\n",
              "      <td>-0.671367</td>\n",
              "      <td>-0.337712</td>\n",
              "      <td>0.980632</td>\n",
              "      <td>1.064056</td>\n",
              "      <td>-0.275652</td>\n",
              "      <td>-0.505290</td>\n",
              "      <td>0.898905</td>\n",
              "    </tr>\n",
              "    <tr>\n",
              "      <th>477</th>\n",
              "      <td>1</td>\n",
              "      <td>-0.024927</td>\n",
              "      <td>-0.742021</td>\n",
              "      <td>0.669447</td>\n",
              "      <td>-0.143386</td>\n",
              "      <td>-0.130474</td>\n",
              "      <td>-0.644564</td>\n",
              "      <td>-0.379065</td>\n",
              "      <td>-0.084799</td>\n",
              "      <td>1.302464</td>\n",
              "      <td>-0.115045</td>\n",
              "      <td>-0.547233</td>\n",
              "      <td>-0.302980</td>\n",
              "    </tr>\n",
              "    <tr>\n",
              "      <th>478</th>\n",
              "      <td>1</td>\n",
              "      <td>-0.024927</td>\n",
              "      <td>-0.742021</td>\n",
              "      <td>0.291486</td>\n",
              "      <td>0.538823</td>\n",
              "      <td>-0.375343</td>\n",
              "      <td>-0.655601</td>\n",
              "      <td>-0.478311</td>\n",
              "      <td>0.154308</td>\n",
              "      <td>0.192376</td>\n",
              "      <td>-0.132891</td>\n",
              "      <td>0.101889</td>\n",
              "      <td>0.961340</td>\n",
              "    </tr>\n",
              "    <tr>\n",
              "      <th>479</th>\n",
              "      <td>1</td>\n",
              "      <td>-0.024927</td>\n",
              "      <td>-0.742021</td>\n",
              "      <td>-0.196714</td>\n",
              "      <td>0.379641</td>\n",
              "      <td>0.390859</td>\n",
              "      <td>-0.652447</td>\n",
              "      <td>-0.274305</td>\n",
              "      <td>-0.046120</td>\n",
              "      <td>-0.299340</td>\n",
              "      <td>-0.222116</td>\n",
              "      <td>-0.556221</td>\n",
              "      <td>-0.412242</td>\n",
              "    </tr>\n",
              "    <tr>\n",
              "      <th>480</th>\n",
              "      <td>1</td>\n",
              "      <td>-0.024927</td>\n",
              "      <td>-0.742021</td>\n",
              "      <td>1.283634</td>\n",
              "      <td>-0.025136</td>\n",
              "      <td>0.454050</td>\n",
              "      <td>-0.450633</td>\n",
              "      <td>-0.161275</td>\n",
              "      <td>1.082604</td>\n",
              "      <td>0.602140</td>\n",
              "      <td>-0.052587</td>\n",
              "      <td>-0.418407</td>\n",
              "      <td>0.602336</td>\n",
              "    </tr>\n",
              "    <tr>\n",
              "      <th>...</th>\n",
              "      <td>...</td>\n",
              "      <td>...</td>\n",
              "      <td>...</td>\n",
              "      <td>...</td>\n",
              "      <td>...</td>\n",
              "      <td>...</td>\n",
              "      <td>...</td>\n",
              "      <td>...</td>\n",
              "      <td>...</td>\n",
              "      <td>...</td>\n",
              "      <td>...</td>\n",
              "      <td>...</td>\n",
              "      <td>...</td>\n",
              "    </tr>\n",
              "    <tr>\n",
              "      <th>608</th>\n",
              "      <td>0</td>\n",
              "      <td>0.473615</td>\n",
              "      <td>-0.742021</td>\n",
              "      <td>-0.826649</td>\n",
              "      <td>-0.491312</td>\n",
              "      <td>-0.280555</td>\n",
              "      <td>1.400382</td>\n",
              "      <td>-0.351497</td>\n",
              "      <td>-0.411812</td>\n",
              "      <td>-0.925162</td>\n",
              "      <td>-0.275652</td>\n",
              "      <td>-0.173738</td>\n",
              "      <td>1.476434</td>\n",
              "    </tr>\n",
              "    <tr>\n",
              "      <th>609</th>\n",
              "      <td>0</td>\n",
              "      <td>0.573324</td>\n",
              "      <td>-0.742021</td>\n",
              "      <td>-0.039230</td>\n",
              "      <td>-0.379885</td>\n",
              "      <td>0.082798</td>\n",
              "      <td>3.541504</td>\n",
              "      <td>0.530691</td>\n",
              "      <td>-0.584109</td>\n",
              "      <td>-0.530298</td>\n",
              "      <td>0.439046</td>\n",
              "      <td>0.339567</td>\n",
              "      <td>-0.100064</td>\n",
              "    </tr>\n",
              "    <tr>\n",
              "      <th>610</th>\n",
              "      <td>0</td>\n",
              "      <td>0.872449</td>\n",
              "      <td>-0.742021</td>\n",
              "      <td>-1.141617</td>\n",
              "      <td>7.927146</td>\n",
              "      <td>-0.999362</td>\n",
              "      <td>0.774442</td>\n",
              "      <td>0.806375</td>\n",
              "      <td>-0.654435</td>\n",
              "      <td>0.803297</td>\n",
              "      <td>-0.278329</td>\n",
              "      <td>5.830138</td>\n",
              "      <td>-0.412242</td>\n",
              "    </tr>\n",
              "    <tr>\n",
              "      <th>611</th>\n",
              "      <td>0</td>\n",
              "      <td>1.071866</td>\n",
              "      <td>-0.742021</td>\n",
              "      <td>-2.401487</td>\n",
              "      <td>0.791241</td>\n",
              "      <td>-1.236332</td>\n",
              "      <td>-0.264586</td>\n",
              "      <td>-0.020676</td>\n",
              "      <td>-2.071492</td>\n",
              "      <td>-1.640386</td>\n",
              "      <td>-0.213194</td>\n",
              "      <td>-0.311552</td>\n",
              "      <td>0.024807</td>\n",
              "    </tr>\n",
              "    <tr>\n",
              "      <th>612</th>\n",
              "      <td>0</td>\n",
              "      <td>1.071866</td>\n",
              "      <td>-0.742021</td>\n",
              "      <td>-1.614068</td>\n",
              "      <td>0.438766</td>\n",
              "      <td>-1.188938</td>\n",
              "      <td>0.596278</td>\n",
              "      <td>0.751238</td>\n",
              "      <td>-2.029297</td>\n",
              "      <td>-1.185921</td>\n",
              "      <td>-0.180180</td>\n",
              "      <td>-0.028934</td>\n",
              "      <td>1.694958</td>\n",
              "    </tr>\n",
              "  </tbody>\n",
              "</table>\n",
              "<p>112 rows × 13 columns</p>\n",
              "</div>"
            ],
            "text/plain": [
              "     Category       Age       Sex  ...      CREA       GGT      PROT\n",
              "476         1 -0.024927 -0.742021  ... -0.275652 -0.505290  0.898905\n",
              "477         1 -0.024927 -0.742021  ... -0.115045 -0.547233 -0.302980\n",
              "478         1 -0.024927 -0.742021  ... -0.132891  0.101889  0.961340\n",
              "479         1 -0.024927 -0.742021  ... -0.222116 -0.556221 -0.412242\n",
              "480         1 -0.024927 -0.742021  ... -0.052587 -0.418407  0.602336\n",
              "..        ...       ...       ...  ...       ...       ...       ...\n",
              "608         0  0.473615 -0.742021  ... -0.275652 -0.173738  1.476434\n",
              "609         0  0.573324 -0.742021  ...  0.439046  0.339567 -0.100064\n",
              "610         0  0.872449 -0.742021  ... -0.278329  5.830138 -0.412242\n",
              "611         0  1.071866 -0.742021  ... -0.213194 -0.311552  0.024807\n",
              "612         0  1.071866 -0.742021  ... -0.180180 -0.028934  1.694958\n",
              "\n",
              "[112 rows x 13 columns]"
            ]
          },
          "metadata": {
            "tags": []
          },
          "execution_count": 236
        }
      ]
    },
    {
      "cell_type": "markdown",
      "metadata": {
        "id": "TWrVOihQO9is"
      },
      "source": [
        "##**Multilayer Perceptron**\n",
        "\n",
        "A perceptron multicamadas é uma rede neural semelhante à perceptron, mas com mais de uma camada de neurônios em alimentação direta. Tal tipo de rede é composta por camadas de neurônios ligadas entre si por sinapses com pesos. "
      ]
    },
    {
      "cell_type": "markdown",
      "metadata": {
        "id": "ulps8H_NPMYy"
      },
      "source": [
        "###Criação de váriaveis\n",
        "\n",
        "Atributos de previsões e a classe."
      ]
    },
    {
      "cell_type": "code",
      "metadata": {
        "id": "RdhGKqM-PYld"
      },
      "source": [
        "predictions = data_set.iloc[:, 1:14]\n",
        "Class = data_set.iloc[:, 0]"
      ],
      "execution_count": null,
      "outputs": []
    },
    {
      "cell_type": "markdown",
      "metadata": {
        "id": "ASa_rI1MPu8g"
      },
      "source": [
        "###Divisão de Treino e Teste\n",
        "\n",
        "Foi dividido 80% para o treinamento e 20% para o teste da Rede Neural."
      ]
    },
    {
      "cell_type": "code",
      "metadata": {
        "id": "hAROrks4QCkH"
      },
      "source": [
        "predictions_train, predictions_test, class_train, class_test = train_test_split(predictions, Class,\n",
        "                                                                                              random_state = 0, test_size = 0.20)"
      ],
      "execution_count": null,
      "outputs": []
    },
    {
      "cell_type": "markdown",
      "metadata": {
        "id": "VFk6RehFQmzz"
      },
      "source": [
        "###Criação da Rede Neural"
      ]
    },
    {
      "cell_type": "code",
      "metadata": {
        "id": "Dx8pvaXuQqn0"
      },
      "source": [
        "model = Sequential()\n",
        "model.add(Dense(units = 8, activation = 'relu', kernel_initializer = 'random_uniform', input_dim = 12))\n",
        "model.add(Dense(units = 8, activation = 'relu', kernel_initializer = 'random_uniform'))\n",
        "model.add(Dense(units = 1, activation = 'sigmoid'))\n",
        "\n",
        "model.compile(optimizer = 'adam', loss = 'binary_crossentropy', metrics = ['binary_accuracy'])"
      ],
      "execution_count": null,
      "outputs": []
    },
    {
      "cell_type": "markdown",
      "metadata": {
        "id": "CWNh7_vMQ19D"
      },
      "source": [
        "###Treino da Rede"
      ]
    },
    {
      "cell_type": "code",
      "metadata": {
        "colab": {
          "base_uri": "https://localhost:8080/"
        },
        "id": "v9MHWxAjQ4-0",
        "outputId": "f94e6561-af77-4bbf-fcd4-6d6be78b4eff"
      },
      "source": [
        "model.fit(predictions_train, class_train, batch_size = 5, epochs = 15)"
      ],
      "execution_count": null,
      "outputs": [
        {
          "output_type": "stream",
          "text": [
            "Epoch 1/15\n",
            "18/18 [==============================] - 0s 1ms/step - loss: 0.6526 - binary_accuracy: 0.6966\n",
            "Epoch 2/15\n",
            "18/18 [==============================] - 0s 1ms/step - loss: 0.5723 - binary_accuracy: 0.9438\n",
            "Epoch 3/15\n",
            "18/18 [==============================] - 0s 1ms/step - loss: 0.5035 - binary_accuracy: 0.9438\n",
            "Epoch 4/15\n",
            "18/18 [==============================] - 0s 2ms/step - loss: 0.4318 - binary_accuracy: 0.9326\n",
            "Epoch 5/15\n",
            "18/18 [==============================] - 0s 1ms/step - loss: 0.3572 - binary_accuracy: 0.9326\n",
            "Epoch 6/15\n",
            "18/18 [==============================] - 0s 1ms/step - loss: 0.2840 - binary_accuracy: 0.9438\n",
            "Epoch 7/15\n",
            "18/18 [==============================] - 0s 1ms/step - loss: 0.2230 - binary_accuracy: 0.9438\n",
            "Epoch 8/15\n",
            "18/18 [==============================] - 0s 1ms/step - loss: 0.1827 - binary_accuracy: 0.9663\n",
            "Epoch 9/15\n",
            "18/18 [==============================] - 0s 2ms/step - loss: 0.1522 - binary_accuracy: 0.9551\n",
            "Epoch 10/15\n",
            "18/18 [==============================] - 0s 1ms/step - loss: 0.1237 - binary_accuracy: 0.9775\n",
            "Epoch 11/15\n",
            "18/18 [==============================] - 0s 1ms/step - loss: 0.0857 - binary_accuracy: 0.9888\n",
            "Epoch 12/15\n",
            "18/18 [==============================] - 0s 1ms/step - loss: 0.0826 - binary_accuracy: 0.9888\n",
            "Epoch 13/15\n",
            "18/18 [==============================] - 0s 1ms/step - loss: 0.0525 - binary_accuracy: 1.0000\n",
            "Epoch 14/15\n",
            "18/18 [==============================] - 0s 1ms/step - loss: 0.0480 - binary_accuracy: 0.9888\n",
            "Epoch 15/15\n",
            "18/18 [==============================] - 0s 1ms/step - loss: 0.0408 - binary_accuracy: 1.0000\n"
          ],
          "name": "stdout"
        },
        {
          "output_type": "execute_result",
          "data": {
            "text/plain": [
              "<tensorflow.python.keras.callbacks.History at 0x7f36a48ef550>"
            ]
          },
          "metadata": {
            "tags": []
          },
          "execution_count": 240
        }
      ]
    },
    {
      "cell_type": "markdown",
      "metadata": {
        "id": "26cLRlLgRNrN"
      },
      "source": [
        "###Predição"
      ]
    },
    {
      "cell_type": "code",
      "metadata": {
        "colab": {
          "base_uri": "https://localhost:8080/"
        },
        "id": "2utg0I1hRSf-",
        "outputId": "30baf830-f38e-49f6-c16e-e27a0770fd81"
      },
      "source": [
        "prediction = model.predict(predictions_test)\n",
        "prediction = (prediction > 0.5)\n",
        "prediction"
      ],
      "execution_count": null,
      "outputs": [
        {
          "output_type": "stream",
          "text": [
            "WARNING:tensorflow:5 out of the last 9 calls to <function Model.make_predict_function.<locals>.predict_function at 0x7f36a509b048> triggered tf.function retracing. Tracing is expensive and the excessive number of tracings could be due to (1) creating @tf.function repeatedly in a loop, (2) passing tensors with different shapes, (3) passing Python objects instead of tensors. For (1), please define your @tf.function outside of the loop. For (2), @tf.function has experimental_relax_shapes=True option that relaxes argument shapes that can avoid unnecessary retracing. For (3), please refer to https://www.tensorflow.org/tutorials/customization/performance#python_or_tensor_args and https://www.tensorflow.org/api_docs/python/tf/function for  more details.\n"
          ],
          "name": "stdout"
        },
        {
          "output_type": "execute_result",
          "data": {
            "text/plain": [
              "array([[ True],\n",
              "       [ True],\n",
              "       [ True],\n",
              "       [ True],\n",
              "       [False],\n",
              "       [ True],\n",
              "       [False],\n",
              "       [ True],\n",
              "       [False],\n",
              "       [ True],\n",
              "       [ True],\n",
              "       [False],\n",
              "       [False],\n",
              "       [False],\n",
              "       [False],\n",
              "       [False],\n",
              "       [ True],\n",
              "       [ True],\n",
              "       [False],\n",
              "       [ True],\n",
              "       [ True],\n",
              "       [False],\n",
              "       [False]])"
            ]
          },
          "metadata": {
            "tags": []
          },
          "execution_count": 241
        }
      ]
    },
    {
      "cell_type": "markdown",
      "metadata": {
        "id": "KiY6Ohg9R3N2"
      },
      "source": [
        "###Validção do treinamento"
      ]
    },
    {
      "cell_type": "code",
      "metadata": {
        "colab": {
          "base_uri": "https://localhost:8080/"
        },
        "id": "X4PRcWEKR23G",
        "outputId": "ac6d2efb-f64d-4d11-ce09-827e7dc08229"
      },
      "source": [
        "result = model.evaluate(predictions_test, class_test)"
      ],
      "execution_count": null,
      "outputs": [
        {
          "output_type": "stream",
          "text": [
            "1/1 [==============================] - 0s 1ms/step - loss: 0.0972 - binary_accuracy: 0.9565\n"
          ],
          "name": "stdout"
        }
      ]
    },
    {
      "cell_type": "markdown",
      "metadata": {
        "id": "NFuh6X2DR3YO"
      },
      "source": [
        "###Matriz de Confusão\n",
        "\n",
        "A matriz de confusão deu os seguintes cenários: 12 instâncias não doaodor -> O Modelo classificou 11 corretas e 1 como doador | 11 instâncias doador -> O Modelo classficou 11 corretas."
      ]
    },
    {
      "cell_type": "code",
      "metadata": {
        "colab": {
          "base_uri": "https://localhost:8080/",
          "height": 282
        },
        "id": "ojpNHJNnR3hr",
        "outputId": "b1749c8f-f995-4736-ef4c-49a7ad608908"
      },
      "source": [
        "matriz = confusion_matrix(class_test, prediction)\n",
        "\n",
        "df = pd.DataFrame(matriz, range(2), range(2))\n",
        "sn.heatmap(df, annot=True, annot_kws={\"size\": 15}, cmap=\"Greens\")\n"
      ],
      "execution_count": null,
      "outputs": [
        {
          "output_type": "execute_result",
          "data": {
            "text/plain": [
              "<matplotlib.axes._subplots.AxesSubplot at 0x7f36a4f550f0>"
            ]
          },
          "metadata": {
            "tags": []
          },
          "execution_count": 243
        },
        {
          "output_type": "display_data",
          "data": {
            "image/png": "[encoded data removed]",
            "text/plain": [
              "<Figure size 432x288 with 2 Axes>"
            ]
          },
          "metadata": {
            "tags": []
          }
        }
      ]
    },
    {
      "cell_type": "markdown",
      "metadata": {
        "id": "b19A__lkUKQe"
      },
      "source": [
        "###Classificar as 7 instâncias\n",
        "\n",
        "\n",
        "Classificando as 7 instâncias de 0s=suspect Blood Donor"
      ]
    },
    {
      "cell_type": "code",
      "metadata": {
        "colab": {
          "base_uri": "https://localhost:8080/"
        },
        "id": "UJjwPwOKUZgm",
        "outputId": "38a768e3-0f87-42b3-b596-aef5f13ec690"
      },
      "source": [
        "data_set_suspect['Sex'] = numberCatSex.fit_transform(data_set_suspect['Sex'])\n",
        "data_set_suspect\n",
        "\n",
        "predictions_suspect = data_set_suspect.iloc[:, 1:14]\n",
        "predictions_suspect\n",
        "prediction_suspect = model.predict(predictions_suspect)\n",
        "prediction_suspect = (predictions_suspect > 0.5)\n",
        "prediction_suspect"
      ],
      "execution_count": null,
      "outputs": [
        {
          "output_type": "execute_result",
          "data": {
            "text/plain": [
              "array([[False],\n",
              "       [ True],\n",
              "       [ True],\n",
              "       [ True],\n",
              "       [False],\n",
              "       [False],\n",
              "       [ True]])"
            ]
          },
          "metadata": {
            "tags": []
          },
          "execution_count": 177
        }
      ]
    },
    {
      "cell_type": "markdown",
      "metadata": {
        "id": "-8_6FjbhYLfl"
      },
      "source": [
        "Classificou as 7 instâncias como 3 _doadores_ e 4 _não doadores_"
      ]
    },
    {
      "cell_type": "markdown",
      "metadata": {
        "id": "zx-mDHhWY0RM"
      },
      "source": [
        "##**Random Forest**\n",
        "\n",
        "Florestas de decisão aleatória são um método de aprendizagem de conjunto para classificação, regressão e outras tarefas que operam construindo uma infinidade de árvores de decisão no momento do treinamento e gerando a classe que é o modo das classes (classificação) ou predição média / média ( regressão) das árvores individuais."
      ]
    },
    {
      "cell_type": "markdown",
      "metadata": {
        "id": "mVK19hEPZnTp"
      },
      "source": [
        "###Criação de váriaveis\n",
        "\n",
        "Atributos de previsões e a classe."
      ]
    },
    {
      "cell_type": "code",
      "metadata": {
        "id": "iboi9R9wZtas"
      },
      "source": [
        "predictions = data_set.iloc[:, 1:14]\n",
        "Class = data_set.iloc[:, 0]"
      ],
      "execution_count": null,
      "outputs": []
    },
    {
      "cell_type": "markdown",
      "metadata": {
        "id": "p2GGYC_RZ26p"
      },
      "source": [
        "###Divisão de Treino e Teste\n",
        "\n",
        "Foi dividido 80% para o treinamento e 20% para o teste da Rede Neural."
      ]
    },
    {
      "cell_type": "code",
      "metadata": {
        "id": "fo08WNkKZ26r"
      },
      "source": [
        "predictions_train, predictions_test, class_train, class_test = train_test_split(predictions, Class,\n",
        "                                                                                              random_state = 0, test_size = 0.20)"
      ],
      "execution_count": null,
      "outputs": []
    },
    {
      "cell_type": "markdown",
      "metadata": {
        "id": "FnRxTXaBaBvp"
      },
      "source": [
        "###Classificador"
      ]
    },
    {
      "cell_type": "code",
      "metadata": {
        "id": "ttokyDCsZZbw"
      },
      "source": [
        "classifier = RandomForestClassifier(n_estimators = 30,\n",
        "                                    criterion = 'entropy', random_state = 0)"
      ],
      "execution_count": null,
      "outputs": []
    },
    {
      "cell_type": "markdown",
      "metadata": {
        "id": "TeDQuT1DaJkT"
      },
      "source": [
        "###Treinamento do Classificador"
      ]
    },
    {
      "cell_type": "code",
      "metadata": {
        "colab": {
          "base_uri": "https://localhost:8080/"
        },
        "id": "tDg9gaViaOgx",
        "outputId": "ae533cd3-47aa-4ef8-e262-6bb207583877"
      },
      "source": [
        "RandomForestClassifier(bootstrap=True, ccp_alpha=0.0, class_weight=None,\n",
        "                       criterion='entropy', max_depth=None, max_features='auto',\n",
        "                       max_leaf_nodes=None, max_samples=None,\n",
        "                       min_impurity_decrease=0.0, min_impurity_split=None,\n",
        "                       min_samples_leaf=1, min_samples_split=2,\n",
        "                       min_weight_fraction_leaf=0.0, n_estimators=30,\n",
        "                       n_jobs=None, oob_score=False, random_state=0, verbose=0,\n",
        "                       warm_start=False)"
      ],
      "execution_count": null,
      "outputs": [
        {
          "output_type": "execute_result",
          "data": {
            "text/plain": [
              "RandomForestClassifier(bootstrap=True, ccp_alpha=0.0, class_weight=None,\n",
              "                       criterion='entropy', max_depth=None, max_features='auto',\n",
              "                       max_leaf_nodes=None, max_samples=None,\n",
              "                       min_impurity_decrease=0.0, min_impurity_split=None,\n",
              "                       min_samples_leaf=1, min_samples_split=2,\n",
              "                       min_weight_fraction_leaf=0.0, n_estimators=30,\n",
              "                       n_jobs=None, oob_score=False, random_state=0, verbose=0,\n",
              "                       warm_start=False)"
            ]
          },
          "metadata": {
            "tags": []
          },
          "execution_count": 247
        }
      ]
    },
    {
      "cell_type": "markdown",
      "metadata": {
        "id": "YU6kMlwuaR82"
      },
      "source": [
        "###Predição do Classificador"
      ]
    },
    {
      "cell_type": "code",
      "metadata": {
        "colab": {
          "base_uri": "https://localhost:8080/"
        },
        "id": "yQqqkzY5abdd",
        "outputId": "0835b2e7-86af-44c1-e618-c562719fd6b1"
      },
      "source": [
        "prediction = model.predict(predictions_test)\n",
        "prediction = (prediction > 0.5)\n",
        "prediction"
      ],
      "execution_count": null,
      "outputs": [
        {
          "output_type": "execute_result",
          "data": {
            "text/plain": [
              "array([[ True],\n",
              "       [ True],\n",
              "       [ True],\n",
              "       [ True],\n",
              "       [False],\n",
              "       [ True],\n",
              "       [False],\n",
              "       [ True],\n",
              "       [False],\n",
              "       [ True],\n",
              "       [ True],\n",
              "       [False],\n",
              "       [False],\n",
              "       [False],\n",
              "       [False],\n",
              "       [False],\n",
              "       [ True],\n",
              "       [ True],\n",
              "       [False],\n",
              "       [ True],\n",
              "       [ True],\n",
              "       [False],\n",
              "       [False]])"
            ]
          },
          "metadata": {
            "tags": []
          },
          "execution_count": 248
        }
      ]
    },
    {
      "cell_type": "code",
      "metadata": {
        "colab": {
          "base_uri": "https://localhost:8080/"
        },
        "id": "0QNouYWLatCv",
        "outputId": "eb3ededc-bfdc-4460-f466-436c75397e61"
      },
      "source": [
        "precision = round(accuracy_score(class_test, prediction), 2)\n",
        "print('Acurácia:', precision)"
      ],
      "execution_count": null,
      "outputs": [
        {
          "output_type": "stream",
          "text": [
            "Acurácia: 0.96\n"
          ],
          "name": "stdout"
        }
      ]
    },
    {
      "cell_type": "markdown",
      "metadata": {
        "id": "L0Gewh8MatCv"
      },
      "source": [
        "###Matriz de Confusão\n",
        "\n",
        "A matriz de confusão deu os seguintes cenários: 11 instâncias não doaodor -> O Modelo classificou 11 corretas | 12 instâncias doador -> O Modelo classficou 11 corretas e 1 incorreta."
      ]
    },
    {
      "cell_type": "code",
      "metadata": {
        "colab": {
          "base_uri": "https://localhost:8080/",
          "height": 282
        },
        "id": "eI27QRdbatCw",
        "outputId": "c0eb85b7-55b0-4d63-c064-9916c0e308e2"
      },
      "source": [
        "matriz = confusion_matrix(prediction, class_test)\n",
        "\n",
        "df = pd.DataFrame(matriz, range(2), range(2))\n",
        "sn.heatmap(df, annot=True, annot_kws={\"size\": 15}, cmap=\"Greens\")\n"
      ],
      "execution_count": null,
      "outputs": [
        {
          "output_type": "execute_result",
          "data": {
            "text/plain": [
              "<matplotlib.axes._subplots.AxesSubplot at 0x7f36a4e41128>"
            ]
          },
          "metadata": {
            "tags": []
          },
          "execution_count": 252
        },
        {
          "output_type": "display_data",
          "data": {
            "image/png": "[encoded data removed]",
            "text/plain": [
              "<Figure size 432x288 with 2 Axes>"
            ]
          },
          "metadata": {
            "tags": []
          }
        }
      ]
    },
    {
      "cell_type": "markdown",
      "metadata": {
        "id": "CfPya84cbvYm"
      },
      "source": [
        "###Classificar as 7 instâncias\n",
        "\n",
        "\n",
        "Classificando as 7 instâncias de 0s=suspect Blood Donor"
      ]
    },
    {
      "cell_type": "code",
      "metadata": {
        "colab": {
          "base_uri": "https://localhost:8080/",
          "height": 269
        },
        "id": "R3NqWG43bvYo",
        "outputId": "4ddd0447-57db-4a29-a4b5-de326080db40"
      },
      "source": [
        "data_set_suspect\n"
      ],
      "execution_count": null,
      "outputs": [
        {
          "output_type": "execute_result",
          "data": {
            "text/html": [
              "<div>\n",
              "<style scoped>\n",
              "    .dataframe tbody tr th:only-of-type {\n",
              "        vertical-align: middle;\n",
              "    }\n",
              "\n",
              "    .dataframe tbody tr th {\n",
              "        vertical-align: top;\n",
              "    }\n",
              "\n",
              "    .dataframe thead th {\n",
              "        text-align: right;\n",
              "    }\n",
              "</style>\n",
              "<table border=\"1\" class=\"dataframe\">\n",
              "  <thead>\n",
              "    <tr style=\"text-align: right;\">\n",
              "      <th></th>\n",
              "      <th>Category</th>\n",
              "      <th>Age</th>\n",
              "      <th>Sex</th>\n",
              "      <th>ALB</th>\n",
              "      <th>ALP</th>\n",
              "      <th>ALT</th>\n",
              "      <th>AST</th>\n",
              "      <th>BIL</th>\n",
              "      <th>CHE</th>\n",
              "      <th>CHOL</th>\n",
              "      <th>CREA</th>\n",
              "      <th>GGT</th>\n",
              "      <th>PROT</th>\n",
              "    </tr>\n",
              "  </thead>\n",
              "  <tbody>\n",
              "    <tr>\n",
              "      <th>533</th>\n",
              "      <td>0s=suspect Blood Donor</td>\n",
              "      <td>47</td>\n",
              "      <td>m</td>\n",
              "      <td>22.5</td>\n",
              "      <td>124.0</td>\n",
              "      <td>79.5</td>\n",
              "      <td>46.7</td>\n",
              "      <td>2.3</td>\n",
              "      <td>6.83</td>\n",
              "      <td>4.30</td>\n",
              "      <td>170.0</td>\n",
              "      <td>345.6</td>\n",
              "      <td>58.6</td>\n",
              "    </tr>\n",
              "    <tr>\n",
              "      <th>534</th>\n",
              "      <td>0s=suspect Blood Donor</td>\n",
              "      <td>48</td>\n",
              "      <td>m</td>\n",
              "      <td>24.9</td>\n",
              "      <td>116.9</td>\n",
              "      <td>49.2</td>\n",
              "      <td>24.3</td>\n",
              "      <td>4.9</td>\n",
              "      <td>3.44</td>\n",
              "      <td>5.25</td>\n",
              "      <td>29.0</td>\n",
              "      <td>83.0</td>\n",
              "      <td>47.8</td>\n",
              "    </tr>\n",
              "    <tr>\n",
              "      <th>535</th>\n",
              "      <td>0s=suspect Blood Donor</td>\n",
              "      <td>49</td>\n",
              "      <td>m</td>\n",
              "      <td>21.6</td>\n",
              "      <td>42.2</td>\n",
              "      <td>9.5</td>\n",
              "      <td>10.6</td>\n",
              "      <td>2.4</td>\n",
              "      <td>3.75</td>\n",
              "      <td>3.01</td>\n",
              "      <td>64.0</td>\n",
              "      <td>38.9</td>\n",
              "      <td>44.8</td>\n",
              "    </tr>\n",
              "    <tr>\n",
              "      <th>536</th>\n",
              "      <td>0s=suspect Blood Donor</td>\n",
              "      <td>55</td>\n",
              "      <td>m</td>\n",
              "      <td>47.3</td>\n",
              "      <td>106.0</td>\n",
              "      <td>208.8</td>\n",
              "      <td>130.6</td>\n",
              "      <td>0.8</td>\n",
              "      <td>14.80</td>\n",
              "      <td>8.08</td>\n",
              "      <td>76.0</td>\n",
              "      <td>71.6</td>\n",
              "      <td>78.3</td>\n",
              "    </tr>\n",
              "    <tr>\n",
              "      <th>537</th>\n",
              "      <td>0s=suspect Blood Donor</td>\n",
              "      <td>71</td>\n",
              "      <td>m</td>\n",
              "      <td>14.9</td>\n",
              "      <td>69.8</td>\n",
              "      <td>19.7</td>\n",
              "      <td>95.2</td>\n",
              "      <td>9.8</td>\n",
              "      <td>13.30</td>\n",
              "      <td>2.61</td>\n",
              "      <td>9.0</td>\n",
              "      <td>7.6</td>\n",
              "      <td>47.0</td>\n",
              "    </tr>\n",
              "    <tr>\n",
              "      <th>538</th>\n",
              "      <td>0s=suspect Blood Donor</td>\n",
              "      <td>74</td>\n",
              "      <td>m</td>\n",
              "      <td>20.3</td>\n",
              "      <td>84.0</td>\n",
              "      <td>22.8</td>\n",
              "      <td>43.0</td>\n",
              "      <td>5.7</td>\n",
              "      <td>4.91</td>\n",
              "      <td>3.19</td>\n",
              "      <td>52.0</td>\n",
              "      <td>218.3</td>\n",
              "      <td>47.8</td>\n",
              "    </tr>\n",
              "    <tr>\n",
              "      <th>539</th>\n",
              "      <td>0s=suspect Blood Donor</td>\n",
              "      <td>59</td>\n",
              "      <td>f</td>\n",
              "      <td>19.3</td>\n",
              "      <td>208.2</td>\n",
              "      <td>325.3</td>\n",
              "      <td>146.6</td>\n",
              "      <td>6.9</td>\n",
              "      <td>5.33</td>\n",
              "      <td>4.72</td>\n",
              "      <td>32.0</td>\n",
              "      <td>295.6</td>\n",
              "      <td>53.1</td>\n",
              "    </tr>\n",
              "  </tbody>\n",
              "</table>\n",
              "</div>"
            ],
            "text/plain": [
              "                   Category  Age Sex   ALB  ...  CHOL   CREA    GGT  PROT\n",
              "533  0s=suspect Blood Donor   47   m  22.5  ...  4.30  170.0  345.6  58.6\n",
              "534  0s=suspect Blood Donor   48   m  24.9  ...  5.25   29.0   83.0  47.8\n",
              "535  0s=suspect Blood Donor   49   m  21.6  ...  3.01   64.0   38.9  44.8\n",
              "536  0s=suspect Blood Donor   55   m  47.3  ...  8.08   76.0   71.6  78.3\n",
              "537  0s=suspect Blood Donor   71   m  14.9  ...  2.61    9.0    7.6  47.0\n",
              "538  0s=suspect Blood Donor   74   m  20.3  ...  3.19   52.0  218.3  47.8\n",
              "539  0s=suspect Blood Donor   59   f  19.3  ...  4.72   32.0  295.6  53.1\n",
              "\n",
              "[7 rows x 13 columns]"
            ]
          },
          "metadata": {
            "tags": []
          },
          "execution_count": 253
        }
      ]
    },
    {
      "cell_type": "code",
      "metadata": {
        "colab": {
          "base_uri": "https://localhost:8080/",
          "height": 269
        },
        "id": "e6CYHb9jeNzA",
        "outputId": "f79f8f03-4363-448f-888e-aa79c1a0cb61"
      },
      "source": [
        "predictions_suspect = data_set_suspect.iloc[:, 1:14]\n",
        "predictions_suspect"
      ],
      "execution_count": null,
      "outputs": [
        {
          "output_type": "execute_result",
          "data": {
            "text/html": [
              "<div>\n",
              "<style scoped>\n",
              "    .dataframe tbody tr th:only-of-type {\n",
              "        vertical-align: middle;\n",
              "    }\n",
              "\n",
              "    .dataframe tbody tr th {\n",
              "        vertical-align: top;\n",
              "    }\n",
              "\n",
              "    .dataframe thead th {\n",
              "        text-align: right;\n",
              "    }\n",
              "</style>\n",
              "<table border=\"1\" class=\"dataframe\">\n",
              "  <thead>\n",
              "    <tr style=\"text-align: right;\">\n",
              "      <th></th>\n",
              "      <th>Age</th>\n",
              "      <th>Sex</th>\n",
              "      <th>ALB</th>\n",
              "      <th>ALP</th>\n",
              "      <th>ALT</th>\n",
              "      <th>AST</th>\n",
              "      <th>BIL</th>\n",
              "      <th>CHE</th>\n",
              "      <th>CHOL</th>\n",
              "      <th>CREA</th>\n",
              "      <th>GGT</th>\n",
              "      <th>PROT</th>\n",
              "    </tr>\n",
              "  </thead>\n",
              "  <tbody>\n",
              "    <tr>\n",
              "      <th>533</th>\n",
              "      <td>47</td>\n",
              "      <td>m</td>\n",
              "      <td>22.5</td>\n",
              "      <td>124.0</td>\n",
              "      <td>79.5</td>\n",
              "      <td>46.7</td>\n",
              "      <td>2.3</td>\n",
              "      <td>6.83</td>\n",
              "      <td>4.30</td>\n",
              "      <td>170.0</td>\n",
              "      <td>345.6</td>\n",
              "      <td>58.6</td>\n",
              "    </tr>\n",
              "    <tr>\n",
              "      <th>534</th>\n",
              "      <td>48</td>\n",
              "      <td>m</td>\n",
              "      <td>24.9</td>\n",
              "      <td>116.9</td>\n",
              "      <td>49.2</td>\n",
              "      <td>24.3</td>\n",
              "      <td>4.9</td>\n",
              "      <td>3.44</td>\n",
              "      <td>5.25</td>\n",
              "      <td>29.0</td>\n",
              "      <td>83.0</td>\n",
              "      <td>47.8</td>\n",
              "    </tr>\n",
              "    <tr>\n",
              "      <th>535</th>\n",
              "      <td>49</td>\n",
              "      <td>m</td>\n",
              "      <td>21.6</td>\n",
              "      <td>42.2</td>\n",
              "      <td>9.5</td>\n",
              "      <td>10.6</td>\n",
              "      <td>2.4</td>\n",
              "      <td>3.75</td>\n",
              "      <td>3.01</td>\n",
              "      <td>64.0</td>\n",
              "      <td>38.9</td>\n",
              "      <td>44.8</td>\n",
              "    </tr>\n",
              "    <tr>\n",
              "      <th>536</th>\n",
              "      <td>55</td>\n",
              "      <td>m</td>\n",
              "      <td>47.3</td>\n",
              "      <td>106.0</td>\n",
              "      <td>208.8</td>\n",
              "      <td>130.6</td>\n",
              "      <td>0.8</td>\n",
              "      <td>14.80</td>\n",
              "      <td>8.08</td>\n",
              "      <td>76.0</td>\n",
              "      <td>71.6</td>\n",
              "      <td>78.3</td>\n",
              "    </tr>\n",
              "    <tr>\n",
              "      <th>537</th>\n",
              "      <td>71</td>\n",
              "      <td>m</td>\n",
              "      <td>14.9</td>\n",
              "      <td>69.8</td>\n",
              "      <td>19.7</td>\n",
              "      <td>95.2</td>\n",
              "      <td>9.8</td>\n",
              "      <td>13.30</td>\n",
              "      <td>2.61</td>\n",
              "      <td>9.0</td>\n",
              "      <td>7.6</td>\n",
              "      <td>47.0</td>\n",
              "    </tr>\n",
              "    <tr>\n",
              "      <th>538</th>\n",
              "      <td>74</td>\n",
              "      <td>m</td>\n",
              "      <td>20.3</td>\n",
              "      <td>84.0</td>\n",
              "      <td>22.8</td>\n",
              "      <td>43.0</td>\n",
              "      <td>5.7</td>\n",
              "      <td>4.91</td>\n",
              "      <td>3.19</td>\n",
              "      <td>52.0</td>\n",
              "      <td>218.3</td>\n",
              "      <td>47.8</td>\n",
              "    </tr>\n",
              "    <tr>\n",
              "      <th>539</th>\n",
              "      <td>59</td>\n",
              "      <td>f</td>\n",
              "      <td>19.3</td>\n",
              "      <td>208.2</td>\n",
              "      <td>325.3</td>\n",
              "      <td>146.6</td>\n",
              "      <td>6.9</td>\n",
              "      <td>5.33</td>\n",
              "      <td>4.72</td>\n",
              "      <td>32.0</td>\n",
              "      <td>295.6</td>\n",
              "      <td>53.1</td>\n",
              "    </tr>\n",
              "  </tbody>\n",
              "</table>\n",
              "</div>"
            ],
            "text/plain": [
              "     Age Sex   ALB    ALP    ALT    AST  BIL    CHE  CHOL   CREA    GGT  PROT\n",
              "533   47   m  22.5  124.0   79.5   46.7  2.3   6.83  4.30  170.0  345.6  58.6\n",
              "534   48   m  24.9  116.9   49.2   24.3  4.9   3.44  5.25   29.0   83.0  47.8\n",
              "535   49   m  21.6   42.2    9.5   10.6  2.4   3.75  3.01   64.0   38.9  44.8\n",
              "536   55   m  47.3  106.0  208.8  130.6  0.8  14.80  8.08   76.0   71.6  78.3\n",
              "537   71   m  14.9   69.8   19.7   95.2  9.8  13.30  2.61    9.0    7.6  47.0\n",
              "538   74   m  20.3   84.0   22.8   43.0  5.7   4.91  3.19   52.0  218.3  47.8\n",
              "539   59   f  19.3  208.2  325.3  146.6  6.9   5.33  4.72   32.0  295.6  53.1"
            ]
          },
          "metadata": {
            "tags": []
          },
          "execution_count": 254
        }
      ]
    },
    {
      "cell_type": "code",
      "metadata": {
        "id": "hQIa8xQndHfP"
      },
      "source": [
        "prediction_suspect = classifier.predict(predictions_suspect)\n",
        "prediction_suspect = (prediction_suspect > 0.5)\n",
        "prediction_suspect\n",
        "\n",
        "## começou a dar um problema e não tive tempo de corrigir"
      ],
      "execution_count": null,
      "outputs": []
    },
    {
      "cell_type": "markdown",
      "metadata": {
        "id": "gTF_dDvrbvYo"
      },
      "source": [
        "Classificou as 7 instâncias como 1 _doador_ e 6 _não doadores_\n"
      ]
    },
    {
      "cell_type": "markdown",
      "metadata": {
        "id": "BGzTcLbuDqIl"
      },
      "source": [
        "#**Questão 2**"
      ]
    },
    {
      "cell_type": "markdown",
      "metadata": {
        "id": "SeZjYg2_1N42"
      },
      "source": [
        "##**Imports necessários para rodar o código**"
      ]
    },
    {
      "cell_type": "code",
      "metadata": {
        "id": "9h6cx_1gDyo2"
      },
      "source": [
        "import pandas as pd\n",
        "import numpy as np\n",
        "import matplotlib.pyplot as plt\n",
        "import scipy.cluster.hierarchy as shc\n",
        "from matplotlib import style\n",
        "style.use(\"ggplot\")\n",
        "from sklearn.cluster import KMeans\n",
        "from datetime import datetime\n",
        "from sklearn.preprocessing import MinMaxScaler\n",
        "from mpl_toolkits.mplot3d import Axes3D\n",
        "from sklearn.cluster import AgglomerativeClustering\n",
        "from sklearn.metrics import silhouette_samples, silhouette_score"
      ],
      "execution_count": null,
      "outputs": []
    },
    {
      "cell_type": "markdown",
      "metadata": {
        "id": "RdEq_jkVxFWf"
      },
      "source": [
        "##**Pré-Processamento** :\n",
        "\n",
        "Para obter bons resultados, o passo mais importante é o pré-processamento, pois além do processo de preparação, organização e estruturação dos dados, é também um momento ideal para escolher quais dados incorporar de forma significativa em nosso conjunto de dados. Já que a qualidade dos dados influência significamente no resultado do modelo."
      ]
    },
    {
      "cell_type": "markdown",
      "metadata": {
        "id": "w3OzoulfBUTi"
      },
      "source": [
        "###Inicializando a base: \n",
        "\n",
        "Primeiro a base é inicializada, depois foi feito um drop da primeira coluna que continha informações irrelvantes (os ids das instâncias), após isso foi feito um array numpy com os dados para ser utilizado posteriomente na plotagem do gráfico com a base sem a normalização. "
      ]
    },
    {
      "cell_type": "code",
      "metadata": {
        "colab": {
          "base_uri": "https://localhost:8080/",
          "height": 226
        },
        "id": "e7f3cARcTjVP",
        "outputId": "78bf9059-ca94-44d0-e882-5b7c6b9c3d81"
      },
      "source": [
        "data_set = pd.read_csv(\"https://raw.githubusercontent.com/Thiag0Andres/ListaII-IA/master/wine.csv\", sep = ',').drop(['Unnamed: 0'], axis=1)\n",
        "data_set_not_normalized = np.array(data_set)\n",
        "data_set.head() "
      ],
      "execution_count": null,
      "outputs": [
        {
          "output_type": "execute_result",
          "data": {
            "text/html": [
              "<div>\n",
              "<style scoped>\n",
              "    .dataframe tbody tr th:only-of-type {\n",
              "        vertical-align: middle;\n",
              "    }\n",
              "\n",
              "    .dataframe tbody tr th {\n",
              "        vertical-align: top;\n",
              "    }\n",
              "\n",
              "    .dataframe thead th {\n",
              "        text-align: right;\n",
              "    }\n",
              "</style>\n",
              "<table border=\"1\" class=\"dataframe\">\n",
              "  <thead>\n",
              "    <tr style=\"text-align: right;\">\n",
              "      <th></th>\n",
              "      <th>Alcohol</th>\n",
              "      <th>Malic_acid</th>\n",
              "      <th>Ash</th>\n",
              "      <th>Alcalinity_of_ash</th>\n",
              "      <th>Magnesium</th>\n",
              "      <th>Total_phenols</th>\n",
              "      <th>Flavanoids</th>\n",
              "      <th>Nonflavanoid_phenols</th>\n",
              "      <th>Proanthocyanins</th>\n",
              "      <th>Color_intensity</th>\n",
              "      <th>Hue</th>\n",
              "      <th>OD280/OD315_of_diluted_wines</th>\n",
              "      <th>Proline</th>\n",
              "    </tr>\n",
              "  </thead>\n",
              "  <tbody>\n",
              "    <tr>\n",
              "      <th>0</th>\n",
              "      <td>14.23</td>\n",
              "      <td>1.71</td>\n",
              "      <td>2.43</td>\n",
              "      <td>15.6</td>\n",
              "      <td>127</td>\n",
              "      <td>2.80</td>\n",
              "      <td>3.06</td>\n",
              "      <td>0.28</td>\n",
              "      <td>2.29</td>\n",
              "      <td>5.64</td>\n",
              "      <td>1.04</td>\n",
              "      <td>3.92</td>\n",
              "      <td>1065</td>\n",
              "    </tr>\n",
              "    <tr>\n",
              "      <th>1</th>\n",
              "      <td>13.20</td>\n",
              "      <td>1.78</td>\n",
              "      <td>2.14</td>\n",
              "      <td>11.2</td>\n",
              "      <td>100</td>\n",
              "      <td>2.65</td>\n",
              "      <td>2.76</td>\n",
              "      <td>0.26</td>\n",
              "      <td>1.28</td>\n",
              "      <td>4.38</td>\n",
              "      <td>1.05</td>\n",
              "      <td>3.40</td>\n",
              "      <td>1050</td>\n",
              "    </tr>\n",
              "    <tr>\n",
              "      <th>2</th>\n",
              "      <td>13.16</td>\n",
              "      <td>2.36</td>\n",
              "      <td>2.67</td>\n",
              "      <td>18.6</td>\n",
              "      <td>101</td>\n",
              "      <td>2.80</td>\n",
              "      <td>3.24</td>\n",
              "      <td>0.30</td>\n",
              "      <td>2.81</td>\n",
              "      <td>5.68</td>\n",
              "      <td>1.03</td>\n",
              "      <td>3.17</td>\n",
              "      <td>1185</td>\n",
              "    </tr>\n",
              "    <tr>\n",
              "      <th>3</th>\n",
              "      <td>14.37</td>\n",
              "      <td>1.95</td>\n",
              "      <td>2.50</td>\n",
              "      <td>16.8</td>\n",
              "      <td>113</td>\n",
              "      <td>3.85</td>\n",
              "      <td>3.49</td>\n",
              "      <td>0.24</td>\n",
              "      <td>2.18</td>\n",
              "      <td>7.80</td>\n",
              "      <td>0.86</td>\n",
              "      <td>3.45</td>\n",
              "      <td>1480</td>\n",
              "    </tr>\n",
              "    <tr>\n",
              "      <th>4</th>\n",
              "      <td>13.24</td>\n",
              "      <td>2.59</td>\n",
              "      <td>2.87</td>\n",
              "      <td>21.0</td>\n",
              "      <td>118</td>\n",
              "      <td>2.80</td>\n",
              "      <td>2.69</td>\n",
              "      <td>0.39</td>\n",
              "      <td>1.82</td>\n",
              "      <td>4.32</td>\n",
              "      <td>1.04</td>\n",
              "      <td>2.93</td>\n",
              "      <td>735</td>\n",
              "    </tr>\n",
              "  </tbody>\n",
              "</table>\n",
              "</div>"
            ],
            "text/plain": [
              "   Alcohol  Malic_acid   Ash  ...   Hue  OD280/OD315_of_diluted_wines  Proline\n",
              "0    14.23        1.71  2.43  ...  1.04                          3.92     1065\n",
              "1    13.20        1.78  2.14  ...  1.05                          3.40     1050\n",
              "2    13.16        2.36  2.67  ...  1.03                          3.17     1185\n",
              "3    14.37        1.95  2.50  ...  0.86                          3.45     1480\n",
              "4    13.24        2.59  2.87  ...  1.04                          2.93      735\n",
              "\n",
              "[5 rows x 13 columns]"
            ]
          },
          "metadata": {
            "tags": []
          },
          "execution_count": 7
        }
      ]
    },
    {
      "cell_type": "markdown",
      "metadata": {
        "id": "yRFlRobHESss"
      },
      "source": [
        "###Correlação:\n",
        "\n",
        "Se faz necessário a verificação de uma correlação entre os atributos, foi encontrado dois atributos com uma alta correlação:\n",
        "* Flavanoids;\n",
        "* Total_phenols.\n"
      ]
    },
    {
      "cell_type": "code",
      "metadata": {
        "colab": {
          "base_uri": "https://localhost:8080/",
          "height": 338
        },
        "id": "zJ87lC3lOsTk",
        "outputId": "3191712e-7db6-4e6b-b619-cba52d94e79d"
      },
      "source": [
        "correlation = data_set.corr()\n",
        "correlation.style.background_gradient(cmap=\"rainbow\").set_precision(3)"
      ],
      "execution_count": null,
      "outputs": [
        {
          "output_type": "execute_result",
          "data": {
            "text/html": [
              "<style  type=\"text/css\" >\n",
              "#T_e46bdfb4_3da0_11eb_92b4_0242ac1c0002row0_col0,#T_e46bdfb4_3da0_11eb_92b4_0242ac1c0002row1_col1,#T_e46bdfb4_3da0_11eb_92b4_0242ac1c0002row2_col2,#T_e46bdfb4_3da0_11eb_92b4_0242ac1c0002row3_col3,#T_e46bdfb4_3da0_11eb_92b4_0242ac1c0002row4_col4,#T_e46bdfb4_3da0_11eb_92b4_0242ac1c0002row5_col5,#T_e46bdfb4_3da0_11eb_92b4_0242ac1c0002row6_col6,#T_e46bdfb4_3da0_11eb_92b4_0242ac1c0002row7_col7,#T_e46bdfb4_3da0_11eb_92b4_0242ac1c0002row8_col8,#T_e46bdfb4_3da0_11eb_92b4_0242ac1c0002row9_col9,#T_e46bdfb4_3da0_11eb_92b4_0242ac1c0002row10_col10,#T_e46bdfb4_3da0_11eb_92b4_0242ac1c0002row11_col11,#T_e46bdfb4_3da0_11eb_92b4_0242ac1c0002row12_col12{\n",
              "            background-color:  #ff0000;\n",
              "            color:  #f1f1f1;\n",
              "        }#T_e46bdfb4_3da0_11eb_92b4_0242ac1c0002row0_col1,#T_e46bdfb4_3da0_11eb_92b4_0242ac1c0002row0_col4{\n",
              "            background-color:  #56f7ca;\n",
              "            color:  #000000;\n",
              "        }#T_e46bdfb4_3da0_11eb_92b4_0242ac1c0002row0_col2{\n",
              "            background-color:  #08bee9;\n",
              "            color:  #000000;\n",
              "        }#T_e46bdfb4_3da0_11eb_92b4_0242ac1c0002row0_col3{\n",
              "            background-color:  #5247fc;\n",
              "            color:  #f1f1f1;\n",
              "        }#T_e46bdfb4_3da0_11eb_92b4_0242ac1c0002row0_col5,#T_e46bdfb4_3da0_11eb_92b4_0242ac1c0002row12_col8,#T_e46bdfb4_3da0_11eb_92b4_0242ac1c0002row12_col10{\n",
              "            background-color:  #84ffb2;\n",
              "            color:  #000000;\n",
              "        }#T_e46bdfb4_3da0_11eb_92b4_0242ac1c0002row0_col6{\n",
              "            background-color:  #80ffb4;\n",
              "            color:  #000000;\n",
              "        }#T_e46bdfb4_3da0_11eb_92b4_0242ac1c0002row0_col7,#T_e46bdfb4_3da0_11eb_92b4_0242ac1c0002row4_col3,#T_e46bdfb4_3da0_11eb_92b4_0242ac1c0002row9_col8,#T_e46bdfb4_3da0_11eb_92b4_0242ac1c0002row10_col4{\n",
              "            background-color:  #01b3ec;\n",
              "            color:  #000000;\n",
              "        }#T_e46bdfb4_3da0_11eb_92b4_0242ac1c0002row0_col8{\n",
              "            background-color:  #3dead5;\n",
              "            color:  #000000;\n",
              "        }#T_e46bdfb4_3da0_11eb_92b4_0242ac1c0002row0_col9{\n",
              "            background-color:  #e6cd73;\n",
              "            color:  #000000;\n",
              "        }#T_e46bdfb4_3da0_11eb_92b4_0242ac1c0002row0_col10{\n",
              "            background-color:  #20d5e1;\n",
              "            color:  #000000;\n",
              "        }#T_e46bdfb4_3da0_11eb_92b4_0242ac1c0002row0_col11{\n",
              "            background-color:  #44eed2;\n",
              "            color:  #000000;\n",
              "        }#T_e46bdfb4_3da0_11eb_92b4_0242ac1c0002row0_col12{\n",
              "            background-color:  #ffb360;\n",
              "            color:  #000000;\n",
              "        }#T_e46bdfb4_3da0_11eb_92b4_0242ac1c0002row1_col0,#T_e46bdfb4_3da0_11eb_92b4_0242ac1c0002row2_col10,#T_e46bdfb4_3da0_11eb_92b4_0242ac1c0002row9_col2{\n",
              "            background-color:  #1fd3e1;\n",
              "            color:  #000000;\n",
              "        }#T_e46bdfb4_3da0_11eb_92b4_0242ac1c0002row1_col2{\n",
              "            background-color:  #10a2f0;\n",
              "            color:  #000000;\n",
              "        }#T_e46bdfb4_3da0_11eb_92b4_0242ac1c0002row1_col3,#T_e46bdfb4_3da0_11eb_92b4_0242ac1c0002row1_col9{\n",
              "            background-color:  #82ffb3;\n",
              "            color:  #000000;\n",
              "        }#T_e46bdfb4_3da0_11eb_92b4_0242ac1c0002row1_col4{\n",
              "            background-color:  #2e7bf7;\n",
              "            color:  #000000;\n",
              "        }#T_e46bdfb4_3da0_11eb_92b4_0242ac1c0002row1_col5,#T_e46bdfb4_3da0_11eb_92b4_0242ac1c0002row8_col2{\n",
              "            background-color:  #583efd;\n",
              "            color:  #f1f1f1;\n",
              "        }#T_e46bdfb4_3da0_11eb_92b4_0242ac1c0002row1_col6,#T_e46bdfb4_3da0_11eb_92b4_0242ac1c0002row5_col3{\n",
              "            background-color:  #5641fd;\n",
              "            color:  #f1f1f1;\n",
              "        }#T_e46bdfb4_3da0_11eb_92b4_0242ac1c0002row1_col7,#T_e46bdfb4_3da0_11eb_92b4_0242ac1c0002row12_col11{\n",
              "            background-color:  #94fda8;\n",
              "            color:  #000000;\n",
              "        }#T_e46bdfb4_3da0_11eb_92b4_0242ac1c0002row1_col8{\n",
              "            background-color:  #4a53fb;\n",
              "            color:  #f1f1f1;\n",
              "        }#T_e46bdfb4_3da0_11eb_92b4_0242ac1c0002row1_col10,#T_e46bdfb4_3da0_11eb_92b4_0242ac1c0002row3_col0,#T_e46bdfb4_3da0_11eb_92b4_0242ac1c0002row3_col12,#T_e46bdfb4_3da0_11eb_92b4_0242ac1c0002row6_col7,#T_e46bdfb4_3da0_11eb_92b4_0242ac1c0002row7_col4,#T_e46bdfb4_3da0_11eb_92b4_0242ac1c0002row7_col5,#T_e46bdfb4_3da0_11eb_92b4_0242ac1c0002row7_col6,#T_e46bdfb4_3da0_11eb_92b4_0242ac1c0002row7_col8,#T_e46bdfb4_3da0_11eb_92b4_0242ac1c0002row7_col11,#T_e46bdfb4_3da0_11eb_92b4_0242ac1c0002row10_col1,#T_e46bdfb4_3da0_11eb_92b4_0242ac1c0002row10_col2,#T_e46bdfb4_3da0_11eb_92b4_0242ac1c0002row10_col9,#T_e46bdfb4_3da0_11eb_92b4_0242ac1c0002row12_col3{\n",
              "            background-color:  #8000ff;\n",
              "            color:  #f1f1f1;\n",
              "        }#T_e46bdfb4_3da0_11eb_92b4_0242ac1c0002row1_col11,#T_e46bdfb4_3da0_11eb_92b4_0242ac1c0002row3_col5,#T_e46bdfb4_3da0_11eb_92b4_0242ac1c0002row7_col12{\n",
              "            background-color:  #5444fd;\n",
              "            color:  #f1f1f1;\n",
              "        }#T_e46bdfb4_3da0_11eb_92b4_0242ac1c0002row1_col12{\n",
              "            background-color:  #2884f6;\n",
              "            color:  #000000;\n",
              "        }#T_e46bdfb4_3da0_11eb_92b4_0242ac1c0002row2_col0,#T_e46bdfb4_3da0_11eb_92b4_0242ac1c0002row4_col10{\n",
              "            background-color:  #4af2cf;\n",
              "            color:  #000000;\n",
              "        }#T_e46bdfb4_3da0_11eb_92b4_0242ac1c0002row2_col1,#T_e46bdfb4_3da0_11eb_92b4_0242ac1c0002row2_col12{\n",
              "            background-color:  #6dfdbf;\n",
              "            color:  #000000;\n",
              "        }#T_e46bdfb4_3da0_11eb_92b4_0242ac1c0002row2_col3{\n",
              "            background-color:  #bbee91;\n",
              "            color:  #000000;\n",
              "        }#T_e46bdfb4_3da0_11eb_92b4_0242ac1c0002row2_col4{\n",
              "            background-color:  #5df9c7;\n",
              "            color:  #000000;\n",
              "        }#T_e46bdfb4_3da0_11eb_92b4_0242ac1c0002row2_col5{\n",
              "            background-color:  #4df3ce;\n",
              "            color:  #000000;\n",
              "        }#T_e46bdfb4_3da0_11eb_92b4_0242ac1c0002row2_col6{\n",
              "            background-color:  #58f8c9;\n",
              "            color:  #000000;\n",
              "        }#T_e46bdfb4_3da0_11eb_92b4_0242ac1c0002row2_col7,#T_e46bdfb4_3da0_11eb_92b4_0242ac1c0002row10_col12{\n",
              "            background-color:  #70febc;\n",
              "            color:  #000000;\n",
              "        }#T_e46bdfb4_3da0_11eb_92b4_0242ac1c0002row2_col8{\n",
              "            background-color:  #0dc2e8;\n",
              "            color:  #000000;\n",
              "        }#T_e46bdfb4_3da0_11eb_92b4_0242ac1c0002row2_col9{\n",
              "            background-color:  #86ffb0;\n",
              "            color:  #000000;\n",
              "        }#T_e46bdfb4_3da0_11eb_92b4_0242ac1c0002row2_col11,#T_e46bdfb4_3da0_11eb_92b4_0242ac1c0002row4_col2{\n",
              "            background-color:  #2ddedc;\n",
              "            color:  #000000;\n",
              "        }#T_e46bdfb4_3da0_11eb_92b4_0242ac1c0002row3_col1{\n",
              "            background-color:  #96fca7;\n",
              "            color:  #000000;\n",
              "        }#T_e46bdfb4_3da0_11eb_92b4_0242ac1c0002row3_col2,#T_e46bdfb4_3da0_11eb_92b4_0242ac1c0002row10_col8{\n",
              "            background-color:  #76ffb9;\n",
              "            color:  #000000;\n",
              "        }#T_e46bdfb4_3da0_11eb_92b4_0242ac1c0002row3_col4{\n",
              "            background-color:  #396bf9;\n",
              "            color:  #000000;\n",
              "        }#T_e46bdfb4_3da0_11eb_92b4_0242ac1c0002row3_col6,#T_e46bdfb4_3da0_11eb_92b4_0242ac1c0002row3_col8,#T_e46bdfb4_3da0_11eb_92b4_0242ac1c0002row11_col1{\n",
              "            background-color:  #425ffa;\n",
              "            color:  #f1f1f1;\n",
              "        }#T_e46bdfb4_3da0_11eb_92b4_0242ac1c0002row3_col7{\n",
              "            background-color:  #abf69b;\n",
              "            color:  #000000;\n",
              "        }#T_e46bdfb4_3da0_11eb_92b4_0242ac1c0002row3_col9{\n",
              "            background-color:  #34e4d9;\n",
              "            color:  #000000;\n",
              "        }#T_e46bdfb4_3da0_11eb_92b4_0242ac1c0002row3_col10{\n",
              "            background-color:  #218cf4;\n",
              "            color:  #000000;\n",
              "        }#T_e46bdfb4_3da0_11eb_92b4_0242ac1c0002row3_col11{\n",
              "            background-color:  #3473f8;\n",
              "            color:  #000000;\n",
              "        }#T_e46bdfb4_3da0_11eb_92b4_0242ac1c0002row4_col0{\n",
              "            background-color:  #62fbc4;\n",
              "            color:  #000000;\n",
              "        }#T_e46bdfb4_3da0_11eb_92b4_0242ac1c0002row4_col1,#T_e46bdfb4_3da0_11eb_92b4_0242ac1c0002row8_col9{\n",
              "            background-color:  #27dade;\n",
              "            color:  #000000;\n",
              "        }#T_e46bdfb4_3da0_11eb_92b4_0242ac1c0002row4_col5,#T_e46bdfb4_3da0_11eb_92b4_0242ac1c0002row5_col0{\n",
              "            background-color:  #6afdc0;\n",
              "            color:  #000000;\n",
              "        }#T_e46bdfb4_3da0_11eb_92b4_0242ac1c0002row4_col6{\n",
              "            background-color:  #74feba;\n",
              "            color:  #000000;\n",
              "        }#T_e46bdfb4_3da0_11eb_92b4_0242ac1c0002row4_col7,#T_e46bdfb4_3da0_11eb_92b4_0242ac1c0002row10_col0{\n",
              "            background-color:  #2489f5;\n",
              "            color:  #000000;\n",
              "        }#T_e46bdfb4_3da0_11eb_92b4_0242ac1c0002row4_col8,#T_e46bdfb4_3da0_11eb_92b4_0242ac1c0002row9_col7{\n",
              "            background-color:  #60fac5;\n",
              "            color:  #000000;\n",
              "        }#T_e46bdfb4_3da0_11eb_92b4_0242ac1c0002row4_col9{\n",
              "            background-color:  #72febb;\n",
              "            color:  #000000;\n",
              "        }#T_e46bdfb4_3da0_11eb_92b4_0242ac1c0002row4_col11{\n",
              "            background-color:  #40ecd4;\n",
              "            color:  #000000;\n",
              "        }#T_e46bdfb4_3da0_11eb_92b4_0242ac1c0002row4_col12{\n",
              "            background-color:  #a8f79c;\n",
              "            color:  #000000;\n",
              "        }#T_e46bdfb4_3da0_11eb_92b4_0242ac1c0002row5_col1,#T_e46bdfb4_3da0_11eb_92b4_0242ac1c0002row12_col7{\n",
              "            background-color:  #3670f8;\n",
              "            color:  #000000;\n",
              "        }#T_e46bdfb4_3da0_11eb_92b4_0242ac1c0002row5_col2,#T_e46bdfb4_3da0_11eb_92b4_0242ac1c0002row7_col10{\n",
              "            background-color:  #208ef4;\n",
              "            color:  #000000;\n",
              "        }#T_e46bdfb4_3da0_11eb_92b4_0242ac1c0002row5_col4{\n",
              "            background-color:  #3febd5;\n",
              "            color:  #000000;\n",
              "        }#T_e46bdfb4_3da0_11eb_92b4_0242ac1c0002row5_col6{\n",
              "            background-color:  #ff4422;\n",
              "            color:  #000000;\n",
              "        }#T_e46bdfb4_3da0_11eb_92b4_0242ac1c0002row5_col7{\n",
              "            background-color:  #642cfe;\n",
              "            color:  #f1f1f1;\n",
              "        }#T_e46bdfb4_3da0_11eb_92b4_0242ac1c0002row5_col8{\n",
              "            background-color:  #eec66d;\n",
              "            color:  #000000;\n",
              "        }#T_e46bdfb4_3da0_11eb_92b4_0242ac1c0002row5_col9{\n",
              "            background-color:  #1dd1e2;\n",
              "            color:  #000000;\n",
              "        }#T_e46bdfb4_3da0_11eb_92b4_0242ac1c0002row5_col10{\n",
              "            background-color:  #c6e789;\n",
              "            color:  #000000;\n",
              "        }#T_e46bdfb4_3da0_11eb_92b4_0242ac1c0002row5_col11{\n",
              "            background-color:  #ff964f;\n",
              "            color:  #000000;\n",
              "        }#T_e46bdfb4_3da0_11eb_92b4_0242ac1c0002row5_col12,#T_e46bdfb4_3da0_11eb_92b4_0242ac1c0002row6_col12{\n",
              "            background-color:  #cce385;\n",
              "            color:  #000000;\n",
              "        }#T_e46bdfb4_3da0_11eb_92b4_0242ac1c0002row6_col0{\n",
              "            background-color:  #54f6cb;\n",
              "            color:  #000000;\n",
              "        }#T_e46bdfb4_3da0_11eb_92b4_0242ac1c0002row6_col1{\n",
              "            background-color:  #504afc;\n",
              "            color:  #f1f1f1;\n",
              "        }#T_e46bdfb4_3da0_11eb_92b4_0242ac1c0002row6_col2,#T_e46bdfb4_3da0_11eb_92b4_0242ac1c0002row10_col7{\n",
              "            background-color:  #2686f5;\n",
              "            color:  #000000;\n",
              "        }#T_e46bdfb4_3da0_11eb_92b4_0242ac1c0002row6_col3,#T_e46bdfb4_3da0_11eb_92b4_0242ac1c0002row11_col9{\n",
              "            background-color:  #622ffe;\n",
              "            color:  #f1f1f1;\n",
              "        }#T_e46bdfb4_3da0_11eb_92b4_0242ac1c0002row6_col4,#T_e46bdfb4_3da0_11eb_92b4_0242ac1c0002row9_col4{\n",
              "            background-color:  #38e7d7;\n",
              "            color:  #000000;\n",
              "        }#T_e46bdfb4_3da0_11eb_92b4_0242ac1c0002row6_col5{\n",
              "            background-color:  #ff4724;\n",
              "            color:  #000000;\n",
              "        }#T_e46bdfb4_3da0_11eb_92b4_0242ac1c0002row6_col8{\n",
              "            background-color:  #fcb763;\n",
              "            color:  #000000;\n",
              "        }#T_e46bdfb4_3da0_11eb_92b4_0242ac1c0002row6_col9{\n",
              "            background-color:  #0ca7ef;\n",
              "            color:  #000000;\n",
              "        }#T_e46bdfb4_3da0_11eb_92b4_0242ac1c0002row6_col10{\n",
              "            background-color:  #ebca70;\n",
              "            color:  #000000;\n",
              "        }#T_e46bdfb4_3da0_11eb_92b4_0242ac1c0002row6_col11{\n",
              "            background-color:  #ff6d38;\n",
              "            color:  #000000;\n",
              "        }#T_e46bdfb4_3da0_11eb_92b4_0242ac1c0002row7_col0{\n",
              "            background-color:  #445cfb;\n",
              "            color:  #f1f1f1;\n",
              "        }#T_e46bdfb4_3da0_11eb_92b4_0242ac1c0002row7_col1,#T_e46bdfb4_3da0_11eb_92b4_0242ac1c0002row8_col10,#T_e46bdfb4_3da0_11eb_92b4_0242ac1c0002row12_col9{\n",
              "            background-color:  #99fca6;\n",
              "            color:  #000000;\n",
              "        }#T_e46bdfb4_3da0_11eb_92b4_0242ac1c0002row7_col2{\n",
              "            background-color:  #04b0ed;\n",
              "            color:  #000000;\n",
              "        }#T_e46bdfb4_3da0_11eb_92b4_0242ac1c0002row7_col3{\n",
              "            background-color:  #9cfba4;\n",
              "            color:  #000000;\n",
              "        }#T_e46bdfb4_3da0_11eb_92b4_0242ac1c0002row7_col9{\n",
              "            background-color:  #5efac6;\n",
              "            color:  #000000;\n",
              "        }#T_e46bdfb4_3da0_11eb_92b4_0242ac1c0002row8_col0{\n",
              "            background-color:  #2fe0db;\n",
              "            color:  #000000;\n",
              "        }#T_e46bdfb4_3da0_11eb_92b4_0242ac1c0002row8_col1{\n",
              "            background-color:  #11a0f1;\n",
              "            color:  #000000;\n",
              "        }#T_e46bdfb4_3da0_11eb_92b4_0242ac1c0002row8_col3{\n",
              "            background-color:  #2981f6;\n",
              "            color:  #000000;\n",
              "        }#T_e46bdfb4_3da0_11eb_92b4_0242ac1c0002row8_col4{\n",
              "            background-color:  #48f1d0;\n",
              "            color:  #000000;\n",
              "        }#T_e46bdfb4_3da0_11eb_92b4_0242ac1c0002row8_col5{\n",
              "            background-color:  #f6be68;\n",
              "            color:  #000000;\n",
              "        }#T_e46bdfb4_3da0_11eb_92b4_0242ac1c0002row8_col6{\n",
              "            background-color:  #ffa558;\n",
              "            color:  #000000;\n",
              "        }#T_e46bdfb4_3da0_11eb_92b4_0242ac1c0002row8_col7{\n",
              "            background-color:  #4856fb;\n",
              "            color:  #f1f1f1;\n",
              "        }#T_e46bdfb4_3da0_11eb_92b4_0242ac1c0002row8_col11{\n",
              "            background-color:  #dcd67a;\n",
              "            color:  #000000;\n",
              "        }#T_e46bdfb4_3da0_11eb_92b4_0242ac1c0002row8_col12{\n",
              "            background-color:  #92fda9;\n",
              "            color:  #000000;\n",
              "        }#T_e46bdfb4_3da0_11eb_92b4_0242ac1c0002row9_col0,#T_e46bdfb4_3da0_11eb_92b4_0242ac1c0002row12_col5{\n",
              "            background-color:  #cee184;\n",
              "            color:  #000000;\n",
              "        }#T_e46bdfb4_3da0_11eb_92b4_0242ac1c0002row9_col1,#T_e46bdfb4_3da0_11eb_92b4_0242ac1c0002row12_col4{\n",
              "            background-color:  #88ffaf;\n",
              "            color:  #000000;\n",
              "        }#T_e46bdfb4_3da0_11eb_92b4_0242ac1c0002row9_col3{\n",
              "            background-color:  #22d6e0;\n",
              "            color:  #000000;\n",
              "        }#T_e46bdfb4_3da0_11eb_92b4_0242ac1c0002row9_col5{\n",
              "            background-color:  #0ac0e8;\n",
              "            color:  #000000;\n",
              "        }#T_e46bdfb4_3da0_11eb_92b4_0242ac1c0002row9_col6,#T_e46bdfb4_3da0_11eb_92b4_0242ac1c0002row12_col1{\n",
              "            background-color:  #08acee;\n",
              "            color:  #000000;\n",
              "        }#T_e46bdfb4_3da0_11eb_92b4_0242ac1c0002row9_col10{\n",
              "            background-color:  #7413ff;\n",
              "            color:  #f1f1f1;\n",
              "        }#T_e46bdfb4_3da0_11eb_92b4_0242ac1c0002row9_col11{\n",
              "            background-color:  #6826fe;\n",
              "            color:  #f1f1f1;\n",
              "        }#T_e46bdfb4_3da0_11eb_92b4_0242ac1c0002row9_col12{\n",
              "            background-color:  #8cfead;\n",
              "            color:  #000000;\n",
              "        }#T_e46bdfb4_3da0_11eb_92b4_0242ac1c0002row10_col3,#T_e46bdfb4_3da0_11eb_92b4_0242ac1c0002row11_col3{\n",
              "            background-color:  #4659fb;\n",
              "            color:  #f1f1f1;\n",
              "        }#T_e46bdfb4_3da0_11eb_92b4_0242ac1c0002row10_col5{\n",
              "            background-color:  #b9ef92;\n",
              "            color:  #000000;\n",
              "        }#T_e46bdfb4_3da0_11eb_92b4_0242ac1c0002row10_col6{\n",
              "            background-color:  #e8cb72;\n",
              "            color:  #000000;\n",
              "        }#T_e46bdfb4_3da0_11eb_92b4_0242ac1c0002row10_col11{\n",
              "            background-color:  #ecc86f;\n",
              "            color:  #000000;\n",
              "        }#T_e46bdfb4_3da0_11eb_92b4_0242ac1c0002row11_col0{\n",
              "            background-color:  #14cae5;\n",
              "            color:  #000000;\n",
              "        }#T_e46bdfb4_3da0_11eb_92b4_0242ac1c0002row11_col2{\n",
              "            background-color:  #5c38fd;\n",
              "            color:  #f1f1f1;\n",
              "        }#T_e46bdfb4_3da0_11eb_92b4_0242ac1c0002row11_col4{\n",
              "            background-color:  #02b7eb;\n",
              "            color:  #000000;\n",
              "        }#T_e46bdfb4_3da0_11eb_92b4_0242ac1c0002row11_col5{\n",
              "            background-color:  #ff9850;\n",
              "            color:  #000000;\n",
              "        }#T_e46bdfb4_3da0_11eb_92b4_0242ac1c0002row11_col6{\n",
              "            background-color:  #ff6b37;\n",
              "            color:  #000000;\n",
              "        }#T_e46bdfb4_3da0_11eb_92b4_0242ac1c0002row11_col7{\n",
              "            background-color:  #7610ff;\n",
              "            color:  #f1f1f1;\n",
              "        }#T_e46bdfb4_3da0_11eb_92b4_0242ac1c0002row11_col8{\n",
              "            background-color:  #cbe486;\n",
              "            color:  #000000;\n",
              "        }#T_e46bdfb4_3da0_11eb_92b4_0242ac1c0002row11_col10{\n",
              "            background-color:  #f0c46c;\n",
              "            color:  #000000;\n",
              "        }#T_e46bdfb4_3da0_11eb_92b4_0242ac1c0002row11_col12{\n",
              "            background-color:  #8bfeae;\n",
              "            color:  #000000;\n",
              "        }#T_e46bdfb4_3da0_11eb_92b4_0242ac1c0002row12_col0{\n",
              "            background-color:  #f4c069;\n",
              "            color:  #000000;\n",
              "        }#T_e46bdfb4_3da0_11eb_92b4_0242ac1c0002row12_col2{\n",
              "            background-color:  #0fc4e7;\n",
              "            color:  #000000;\n",
              "        }#T_e46bdfb4_3da0_11eb_92b4_0242ac1c0002row12_col6{\n",
              "            background-color:  #d6db7e;\n",
              "            color:  #000000;\n",
              "        }</style><table id=\"T_e46bdfb4_3da0_11eb_92b4_0242ac1c0002\" ><thead>    <tr>        <th class=\"blank level0\" ></th>        <th class=\"col_heading level0 col0\" >Alcohol</th>        <th class=\"col_heading level0 col1\" >Malic_acid</th>        <th class=\"col_heading level0 col2\" >Ash</th>        <th class=\"col_heading level0 col3\" >Alcalinity_of_ash</th>        <th class=\"col_heading level0 col4\" >Magnesium</th>        <th class=\"col_heading level0 col5\" >Total_phenols</th>        <th class=\"col_heading level0 col6\" >Flavanoids</th>        <th class=\"col_heading level0 col7\" >Nonflavanoid_phenols</th>        <th class=\"col_heading level0 col8\" >Proanthocyanins</th>        <th class=\"col_heading level0 col9\" >Color_intensity</th>        <th class=\"col_heading level0 col10\" >Hue</th>        <th class=\"col_heading level0 col11\" >OD280/OD315_of_diluted_wines</th>        <th class=\"col_heading level0 col12\" >Proline</th>    </tr></thead><tbody>\n",
              "                <tr>\n",
              "                        <th id=\"T_e46bdfb4_3da0_11eb_92b4_0242ac1c0002level0_row0\" class=\"row_heading level0 row0\" >Alcohol</th>\n",
              "                        <td id=\"T_e46bdfb4_3da0_11eb_92b4_0242ac1c0002row0_col0\" class=\"data row0 col0\" >1.000</td>\n",
              "                        <td id=\"T_e46bdfb4_3da0_11eb_92b4_0242ac1c0002row0_col1\" class=\"data row0 col1\" >0.094</td>\n",
              "                        <td id=\"T_e46bdfb4_3da0_11eb_92b4_0242ac1c0002row0_col2\" class=\"data row0 col2\" >0.212</td>\n",
              "                        <td id=\"T_e46bdfb4_3da0_11eb_92b4_0242ac1c0002row0_col3\" class=\"data row0 col3\" >-0.310</td>\n",
              "                        <td id=\"T_e46bdfb4_3da0_11eb_92b4_0242ac1c0002row0_col4\" class=\"data row0 col4\" >0.271</td>\n",
              "                        <td id=\"T_e46bdfb4_3da0_11eb_92b4_0242ac1c0002row0_col5\" class=\"data row0 col5\" >0.289</td>\n",
              "                        <td id=\"T_e46bdfb4_3da0_11eb_92b4_0242ac1c0002row0_col6\" class=\"data row0 col6\" >0.237</td>\n",
              "                        <td id=\"T_e46bdfb4_3da0_11eb_92b4_0242ac1c0002row0_col7\" class=\"data row0 col7\" >-0.156</td>\n",
              "                        <td id=\"T_e46bdfb4_3da0_11eb_92b4_0242ac1c0002row0_col8\" class=\"data row0 col8\" >0.137</td>\n",
              "                        <td id=\"T_e46bdfb4_3da0_11eb_92b4_0242ac1c0002row0_col9\" class=\"data row0 col9\" >0.546</td>\n",
              "                        <td id=\"T_e46bdfb4_3da0_11eb_92b4_0242ac1c0002row0_col10\" class=\"data row0 col10\" >-0.072</td>\n",
              "                        <td id=\"T_e46bdfb4_3da0_11eb_92b4_0242ac1c0002row0_col11\" class=\"data row0 col11\" >0.072</td>\n",
              "                        <td id=\"T_e46bdfb4_3da0_11eb_92b4_0242ac1c0002row0_col12\" class=\"data row0 col12\" >0.644</td>\n",
              "            </tr>\n",
              "            <tr>\n",
              "                        <th id=\"T_e46bdfb4_3da0_11eb_92b4_0242ac1c0002level0_row1\" class=\"row_heading level0 row1\" >Malic_acid</th>\n",
              "                        <td id=\"T_e46bdfb4_3da0_11eb_92b4_0242ac1c0002row1_col0\" class=\"data row1 col0\" >0.094</td>\n",
              "                        <td id=\"T_e46bdfb4_3da0_11eb_92b4_0242ac1c0002row1_col1\" class=\"data row1 col1\" >1.000</td>\n",
              "                        <td id=\"T_e46bdfb4_3da0_11eb_92b4_0242ac1c0002row1_col2\" class=\"data row1 col2\" >0.164</td>\n",
              "                        <td id=\"T_e46bdfb4_3da0_11eb_92b4_0242ac1c0002row1_col3\" class=\"data row1 col3\" >0.289</td>\n",
              "                        <td id=\"T_e46bdfb4_3da0_11eb_92b4_0242ac1c0002row1_col4\" class=\"data row1 col4\" >-0.055</td>\n",
              "                        <td id=\"T_e46bdfb4_3da0_11eb_92b4_0242ac1c0002row1_col5\" class=\"data row1 col5\" >-0.335</td>\n",
              "                        <td id=\"T_e46bdfb4_3da0_11eb_92b4_0242ac1c0002row1_col6\" class=\"data row1 col6\" >-0.411</td>\n",
              "                        <td id=\"T_e46bdfb4_3da0_11eb_92b4_0242ac1c0002row1_col7\" class=\"data row1 col7\" >0.293</td>\n",
              "                        <td id=\"T_e46bdfb4_3da0_11eb_92b4_0242ac1c0002row1_col8\" class=\"data row1 col8\" >-0.221</td>\n",
              "                        <td id=\"T_e46bdfb4_3da0_11eb_92b4_0242ac1c0002row1_col9\" class=\"data row1 col9\" >0.249</td>\n",
              "                        <td id=\"T_e46bdfb4_3da0_11eb_92b4_0242ac1c0002row1_col10\" class=\"data row1 col10\" >-0.561</td>\n",
              "                        <td id=\"T_e46bdfb4_3da0_11eb_92b4_0242ac1c0002row1_col11\" class=\"data row1 col11\" >-0.369</td>\n",
              "                        <td id=\"T_e46bdfb4_3da0_11eb_92b4_0242ac1c0002row1_col12\" class=\"data row1 col12\" >-0.192</td>\n",
              "            </tr>\n",
              "            <tr>\n",
              "                        <th id=\"T_e46bdfb4_3da0_11eb_92b4_0242ac1c0002level0_row2\" class=\"row_heading level0 row2\" >Ash</th>\n",
              "                        <td id=\"T_e46bdfb4_3da0_11eb_92b4_0242ac1c0002row2_col0\" class=\"data row2 col0\" >0.212</td>\n",
              "                        <td id=\"T_e46bdfb4_3da0_11eb_92b4_0242ac1c0002row2_col1\" class=\"data row2 col1\" >0.164</td>\n",
              "                        <td id=\"T_e46bdfb4_3da0_11eb_92b4_0242ac1c0002row2_col2\" class=\"data row2 col2\" >1.000</td>\n",
              "                        <td id=\"T_e46bdfb4_3da0_11eb_92b4_0242ac1c0002row2_col3\" class=\"data row2 col3\" >0.443</td>\n",
              "                        <td id=\"T_e46bdfb4_3da0_11eb_92b4_0242ac1c0002row2_col4\" class=\"data row2 col4\" >0.287</td>\n",
              "                        <td id=\"T_e46bdfb4_3da0_11eb_92b4_0242ac1c0002row2_col5\" class=\"data row2 col5\" >0.129</td>\n",
              "                        <td id=\"T_e46bdfb4_3da0_11eb_92b4_0242ac1c0002row2_col6\" class=\"data row2 col6\" >0.115</td>\n",
              "                        <td id=\"T_e46bdfb4_3da0_11eb_92b4_0242ac1c0002row2_col7\" class=\"data row2 col7\" >0.186</td>\n",
              "                        <td id=\"T_e46bdfb4_3da0_11eb_92b4_0242ac1c0002row2_col8\" class=\"data row2 col8\" >0.010</td>\n",
              "                        <td id=\"T_e46bdfb4_3da0_11eb_92b4_0242ac1c0002row2_col9\" class=\"data row2 col9\" >0.259</td>\n",
              "                        <td id=\"T_e46bdfb4_3da0_11eb_92b4_0242ac1c0002row2_col10\" class=\"data row2 col10\" >-0.075</td>\n",
              "                        <td id=\"T_e46bdfb4_3da0_11eb_92b4_0242ac1c0002row2_col11\" class=\"data row2 col11\" >0.004</td>\n",
              "                        <td id=\"T_e46bdfb4_3da0_11eb_92b4_0242ac1c0002row2_col12\" class=\"data row2 col12\" >0.224</td>\n",
              "            </tr>\n",
              "            <tr>\n",
              "                        <th id=\"T_e46bdfb4_3da0_11eb_92b4_0242ac1c0002level0_row3\" class=\"row_heading level0 row3\" >Alcalinity_of_ash</th>\n",
              "                        <td id=\"T_e46bdfb4_3da0_11eb_92b4_0242ac1c0002row3_col0\" class=\"data row3 col0\" >-0.310</td>\n",
              "                        <td id=\"T_e46bdfb4_3da0_11eb_92b4_0242ac1c0002row3_col1\" class=\"data row3 col1\" >0.289</td>\n",
              "                        <td id=\"T_e46bdfb4_3da0_11eb_92b4_0242ac1c0002row3_col2\" class=\"data row3 col2\" >0.443</td>\n",
              "                        <td id=\"T_e46bdfb4_3da0_11eb_92b4_0242ac1c0002row3_col3\" class=\"data row3 col3\" >1.000</td>\n",
              "                        <td id=\"T_e46bdfb4_3da0_11eb_92b4_0242ac1c0002row3_col4\" class=\"data row3 col4\" >-0.083</td>\n",
              "                        <td id=\"T_e46bdfb4_3da0_11eb_92b4_0242ac1c0002row3_col5\" class=\"data row3 col5\" >-0.321</td>\n",
              "                        <td id=\"T_e46bdfb4_3da0_11eb_92b4_0242ac1c0002row3_col6\" class=\"data row3 col6\" >-0.351</td>\n",
              "                        <td id=\"T_e46bdfb4_3da0_11eb_92b4_0242ac1c0002row3_col7\" class=\"data row3 col7\" >0.362</td>\n",
              "                        <td id=\"T_e46bdfb4_3da0_11eb_92b4_0242ac1c0002row3_col8\" class=\"data row3 col8\" >-0.197</td>\n",
              "                        <td id=\"T_e46bdfb4_3da0_11eb_92b4_0242ac1c0002row3_col9\" class=\"data row3 col9\" >0.019</td>\n",
              "                        <td id=\"T_e46bdfb4_3da0_11eb_92b4_0242ac1c0002row3_col10\" class=\"data row3 col10\" >-0.274</td>\n",
              "                        <td id=\"T_e46bdfb4_3da0_11eb_92b4_0242ac1c0002row3_col11\" class=\"data row3 col11\" >-0.277</td>\n",
              "                        <td id=\"T_e46bdfb4_3da0_11eb_92b4_0242ac1c0002row3_col12\" class=\"data row3 col12\" >-0.441</td>\n",
              "            </tr>\n",
              "            <tr>\n",
              "                        <th id=\"T_e46bdfb4_3da0_11eb_92b4_0242ac1c0002level0_row4\" class=\"row_heading level0 row4\" >Magnesium</th>\n",
              "                        <td id=\"T_e46bdfb4_3da0_11eb_92b4_0242ac1c0002row4_col0\" class=\"data row4 col0\" >0.271</td>\n",
              "                        <td id=\"T_e46bdfb4_3da0_11eb_92b4_0242ac1c0002row4_col1\" class=\"data row4 col1\" >-0.055</td>\n",
              "                        <td id=\"T_e46bdfb4_3da0_11eb_92b4_0242ac1c0002row4_col2\" class=\"data row4 col2\" >0.287</td>\n",
              "                        <td id=\"T_e46bdfb4_3da0_11eb_92b4_0242ac1c0002row4_col3\" class=\"data row4 col3\" >-0.083</td>\n",
              "                        <td id=\"T_e46bdfb4_3da0_11eb_92b4_0242ac1c0002row4_col4\" class=\"data row4 col4\" >1.000</td>\n",
              "                        <td id=\"T_e46bdfb4_3da0_11eb_92b4_0242ac1c0002row4_col5\" class=\"data row4 col5\" >0.214</td>\n",
              "                        <td id=\"T_e46bdfb4_3da0_11eb_92b4_0242ac1c0002row4_col6\" class=\"data row4 col6\" >0.196</td>\n",
              "                        <td id=\"T_e46bdfb4_3da0_11eb_92b4_0242ac1c0002row4_col7\" class=\"data row4 col7\" >-0.256</td>\n",
              "                        <td id=\"T_e46bdfb4_3da0_11eb_92b4_0242ac1c0002row4_col8\" class=\"data row4 col8\" >0.236</td>\n",
              "                        <td id=\"T_e46bdfb4_3da0_11eb_92b4_0242ac1c0002row4_col9\" class=\"data row4 col9\" >0.200</td>\n",
              "                        <td id=\"T_e46bdfb4_3da0_11eb_92b4_0242ac1c0002row4_col10\" class=\"data row4 col10\" >0.055</td>\n",
              "                        <td id=\"T_e46bdfb4_3da0_11eb_92b4_0242ac1c0002row4_col11\" class=\"data row4 col11\" >0.066</td>\n",
              "                        <td id=\"T_e46bdfb4_3da0_11eb_92b4_0242ac1c0002row4_col12\" class=\"data row4 col12\" >0.393</td>\n",
              "            </tr>\n",
              "            <tr>\n",
              "                        <th id=\"T_e46bdfb4_3da0_11eb_92b4_0242ac1c0002level0_row5\" class=\"row_heading level0 row5\" >Total_phenols</th>\n",
              "                        <td id=\"T_e46bdfb4_3da0_11eb_92b4_0242ac1c0002row5_col0\" class=\"data row5 col0\" >0.289</td>\n",
              "                        <td id=\"T_e46bdfb4_3da0_11eb_92b4_0242ac1c0002row5_col1\" class=\"data row5 col1\" >-0.335</td>\n",
              "                        <td id=\"T_e46bdfb4_3da0_11eb_92b4_0242ac1c0002row5_col2\" class=\"data row5 col2\" >0.129</td>\n",
              "                        <td id=\"T_e46bdfb4_3da0_11eb_92b4_0242ac1c0002row5_col3\" class=\"data row5 col3\" >-0.321</td>\n",
              "                        <td id=\"T_e46bdfb4_3da0_11eb_92b4_0242ac1c0002row5_col4\" class=\"data row5 col4\" >0.214</td>\n",
              "                        <td id=\"T_e46bdfb4_3da0_11eb_92b4_0242ac1c0002row5_col5\" class=\"data row5 col5\" >1.000</td>\n",
              "                        <td id=\"T_e46bdfb4_3da0_11eb_92b4_0242ac1c0002row5_col6\" class=\"data row5 col6\" >0.865</td>\n",
              "                        <td id=\"T_e46bdfb4_3da0_11eb_92b4_0242ac1c0002row5_col7\" class=\"data row5 col7\" >-0.450</td>\n",
              "                        <td id=\"T_e46bdfb4_3da0_11eb_92b4_0242ac1c0002row5_col8\" class=\"data row5 col8\" >0.612</td>\n",
              "                        <td id=\"T_e46bdfb4_3da0_11eb_92b4_0242ac1c0002row5_col9\" class=\"data row5 col9\" >-0.055</td>\n",
              "                        <td id=\"T_e46bdfb4_3da0_11eb_92b4_0242ac1c0002row5_col10\" class=\"data row5 col10\" >0.434</td>\n",
              "                        <td id=\"T_e46bdfb4_3da0_11eb_92b4_0242ac1c0002row5_col11\" class=\"data row5 col11\" >0.700</td>\n",
              "                        <td id=\"T_e46bdfb4_3da0_11eb_92b4_0242ac1c0002row5_col12\" class=\"data row5 col12\" >0.498</td>\n",
              "            </tr>\n",
              "            <tr>\n",
              "                        <th id=\"T_e46bdfb4_3da0_11eb_92b4_0242ac1c0002level0_row6\" class=\"row_heading level0 row6\" >Flavanoids</th>\n",
              "                        <td id=\"T_e46bdfb4_3da0_11eb_92b4_0242ac1c0002row6_col0\" class=\"data row6 col0\" >0.237</td>\n",
              "                        <td id=\"T_e46bdfb4_3da0_11eb_92b4_0242ac1c0002row6_col1\" class=\"data row6 col1\" >-0.411</td>\n",
              "                        <td id=\"T_e46bdfb4_3da0_11eb_92b4_0242ac1c0002row6_col2\" class=\"data row6 col2\" >0.115</td>\n",
              "                        <td id=\"T_e46bdfb4_3da0_11eb_92b4_0242ac1c0002row6_col3\" class=\"data row6 col3\" >-0.351</td>\n",
              "                        <td id=\"T_e46bdfb4_3da0_11eb_92b4_0242ac1c0002row6_col4\" class=\"data row6 col4\" >0.196</td>\n",
              "                        <td id=\"T_e46bdfb4_3da0_11eb_92b4_0242ac1c0002row6_col5\" class=\"data row6 col5\" >0.865</td>\n",
              "                        <td id=\"T_e46bdfb4_3da0_11eb_92b4_0242ac1c0002row6_col6\" class=\"data row6 col6\" >1.000</td>\n",
              "                        <td id=\"T_e46bdfb4_3da0_11eb_92b4_0242ac1c0002row6_col7\" class=\"data row6 col7\" >-0.538</td>\n",
              "                        <td id=\"T_e46bdfb4_3da0_11eb_92b4_0242ac1c0002row6_col8\" class=\"data row6 col8\" >0.653</td>\n",
              "                        <td id=\"T_e46bdfb4_3da0_11eb_92b4_0242ac1c0002row6_col9\" class=\"data row6 col9\" >-0.172</td>\n",
              "                        <td id=\"T_e46bdfb4_3da0_11eb_92b4_0242ac1c0002row6_col10\" class=\"data row6 col10\" >0.543</td>\n",
              "                        <td id=\"T_e46bdfb4_3da0_11eb_92b4_0242ac1c0002row6_col11\" class=\"data row6 col11\" >0.787</td>\n",
              "                        <td id=\"T_e46bdfb4_3da0_11eb_92b4_0242ac1c0002row6_col12\" class=\"data row6 col12\" >0.494</td>\n",
              "            </tr>\n",
              "            <tr>\n",
              "                        <th id=\"T_e46bdfb4_3da0_11eb_92b4_0242ac1c0002level0_row7\" class=\"row_heading level0 row7\" >Nonflavanoid_phenols</th>\n",
              "                        <td id=\"T_e46bdfb4_3da0_11eb_92b4_0242ac1c0002row7_col0\" class=\"data row7 col0\" >-0.156</td>\n",
              "                        <td id=\"T_e46bdfb4_3da0_11eb_92b4_0242ac1c0002row7_col1\" class=\"data row7 col1\" >0.293</td>\n",
              "                        <td id=\"T_e46bdfb4_3da0_11eb_92b4_0242ac1c0002row7_col2\" class=\"data row7 col2\" >0.186</td>\n",
              "                        <td id=\"T_e46bdfb4_3da0_11eb_92b4_0242ac1c0002row7_col3\" class=\"data row7 col3\" >0.362</td>\n",
              "                        <td id=\"T_e46bdfb4_3da0_11eb_92b4_0242ac1c0002row7_col4\" class=\"data row7 col4\" >-0.256</td>\n",
              "                        <td id=\"T_e46bdfb4_3da0_11eb_92b4_0242ac1c0002row7_col5\" class=\"data row7 col5\" >-0.450</td>\n",
              "                        <td id=\"T_e46bdfb4_3da0_11eb_92b4_0242ac1c0002row7_col6\" class=\"data row7 col6\" >-0.538</td>\n",
              "                        <td id=\"T_e46bdfb4_3da0_11eb_92b4_0242ac1c0002row7_col7\" class=\"data row7 col7\" >1.000</td>\n",
              "                        <td id=\"T_e46bdfb4_3da0_11eb_92b4_0242ac1c0002row7_col8\" class=\"data row7 col8\" >-0.366</td>\n",
              "                        <td id=\"T_e46bdfb4_3da0_11eb_92b4_0242ac1c0002row7_col9\" class=\"data row7 col9\" >0.139</td>\n",
              "                        <td id=\"T_e46bdfb4_3da0_11eb_92b4_0242ac1c0002row7_col10\" class=\"data row7 col10\" >-0.263</td>\n",
              "                        <td id=\"T_e46bdfb4_3da0_11eb_92b4_0242ac1c0002row7_col11\" class=\"data row7 col11\" >-0.503</td>\n",
              "                        <td id=\"T_e46bdfb4_3da0_11eb_92b4_0242ac1c0002row7_col12\" class=\"data row7 col12\" >-0.311</td>\n",
              "            </tr>\n",
              "            <tr>\n",
              "                        <th id=\"T_e46bdfb4_3da0_11eb_92b4_0242ac1c0002level0_row8\" class=\"row_heading level0 row8\" >Proanthocyanins</th>\n",
              "                        <td id=\"T_e46bdfb4_3da0_11eb_92b4_0242ac1c0002row8_col0\" class=\"data row8 col0\" >0.137</td>\n",
              "                        <td id=\"T_e46bdfb4_3da0_11eb_92b4_0242ac1c0002row8_col1\" class=\"data row8 col1\" >-0.221</td>\n",
              "                        <td id=\"T_e46bdfb4_3da0_11eb_92b4_0242ac1c0002row8_col2\" class=\"data row8 col2\" >0.010</td>\n",
              "                        <td id=\"T_e46bdfb4_3da0_11eb_92b4_0242ac1c0002row8_col3\" class=\"data row8 col3\" >-0.197</td>\n",
              "                        <td id=\"T_e46bdfb4_3da0_11eb_92b4_0242ac1c0002row8_col4\" class=\"data row8 col4\" >0.236</td>\n",
              "                        <td id=\"T_e46bdfb4_3da0_11eb_92b4_0242ac1c0002row8_col5\" class=\"data row8 col5\" >0.612</td>\n",
              "                        <td id=\"T_e46bdfb4_3da0_11eb_92b4_0242ac1c0002row8_col6\" class=\"data row8 col6\" >0.653</td>\n",
              "                        <td id=\"T_e46bdfb4_3da0_11eb_92b4_0242ac1c0002row8_col7\" class=\"data row8 col7\" >-0.366</td>\n",
              "                        <td id=\"T_e46bdfb4_3da0_11eb_92b4_0242ac1c0002row8_col8\" class=\"data row8 col8\" >1.000</td>\n",
              "                        <td id=\"T_e46bdfb4_3da0_11eb_92b4_0242ac1c0002row8_col9\" class=\"data row8 col9\" >-0.025</td>\n",
              "                        <td id=\"T_e46bdfb4_3da0_11eb_92b4_0242ac1c0002row8_col10\" class=\"data row8 col10\" >0.296</td>\n",
              "                        <td id=\"T_e46bdfb4_3da0_11eb_92b4_0242ac1c0002row8_col11\" class=\"data row8 col11\" >0.519</td>\n",
              "                        <td id=\"T_e46bdfb4_3da0_11eb_92b4_0242ac1c0002row8_col12\" class=\"data row8 col12\" >0.330</td>\n",
              "            </tr>\n",
              "            <tr>\n",
              "                        <th id=\"T_e46bdfb4_3da0_11eb_92b4_0242ac1c0002level0_row9\" class=\"row_heading level0 row9\" >Color_intensity</th>\n",
              "                        <td id=\"T_e46bdfb4_3da0_11eb_92b4_0242ac1c0002row9_col0\" class=\"data row9 col0\" >0.546</td>\n",
              "                        <td id=\"T_e46bdfb4_3da0_11eb_92b4_0242ac1c0002row9_col1\" class=\"data row9 col1\" >0.249</td>\n",
              "                        <td id=\"T_e46bdfb4_3da0_11eb_92b4_0242ac1c0002row9_col2\" class=\"data row9 col2\" >0.259</td>\n",
              "                        <td id=\"T_e46bdfb4_3da0_11eb_92b4_0242ac1c0002row9_col3\" class=\"data row9 col3\" >0.019</td>\n",
              "                        <td id=\"T_e46bdfb4_3da0_11eb_92b4_0242ac1c0002row9_col4\" class=\"data row9 col4\" >0.200</td>\n",
              "                        <td id=\"T_e46bdfb4_3da0_11eb_92b4_0242ac1c0002row9_col5\" class=\"data row9 col5\" >-0.055</td>\n",
              "                        <td id=\"T_e46bdfb4_3da0_11eb_92b4_0242ac1c0002row9_col6\" class=\"data row9 col6\" >-0.172</td>\n",
              "                        <td id=\"T_e46bdfb4_3da0_11eb_92b4_0242ac1c0002row9_col7\" class=\"data row9 col7\" >0.139</td>\n",
              "                        <td id=\"T_e46bdfb4_3da0_11eb_92b4_0242ac1c0002row9_col8\" class=\"data row9 col8\" >-0.025</td>\n",
              "                        <td id=\"T_e46bdfb4_3da0_11eb_92b4_0242ac1c0002row9_col9\" class=\"data row9 col9\" >1.000</td>\n",
              "                        <td id=\"T_e46bdfb4_3da0_11eb_92b4_0242ac1c0002row9_col10\" class=\"data row9 col10\" >-0.522</td>\n",
              "                        <td id=\"T_e46bdfb4_3da0_11eb_92b4_0242ac1c0002row9_col11\" class=\"data row9 col11\" >-0.429</td>\n",
              "                        <td id=\"T_e46bdfb4_3da0_11eb_92b4_0242ac1c0002row9_col12\" class=\"data row9 col12\" >0.316</td>\n",
              "            </tr>\n",
              "            <tr>\n",
              "                        <th id=\"T_e46bdfb4_3da0_11eb_92b4_0242ac1c0002level0_row10\" class=\"row_heading level0 row10\" >Hue</th>\n",
              "                        <td id=\"T_e46bdfb4_3da0_11eb_92b4_0242ac1c0002row10_col0\" class=\"data row10 col0\" >-0.072</td>\n",
              "                        <td id=\"T_e46bdfb4_3da0_11eb_92b4_0242ac1c0002row10_col1\" class=\"data row10 col1\" >-0.561</td>\n",
              "                        <td id=\"T_e46bdfb4_3da0_11eb_92b4_0242ac1c0002row10_col2\" class=\"data row10 col2\" >-0.075</td>\n",
              "                        <td id=\"T_e46bdfb4_3da0_11eb_92b4_0242ac1c0002row10_col3\" class=\"data row10 col3\" >-0.274</td>\n",
              "                        <td id=\"T_e46bdfb4_3da0_11eb_92b4_0242ac1c0002row10_col4\" class=\"data row10 col4\" >0.055</td>\n",
              "                        <td id=\"T_e46bdfb4_3da0_11eb_92b4_0242ac1c0002row10_col5\" class=\"data row10 col5\" >0.434</td>\n",
              "                        <td id=\"T_e46bdfb4_3da0_11eb_92b4_0242ac1c0002row10_col6\" class=\"data row10 col6\" >0.543</td>\n",
              "                        <td id=\"T_e46bdfb4_3da0_11eb_92b4_0242ac1c0002row10_col7\" class=\"data row10 col7\" >-0.263</td>\n",
              "                        <td id=\"T_e46bdfb4_3da0_11eb_92b4_0242ac1c0002row10_col8\" class=\"data row10 col8\" >0.296</td>\n",
              "                        <td id=\"T_e46bdfb4_3da0_11eb_92b4_0242ac1c0002row10_col9\" class=\"data row10 col9\" >-0.522</td>\n",
              "                        <td id=\"T_e46bdfb4_3da0_11eb_92b4_0242ac1c0002row10_col10\" class=\"data row10 col10\" >1.000</td>\n",
              "                        <td id=\"T_e46bdfb4_3da0_11eb_92b4_0242ac1c0002row10_col11\" class=\"data row10 col11\" >0.565</td>\n",
              "                        <td id=\"T_e46bdfb4_3da0_11eb_92b4_0242ac1c0002row10_col12\" class=\"data row10 col12\" >0.236</td>\n",
              "            </tr>\n",
              "            <tr>\n",
              "                        <th id=\"T_e46bdfb4_3da0_11eb_92b4_0242ac1c0002level0_row11\" class=\"row_heading level0 row11\" >OD280/OD315_of_diluted_wines</th>\n",
              "                        <td id=\"T_e46bdfb4_3da0_11eb_92b4_0242ac1c0002row11_col0\" class=\"data row11 col0\" >0.072</td>\n",
              "                        <td id=\"T_e46bdfb4_3da0_11eb_92b4_0242ac1c0002row11_col1\" class=\"data row11 col1\" >-0.369</td>\n",
              "                        <td id=\"T_e46bdfb4_3da0_11eb_92b4_0242ac1c0002row11_col2\" class=\"data row11 col2\" >0.004</td>\n",
              "                        <td id=\"T_e46bdfb4_3da0_11eb_92b4_0242ac1c0002row11_col3\" class=\"data row11 col3\" >-0.277</td>\n",
              "                        <td id=\"T_e46bdfb4_3da0_11eb_92b4_0242ac1c0002row11_col4\" class=\"data row11 col4\" >0.066</td>\n",
              "                        <td id=\"T_e46bdfb4_3da0_11eb_92b4_0242ac1c0002row11_col5\" class=\"data row11 col5\" >0.700</td>\n",
              "                        <td id=\"T_e46bdfb4_3da0_11eb_92b4_0242ac1c0002row11_col6\" class=\"data row11 col6\" >0.787</td>\n",
              "                        <td id=\"T_e46bdfb4_3da0_11eb_92b4_0242ac1c0002row11_col7\" class=\"data row11 col7\" >-0.503</td>\n",
              "                        <td id=\"T_e46bdfb4_3da0_11eb_92b4_0242ac1c0002row11_col8\" class=\"data row11 col8\" >0.519</td>\n",
              "                        <td id=\"T_e46bdfb4_3da0_11eb_92b4_0242ac1c0002row11_col9\" class=\"data row11 col9\" >-0.429</td>\n",
              "                        <td id=\"T_e46bdfb4_3da0_11eb_92b4_0242ac1c0002row11_col10\" class=\"data row11 col10\" >0.565</td>\n",
              "                        <td id=\"T_e46bdfb4_3da0_11eb_92b4_0242ac1c0002row11_col11\" class=\"data row11 col11\" >1.000</td>\n",
              "                        <td id=\"T_e46bdfb4_3da0_11eb_92b4_0242ac1c0002row11_col12\" class=\"data row11 col12\" >0.313</td>\n",
              "            </tr>\n",
              "            <tr>\n",
              "                        <th id=\"T_e46bdfb4_3da0_11eb_92b4_0242ac1c0002level0_row12\" class=\"row_heading level0 row12\" >Proline</th>\n",
              "                        <td id=\"T_e46bdfb4_3da0_11eb_92b4_0242ac1c0002row12_col0\" class=\"data row12 col0\" >0.644</td>\n",
              "                        <td id=\"T_e46bdfb4_3da0_11eb_92b4_0242ac1c0002row12_col1\" class=\"data row12 col1\" >-0.192</td>\n",
              "                        <td id=\"T_e46bdfb4_3da0_11eb_92b4_0242ac1c0002row12_col2\" class=\"data row12 col2\" >0.224</td>\n",
              "                        <td id=\"T_e46bdfb4_3da0_11eb_92b4_0242ac1c0002row12_col3\" class=\"data row12 col3\" >-0.441</td>\n",
              "                        <td id=\"T_e46bdfb4_3da0_11eb_92b4_0242ac1c0002row12_col4\" class=\"data row12 col4\" >0.393</td>\n",
              "                        <td id=\"T_e46bdfb4_3da0_11eb_92b4_0242ac1c0002row12_col5\" class=\"data row12 col5\" >0.498</td>\n",
              "                        <td id=\"T_e46bdfb4_3da0_11eb_92b4_0242ac1c0002row12_col6\" class=\"data row12 col6\" >0.494</td>\n",
              "                        <td id=\"T_e46bdfb4_3da0_11eb_92b4_0242ac1c0002row12_col7\" class=\"data row12 col7\" >-0.311</td>\n",
              "                        <td id=\"T_e46bdfb4_3da0_11eb_92b4_0242ac1c0002row12_col8\" class=\"data row12 col8\" >0.330</td>\n",
              "                        <td id=\"T_e46bdfb4_3da0_11eb_92b4_0242ac1c0002row12_col9\" class=\"data row12 col9\" >0.316</td>\n",
              "                        <td id=\"T_e46bdfb4_3da0_11eb_92b4_0242ac1c0002row12_col10\" class=\"data row12 col10\" >0.236</td>\n",
              "                        <td id=\"T_e46bdfb4_3da0_11eb_92b4_0242ac1c0002row12_col11\" class=\"data row12 col11\" >0.313</td>\n",
              "                        <td id=\"T_e46bdfb4_3da0_11eb_92b4_0242ac1c0002row12_col12\" class=\"data row12 col12\" >1.000</td>\n",
              "            </tr>\n",
              "    </tbody></table>"
            ],
            "text/plain": [
              "<pandas.io.formats.style.Styler at 0x7f98c6ff75c0>"
            ]
          },
          "metadata": {
            "tags": []
          },
          "execution_count": 80
        }
      ]
    },
    {
      "cell_type": "markdown",
      "metadata": {
        "id": "m3Qzt3zHRfCt"
      },
      "source": [
        "###Outiliers:\n",
        "\n",
        "Outliers são dados que basicamente mantêm distância de todos os outros pontos. São pontos fora do normal, cujos valores estão fora da faixa normal e podem causar resultados desequilibrados. O conjunto de dados pode conter um ou mais outliers. A influência dos outliers é quase um efeito borboleta, pequenos erros se espalharão, se não forem tratados corretamente, causarão problemas e anormalidades. Na análise estatística, a influência de outliers é fácil de observar. Foi verificado que o **Magnesium** tem mais ocorrências de outliers."
      ]
    },
    {
      "cell_type": "code",
      "metadata": {
        "colab": {
          "base_uri": "https://localhost:8080/",
          "height": 689
        },
        "id": "YATyQ5RSSdhi",
        "outputId": "257b26a6-2b7c-4ae4-f4df-68b13b1b197a"
      },
      "source": [
        "data_set.boxplot(figsize=(26,20))"
      ],
      "execution_count": null,
      "outputs": [
        {
          "output_type": "execute_result",
          "data": {
            "text/plain": [
              "<matplotlib.axes._subplots.AxesSubplot at 0x7f98c7939be0>"
            ]
          },
          "metadata": {
            "tags": []
          },
          "execution_count": 74
        },
        {
          "output_type": "display_data",
          "data": {
            "image/png": "[encoded data removed]",
            "text/plain": [
              "<Figure size 1872x1440 with 1 Axes>"
            ]
          },
          "metadata": {
            "tags": []
          }
        }
      ]
    },
    {
      "cell_type": "markdown",
      "metadata": {
        "id": "DWzSt5Xd8VPB"
      },
      "source": [
        "###Normalização da Base\n",
        "\n",
        "Para a normalização da base foi escolhido o MinMaxScaler que é um método alternativo de escalonamento de dados. A diferença é que atua sobre colunas, o que irá gerar um novo escalonamento entre 0 e 1 ( Se houver um valor negativo no conjunto de dados, ele está entre -1 e 1). É importante que se a distribuição de dados for anormal e o desvio padrão for pequeno, essa técnica funcione melhor. Além disso, MinMaxScaler não pode reduzir efetivamente a influência de outliers e também pode reter a distribuição original."
      ]
    },
    {
      "cell_type": "code",
      "metadata": {
        "id": "EsE2X2ZHTlfz"
      },
      "source": [
        "MinMaxScaler = MinMaxScaler()\n",
        "MinMaxScaler.fit(dataset)\n",
        "data_set_normalized = MinMaxScaler.transform(dataset)"
      ],
      "execution_count": null,
      "outputs": []
    },
    {
      "cell_type": "markdown",
      "metadata": {
        "id": "Vr4fXRC-3y12"
      },
      "source": [
        ""
      ]
    },
    {
      "cell_type": "markdown",
      "metadata": {
        "id": "ZpbRaZ_Bg7j4"
      },
      "source": [
        "##**Algoritmo de aprendizagem não supervisionado:**\n",
        "\n",
        "Foram escolhidos 2 algoritmos não supervisionados para está questão:\n",
        "*  K-means;\n",
        "* Hierárquico."
      ]
    },
    {
      "cell_type": "markdown",
      "metadata": {
        "id": "_6LQgbuY4_VY"
      },
      "source": [
        "###**K-means**\n",
        "\n",
        "K-Means é um algoritmo de agrupamento disponível na biblioteca Scikit-Learn. É um algoritmo de aprendizagem não supervisionado (ou seja, nenhuma entrada de confirmação externa é necessária), que pode avaliar e agrupar dados de acordo com suas características."
      ]
    },
    {
      "cell_type": "code",
      "metadata": {
        "id": "00ZOQQam76EZ"
      },
      "source": [
        "kmeans = KMeans(n_clusters=5, random_state=0)"
      ],
      "execution_count": null,
      "outputs": []
    },
    {
      "cell_type": "code",
      "metadata": {
        "id": "-I_py8XXUOGJ"
      },
      "source": [
        "def plot_clustering(data, labels, title=None):\n",
        "    x_min, x_max = np.min(data, axis=0), np.max(data, axis=0)\n",
        "    data = (data - x_min) / (x_max - x_min)\n",
        "    fig = plt.figure(1, figsize=(4, 3))\n",
        "    plt.figure(figsize=(6, 4))\n",
        "    plt.scatter(data[:, 0], data[:, 1],\n",
        "                 c=labels.astype(np.float))\n",
        "    \n",
        "    if title is not None:\n",
        "        plt.title(title, size=17)\n",
        "    \n",
        "    plt.tight_layout(rect=[0, 0.03, 1, 0.95])\n",
        "\n"
      ],
      "execution_count": null,
      "outputs": []
    },
    {
      "cell_type": "markdown",
      "metadata": {
        "id": "OkFbM7gF4U7Z"
      },
      "source": [
        "####Base Normalizada"
      ]
    },
    {
      "cell_type": "code",
      "metadata": {
        "colab": {
          "base_uri": "https://localhost:8080/",
          "height": 291
        },
        "id": "EdCLF6hX4c62",
        "outputId": "8cd6d035-d935-4899-d725-32f586515f7e"
      },
      "source": [
        "kmeans.fit(data_set_normalized)\n",
        "labels = kmeans.labels_\n",
        "\n",
        "plot_clustering(data_set_normalized, labels)\n",
        "\n",
        "plt.show()"
      ],
      "execution_count": null,
      "outputs": [
        {
          "output_type": "display_data",
          "data": {
            "text/plain": [
              "<Figure size 288x216 with 0 Axes>"
            ]
          },
          "metadata": {
            "tags": []
          }
        },
        {
          "output_type": "display_data",
          "data": {
            "image/png": "[encoded data removed]",
            "text/plain": [
              "<Figure size 432x288 with 1 Axes>"
            ]
          },
          "metadata": {
            "tags": []
          }
        }
      ]
    },
    {
      "cell_type": "markdown",
      "metadata": {
        "id": "WhzgJ59j4l1-"
      },
      "source": [
        "####Base Não Normalizada"
      ]
    },
    {
      "cell_type": "code",
      "metadata": {
        "colab": {
          "base_uri": "https://localhost:8080/",
          "height": 291
        },
        "id": "9DRu3Z_2YC2e",
        "outputId": "c3ad3d06-2771-46c9-8b7e-99cf1536a66d"
      },
      "source": [
        "kmeans.fit(data_set_not_normalized)\n",
        "labels = kmeans.labels_\n",
        "\n",
        "plot_clustering(data_set_not_normalized, labels)\n",
        "\n",
        "plt.show()"
      ],
      "execution_count": null,
      "outputs": [
        {
          "output_type": "display_data",
          "data": {
            "text/plain": [
              "<Figure size 288x216 with 0 Axes>"
            ]
          },
          "metadata": {
            "tags": []
          }
        },
        {
          "output_type": "display_data",
          "data": {
            "image/png": "[encoded data removed]",
            "text/plain": [
              "<Figure size 432x288 with 1 Axes>"
            ]
          },
          "metadata": {
            "tags": []
          }
        }
      ]
    },
    {
      "cell_type": "markdown",
      "metadata": {
        "id": "PRW9TDlk5gA-"
      },
      "source": [
        "####Silhueta\n",
        "\n",
        "O método Silhueta se refere a um método de interpretação e verificação da consistência dos conjuntos de dados. Essa tecnologia fornece uma representação gráfica do grau em que cada objeto é classificado. O valor do contorno é uma medida de quão semelhante um objeto é ao seu próprio cluster em comparação com outros clusters.\n",
        "\n",
        "O resultado foi analisado com as **bases normalizadas** e **não normalizadas** com **5 clusters**."
      ]
    },
    {
      "cell_type": "markdown",
      "metadata": {
        "id": "7JcRyMz0sJYd"
      },
      "source": [
        "#####Base Normalizada"
      ]
    },
    {
      "cell_type": "code",
      "metadata": {
        "colab": {
          "base_uri": "https://localhost:8080/"
        },
        "id": "mf_eV2UV5tdO",
        "outputId": "1c2f9985-5fed-4e8c-eadf-41d996ee9ff2"
      },
      "source": [
        "clusterer = KMeans(n_clusters=5, random_state=10)\n",
        "prediction = clusterer.fit_predict(data_set_normalized)\n",
        "\n",
        "silhouette_avg = silhouette_score(data_set_normalized, prediction)\n",
        "silhouette_avg"
      ],
      "execution_count": null,
      "outputs": [
        {
          "output_type": "execute_result",
          "data": {
            "text/plain": [
              "0.21869632088122407"
            ]
          },
          "metadata": {
            "tags": []
          },
          "execution_count": 106
        }
      ]
    },
    {
      "cell_type": "markdown",
      "metadata": {
        "id": "PE6FNusEsPE2"
      },
      "source": [
        "#####Base Não Normalizada"
      ]
    },
    {
      "cell_type": "code",
      "metadata": {
        "colab": {
          "base_uri": "https://localhost:8080/"
        },
        "id": "aw-qRhoJmqzd",
        "outputId": "923c8dcb-d075-4a8a-9631-986fe93a03b7"
      },
      "source": [
        "prediction = clusterer.fit_predict(data_set_not_normalized)\n",
        "\n",
        "silhouette_avg = silhouette_score(data_set_not_normalized, prediction)\n",
        "silhouette_avg"
      ],
      "execution_count": null,
      "outputs": [
        {
          "output_type": "execute_result",
          "data": {
            "text/plain": [
              "0.5489993239795681"
            ]
          },
          "metadata": {
            "tags": []
          },
          "execution_count": 107
        }
      ]
    },
    {
      "cell_type": "markdown",
      "metadata": {
        "id": "enWj2tr0zBkS"
      },
      "source": [
        "###**Hierárquico:**\n",
        "\n",
        "O método de agrupamento hierárquico é um algoritmo de agrupamento de agrupamento hierárquico. Inicie o processo de armazenamento em cluster interpretando cada nó como um cluster separado. Então, em cada etapa do algoritmo, os clusters com menor distância entre si são combinados em pares, reduzindo cada vez mais o número de clusters. Além disso, o modelo hierárquico tbm tem a presença dos dendogramas que é um diagrama de árvore que exibe os grupos formados por agrupamento de observações em cada passo e em seus níveis de similaridade. O nível de similaridade é medido ao longo do eixo vertical (alternativamente, você pode exibir o nível de distância) e as diferentes observações são listadas ao longo do eixo horizontal. "
      ]
    },
    {
      "cell_type": "markdown",
      "metadata": {
        "id": "0YVGzT0usXEm"
      },
      "source": [
        "####Dendograma com Base Normalizada"
      ]
    },
    {
      "cell_type": "code",
      "metadata": {
        "id": "B5mIRgnPz-W5",
        "colab": {
          "base_uri": "https://localhost:8080/",
          "height": 499
        },
        "outputId": "5bce7dd1-6de3-4d6b-e3a2-43897ffe9cfe"
      },
      "source": [
        "plt.figure(figsize=(12,8))\n",
        "plt.title(\"Dendrogram\")\n",
        "Dendogram = shc.dendrogram(shc.linkage(data_set_normalized, method='ward'))"
      ],
      "execution_count": null,
      "outputs": [
        {
          "output_type": "display_data",
          "data": {
            "image/png": "[encoded data removed]",
            "text/plain": [
              "<Figure size 864x576 with 1 Axes>"
            ]
          },
          "metadata": {
            "tags": []
          }
        }
      ]
    },
    {
      "cell_type": "code",
      "metadata": {
        "id": "5OLT2pDX2Xvz"
      },
      "source": [
        "cluster = AgglomerativeClustering(n_clusters=5, affinity='euclidean', linkage='ward')\n",
        "prediction = cluster.fit_predict(data_set_normalized)"
      ],
      "execution_count": null,
      "outputs": []
    },
    {
      "cell_type": "markdown",
      "metadata": {
        "id": "6lIoKIiMskSM"
      },
      "source": [
        "####Sihueta"
      ]
    },
    {
      "cell_type": "markdown",
      "metadata": {
        "id": "UPh6_AzCnWW9"
      },
      "source": [
        "#####Base Normalizada"
      ]
    },
    {
      "cell_type": "code",
      "metadata": {
        "colab": {
          "base_uri": "https://localhost:8080/",
          "height": 282
        },
        "id": "4uPno1IxnWkX",
        "outputId": "1227ae28-3b37-4d54-ff76-56167467e4d1"
      },
      "source": [
        "silhouette_avg = silhouette_score(data_set_normalized, prediction)\n",
        "\n",
        "plt.figure(figsize=(6, 4))\n",
        "plt.scatter(data_set_normalized[:,0], data_set_normalized[:,1], c=cluster.labels_)\n",
        "\n",
        "silhouette_avg\n",
        "\n"
      ],
      "execution_count": null,
      "outputs": [
        {
          "output_type": "execute_result",
          "data": {
            "text/plain": [
              "0.20415379209163975"
            ]
          },
          "metadata": {
            "tags": []
          },
          "execution_count": 111
        },
        {
          "output_type": "display_data",
          "data": {
            "image/png": "[encoded data removed]",
            "text/plain": [
              "<Figure size 432x288 with 1 Axes>"
            ]
          },
          "metadata": {
            "tags": []
          }
        }
      ]
    },
    {
      "cell_type": "markdown",
      "metadata": {
        "id": "7OUJ-ayYnWta"
      },
      "source": [
        "#####Base Não Normalizada"
      ]
    },
    {
      "cell_type": "code",
      "metadata": {
        "colab": {
          "base_uri": "https://localhost:8080/",
          "height": 284
        },
        "id": "gFtcA0jbnW7L",
        "outputId": "820688e4-d761-4622-fbf8-0f44163f8811"
      },
      "source": [
        "silhouette_avg = silhouette_score(data_set_not_normalized, prediction)\n",
        "\n",
        "plt.figure(figsize=(6, 4))\n",
        "plt.scatter(data_set_not_normalized[:,0], data_set_not_normalized[:,1], c=cluster.labels_)\n",
        "\n",
        "silhouette_avg"
      ],
      "execution_count": null,
      "outputs": [
        {
          "output_type": "execute_result",
          "data": {
            "text/plain": [
              "0.04167676895193962"
            ]
          },
          "metadata": {
            "tags": []
          },
          "execution_count": 112
        },
        {
          "output_type": "display_data",
          "data": {
            "image/png": "[encoded data removed]",
            "text/plain": [
              "<Figure size 432x288 with 1 Axes>"
            ]
          },
          "metadata": {
            "tags": []
          }
        }
      ]
    },
    {
      "cell_type": "markdown",
      "metadata": {
        "id": "Jw58z8P8JV8v"
      },
      "source": [
        "O modelo Hierárquico obteve um melhor resultado ao final do processo, tendo valores de agrupamentos dos clusters melhor do que no modelo K-means."
      ]
    }
  ]
}